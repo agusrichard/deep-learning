{
 "cells": [
  {
   "cell_type": "markdown",
   "metadata": {
    "colab_type": "text",
    "id": "Ovl_wj7D7Lkx"
   },
   "source": [
    "# Chapter 2: Doing Math with TensorFlow"
   ]
  },
  {
   "cell_type": "markdown",
   "metadata": {
    "colab_type": "text",
    "id": "w7jm6mK27Wxv"
   },
   "source": [
    "## The tensor data structure"
   ]
  },
  {
   "cell_type": "markdown",
   "metadata": {
    "colab_type": "text",
    "id": "TkzO0Z3c86rX"
   },
   "source": [
    "Tensors are the basic data structures in Tensorflow."
   ]
  },
  {
   "cell_type": "markdown",
   "metadata": {
    "colab_type": "text",
    "id": "GhlQfDgk9KNm"
   },
   "source": [
    "It can be identifid by three parameters: rank, shape and type."
   ]
  },
  {
   "cell_type": "markdown",
   "metadata": {
    "colab_type": "text",
    "id": "3vrTBuY99cL5"
   },
   "source": [
    "- rank: Each tensor is described by a unit of dimensionality called rank. It\n",
    "identifies the number of dimensions of the tensor. For this reason, a rank is\n",
    "known as order or n-dimensions of a tensor (for example, a rank 2 tensor is a\n",
    "matrix and a rank 1 tensor is a vector).\n",
    "- shape: The shape of a tensor is the number of rows and columns it has.\n",
    "- type: It is the data type assigned to the tensor's elements."
   ]
  },
  {
   "cell_type": "markdown",
   "metadata": {
    "colab_type": "text",
    "id": "thGkN5AL-BoY"
   },
   "source": [
    "### One-dimensional tensors"
   ]
  },
  {
   "cell_type": "code",
   "execution_count": null,
   "metadata": {
    "colab": {},
    "colab_type": "code",
    "id": "I_mC1TO7-EyR"
   },
   "outputs": [],
   "source": [
    "import numpy as np\n",
    "import tensorflow as tf"
   ]
  },
  {
   "cell_type": "code",
   "execution_count": 2,
   "metadata": {
    "colab": {
     "base_uri": "https://localhost:8080/",
     "height": 35
    },
    "colab_type": "code",
    "id": "RbHUMkTn-IR8",
    "outputId": "0214ff82-42bf-4dd6-9a09-b2bccb8fb267"
   },
   "outputs": [
    {
     "name": "stdout",
     "output_type": "stream",
     "text": [
      "[3 1 1 7 3 8 6 9 2 8]\n"
     ]
    }
   ],
   "source": [
    "tensor_1d = np.random.randint(0, 10, 10)\n",
    "print(tensor_1d)"
   ]
  },
  {
   "cell_type": "code",
   "execution_count": 3,
   "metadata": {
    "colab": {
     "base_uri": "https://localhost:8080/",
     "height": 35
    },
    "colab_type": "code",
    "id": "6TmRG_xU-Yge",
    "outputId": "1ca2ace8-6592-46f4-b974-c6b4a878ed20"
   },
   "outputs": [
    {
     "data": {
      "text/plain": [
       "1"
      ]
     },
     "execution_count": 3,
     "metadata": {
      "tags": []
     },
     "output_type": "execute_result"
    }
   ],
   "source": [
    "tensor_1d.ndim"
   ]
  },
  {
   "cell_type": "code",
   "execution_count": null,
   "metadata": {
    "colab": {},
    "colab_type": "code",
    "id": "0Wdfuu7F-YP5"
   },
   "outputs": [],
   "source": [
    "# converts the function objects of various types to tensor objects.\n",
    "tf_tensor = tf.convert_to_tensor(tensor_1d, dtype=tf.float64)"
   ]
  },
  {
   "cell_type": "code",
   "execution_count": 5,
   "metadata": {
    "colab": {
     "base_uri": "https://localhost:8080/",
     "height": 35
    },
    "colab_type": "code",
    "id": "yzo_S28W_Nz_",
    "outputId": "41add988-3c97-485f-87e7-81120de13666"
   },
   "outputs": [
    {
     "name": "stdout",
     "output_type": "stream",
     "text": [
      "[3. 1. 1. 7. 3. 8. 6. 9. 2. 8.]\n"
     ]
    }
   ],
   "source": [
    "with tf.Session() as sess:\n",
    "  print(sess.run(tf_tensor))"
   ]
  },
  {
   "cell_type": "markdown",
   "metadata": {
    "colab_type": "text",
    "id": "nRklkvUKBF9k"
   },
   "source": [
    "###  Two-dimensional tensors"
   ]
  },
  {
   "cell_type": "code",
   "execution_count": 6,
   "metadata": {
    "colab": {
     "base_uri": "https://localhost:8080/",
     "height": 90
    },
    "colab_type": "code",
    "id": "PZUSRgncBIqw",
    "outputId": "cd586e37-c141-4a5d-d60d-6a2d777d8da8"
   },
   "outputs": [
    {
     "name": "stdout",
     "output_type": "stream",
     "text": [
      "[[3 1 3 9]\n",
      " [3 2 9 3]\n",
      " [3 3 7 3]\n",
      " [3 9 3 5]]\n"
     ]
    }
   ],
   "source": [
    "tensor_2d = np.random.randint(0, 10, size=(4, 4))\n",
    "print(tensor_2d)"
   ]
  },
  {
   "cell_type": "code",
   "execution_count": 7,
   "metadata": {
    "colab": {
     "base_uri": "https://localhost:8080/",
     "height": 90
    },
    "colab_type": "code",
    "id": "73fz4mNuBeal",
    "outputId": "580f7289-ad84-4338-930e-b9af15c72e30"
   },
   "outputs": [
    {
     "name": "stdout",
     "output_type": "stream",
     "text": [
      "[[3 1 3 9]\n",
      " [3 2 9 3]\n",
      " [3 3 7 3]\n",
      " [3 9 3 5]]\n"
     ]
    }
   ],
   "source": [
    "tensor_2d = tf.convert_to_tensor(tensor_2d)\n",
    "with tf.Session() as sess:\n",
    "  print(sess.run(tensor_2d))"
   ]
  },
  {
   "cell_type": "code",
   "execution_count": 8,
   "metadata": {
    "colab": {
     "base_uri": "https://localhost:8080/",
     "height": 35
    },
    "colab_type": "code",
    "id": "FH2gBztdB_cB",
    "outputId": "aa0cfe6c-bf51-4df8-87e5-3ebcf8dbadb6"
   },
   "outputs": [
    {
     "data": {
      "text/plain": [
       "tensorflow.python.framework.ops.Tensor"
      ]
     },
     "execution_count": 8,
     "metadata": {
      "tags": []
     },
     "output_type": "execute_result"
    }
   ],
   "source": [
    "type(tensor_2d)"
   ]
  },
  {
   "cell_type": "markdown",
   "metadata": {
    "colab_type": "text",
    "id": "gf63gfVICE3q"
   },
   "source": [
    "### Tensor handling"
   ]
  },
  {
   "cell_type": "code",
   "execution_count": null,
   "metadata": {
    "colab": {},
    "colab_type": "code",
    "id": "244IsgHeCU8t"
   },
   "outputs": [],
   "source": [
    "# create two integer arrays using numpy\n",
    "matrix1 = np.random.randint(0, 10, size=(3, 3))\n",
    "matrix2 = np.random.randint(0, 10, size=(3, 3))"
   ]
  },
  {
   "cell_type": "code",
   "execution_count": null,
   "metadata": {
    "colab": {},
    "colab_type": "code",
    "id": "F8HgOuTaCpWu"
   },
   "outputs": [],
   "source": [
    "# to use thes matrices in our tensorflow environment,\n",
    "# we transform the matrices to tensors\n",
    "matrix1 = tf.constant(matrix1)\n",
    "matrix2 = tf.constant(matrix2)"
   ]
  },
  {
   "cell_type": "code",
   "execution_count": 11,
   "metadata": {
    "colab": {
     "base_uri": "https://localhost:8080/",
     "height": 54
    },
    "colab_type": "code",
    "id": "TiS1JI05C_8B",
    "outputId": "c7b588de-94ba-48a7-b399-89e936aa1538"
   },
   "outputs": [
    {
     "name": "stdout",
     "output_type": "stream",
     "text": [
      "<class 'tensorflow.python.framework.ops.Tensor'>\n",
      "<class 'tensorflow.python.framework.ops.Tensor'>\n"
     ]
    }
   ],
   "source": [
    "print(type(matrix1))\n",
    "print(type(matrix2))"
   ]
  },
  {
   "cell_type": "code",
   "execution_count": null,
   "metadata": {
    "colab": {},
    "colab_type": "code",
    "id": "saHhRRyjDFS-"
   },
   "outputs": [],
   "source": [
    "# matrix multiplication\n",
    "matrix_product = tf.matmul(matrix1, matrix2)\n",
    "# matrix addition\n",
    "matrix_sum = tf.add(matrix1, matrix2)"
   ]
  },
  {
   "cell_type": "code",
   "execution_count": null,
   "metadata": {
    "colab": {},
    "colab_type": "code",
    "id": "XgrGTXUFDWEu"
   },
   "outputs": [],
   "source": [
    "# compute matrix determinant\n",
    "matrix3 = np.random.randint(0, 10, (3, 3))\n",
    "matrix3 = tf.convert_to_tensor(matrix3, dtype=tf.float64)\n",
    "matrix_det = tf.matrix_determinant(matrix3)"
   ]
  },
  {
   "cell_type": "code",
   "execution_count": 14,
   "metadata": {
    "colab": {
     "base_uri": "https://localhost:8080/",
     "height": 146
    },
    "colab_type": "code",
    "id": "txmYd5JTD_xs",
    "outputId": "bf1f1f33-03e6-4345-c872-9352e3bec8a7"
   },
   "outputs": [
    {
     "name": "stdout",
     "output_type": "stream",
     "text": [
      "[[32 82 90]\n",
      " [30 79 84]\n",
      " [24 45 81]]\n",
      "[[ 8 16  5]\n",
      " [ 9  9 10]\n",
      " [ 2 18  3]]\n",
      "127.99999999999997\n"
     ]
    }
   ],
   "source": [
    "with tf.Session() as sess:\n",
    "  print(sess.run(matrix_product))\n",
    "  print(sess.run(matrix_sum))\n",
    "  print(sess.run(matrix_det))"
   ]
  },
  {
   "cell_type": "markdown",
   "metadata": {
    "colab_type": "text",
    "id": "VPtPYKM5EryL"
   },
   "source": [
    "### Three-dimensional tensors"
   ]
  },
  {
   "cell_type": "code",
   "execution_count": 15,
   "metadata": {
    "colab": {
     "base_uri": "https://localhost:8080/",
     "height": 109
    },
    "colab_type": "code",
    "id": "dYaH-oUDFGla",
    "outputId": "0301a52d-80f8-46b7-a33c-420d8ca686fb"
   },
   "outputs": [
    {
     "name": "stdout",
     "output_type": "stream",
     "text": [
      "[[[0 4]\n",
      "  [2 1]]\n",
      "\n",
      " [[3 4]\n",
      "  [2 1]]]\n"
     ]
    }
   ],
   "source": [
    "tensor_3d = np.random.randint(0, 5, size=(2, 2, 2))\n",
    "print(tensor_3d)"
   ]
  },
  {
   "cell_type": "code",
   "execution_count": 16,
   "metadata": {
    "colab": {
     "base_uri": "https://localhost:8080/",
     "height": 35
    },
    "colab_type": "code",
    "id": "JSk7N3-zFQOw",
    "outputId": "5ccd6398-ad3e-4c3a-afcc-97c938e0f577"
   },
   "outputs": [
    {
     "data": {
      "text/plain": [
       "(2, 2, 2)"
      ]
     },
     "execution_count": 16,
     "metadata": {
      "tags": []
     },
     "output_type": "execute_result"
    }
   ],
   "source": [
    "tensor_3d.shape"
   ]
  },
  {
   "cell_type": "code",
   "execution_count": 17,
   "metadata": {
    "colab": {
     "base_uri": "https://localhost:8080/",
     "height": 54
    },
    "colab_type": "code",
    "id": "lwUFCK00FYfM",
    "outputId": "88571d1c-0c05-4246-c63f-7d2fe5724a12"
   },
   "outputs": [
    {
     "data": {
      "text/plain": [
       "array([[0, 4],\n",
       "       [2, 1]])"
      ]
     },
     "execution_count": 17,
     "metadata": {
      "tags": []
     },
     "output_type": "execute_result"
    }
   ],
   "source": [
    "tensor_3d[0]"
   ]
  },
  {
   "cell_type": "code",
   "execution_count": 18,
   "metadata": {
    "colab": {
     "base_uri": "https://localhost:8080/",
     "height": 35
    },
    "colab_type": "code",
    "id": "hHWu-kOlFitV",
    "outputId": "71c3a9af-9aa4-4449-892f-d11cfbf67bf4"
   },
   "outputs": [
    {
     "data": {
      "text/plain": [
       "array([2, 1])"
      ]
     },
     "execution_count": 18,
     "metadata": {
      "tags": []
     },
     "output_type": "execute_result"
    }
   ],
   "source": [
    "tensor_3d[0, 1]"
   ]
  },
  {
   "cell_type": "markdown",
   "metadata": {
    "colab_type": "text",
    "id": "zqy6unEsFl3R"
   },
   "source": [
    "### Handling tensors with Tensorflow and Prepare the input data"
   ]
  },
  {
   "cell_type": "code",
   "execution_count": null,
   "metadata": {
    "colab": {},
    "colab_type": "code",
    "id": "OXyHtOilFvRa"
   },
   "outputs": [],
   "source": [
    "import matplotlib.pyplot as plt\n",
    "image = plt.imread('cambridge.jpeg')\n"
   ]
  },
  {
   "cell_type": "code",
   "execution_count": 20,
   "metadata": {
    "colab": {
     "base_uri": "https://localhost:8080/",
     "height": 72
    },
    "colab_type": "code",
    "id": "XVG11lH3He4Q",
    "outputId": "06af3a86-2658-47f8-b364-49fd7bf1efee"
   },
   "outputs": [
    {
     "name": "stdout",
     "output_type": "stream",
     "text": [
      "<class 'numpy.ndarray'>\n",
      "Image dimensions: 3\n",
      "Image shape: (207, 243, 4)\n"
     ]
    }
   ],
   "source": [
    "print(type(image))\n",
    "print(\"Image dimensions: {}\".format(image.ndim))\n",
    "print(\"Image shape: {}\".format(image.shape))"
   ]
  },
  {
   "cell_type": "code",
   "execution_count": 21,
   "metadata": {
    "colab": {
     "base_uri": "https://localhost:8080/",
     "height": 269
    },
    "colab_type": "code",
    "id": "advPJxd2H6VY",
    "outputId": "d185d4e2-1a6b-4b1c-888d-d4339398416f"
   },
   "outputs": [
    {
     "data": {
      "image/png": "[encoded data removed]",
      "text/plain": [
       "<Figure size 432x288 with 1 Axes>"
      ]
     },
     "metadata": {
      "tags": []
     },
     "output_type": "display_data"
    }
   ],
   "source": [
    "plt.imshow(image);"
   ]
  },
  {
   "cell_type": "markdown",
   "metadata": {
    "colab_type": "text",
    "id": "y0DOzR_cIEFm"
   },
   "source": [
    "In this example, slice is a bidimensional segment of the starting image, where each pixel has\n",
    "the RGB components, so we need a placeholder to store all the values of the slice:"
   ]
  },
  {
   "cell_type": "code",
   "execution_count": null,
   "metadata": {
    "colab": {},
    "colab_type": "code",
    "id": "X9Dn0zDDILwL"
   },
   "outputs": [],
   "source": [
    "# we onl need four values on last dimension\n",
    "my_image = tf.placeholder('uint8', shape=[None, None, 4])"
   ]
  },
  {
   "cell_type": "code",
   "execution_count": null,
   "metadata": {
    "colab": {},
    "colab_type": "code",
    "id": "rF_2oK-YIiVz"
   },
   "outputs": [],
   "source": [
    "# slice to create subimage\n",
    "slic = tf.slice(my_image, begin=[100, 100, 0], size=[100, 100, -1])"
   ]
  },
  {
   "cell_type": "code",
   "execution_count": 24,
   "metadata": {
    "colab": {
     "base_uri": "https://localhost:8080/",
     "height": 35
    },
    "colab_type": "code",
    "id": "RgL3p8qzJSkW",
    "outputId": "708a6411-8f45-4918-bc74-e3e1682d919b"
   },
   "outputs": [
    {
     "name": "stdout",
     "output_type": "stream",
     "text": [
      "(100, 100, 4)\n"
     ]
    }
   ],
   "source": [
    "# build a tensorflow working session\n",
    "with tf.Session() as sess:\n",
    "  result = sess.run(slic, feed_dict={my_image : image})\n",
    "  print(result.shape)"
   ]
  },
  {
   "cell_type": "code",
   "execution_count": 25,
   "metadata": {
    "colab": {
     "base_uri": "https://localhost:8080/",
     "height": 269
    },
    "colab_type": "code",
    "id": "CWF8HxAzJoIP",
    "outputId": "811e8091-19f0-49ad-c0e6-88b5ed01e63b"
   },
   "outputs": [
    {
     "data": {
      "image/png": "[encoded data removed]",
      "text/plain": [
       "<Figure size 432x288 with 1 Axes>"
      ]
     },
     "metadata": {
      "tags": []
     },
     "output_type": "display_data"
    }
   ],
   "source": [
    "plt.imshow(result);"
   ]
  },
  {
   "cell_type": "markdown",
   "metadata": {
    "colab_type": "text",
    "id": "FEtgW-nfJrQN"
   },
   "source": [
    "Let's do some transpose"
   ]
  },
  {
   "cell_type": "code",
   "execution_count": 26,
   "metadata": {
    "colab": {
     "base_uri": "https://localhost:8080/",
     "height": 269
    },
    "colab_type": "code",
    "id": "ZX0JI-gYKINT",
    "outputId": "07a77a9c-d2c2-4f8c-c9e2-1bbb30912f8b"
   },
   "outputs": [
    {
     "data": {
      "image/png": "[encoded data removed]",
      "text/plain": [
       "<Figure size 432x288 with 1 Axes>"
      ]
     },
     "metadata": {
      "tags": []
     },
     "output_type": "display_data"
    }
   ],
   "source": [
    "x = tf.Variable(image, name='x')\n",
    "model = tf.global_variables_initializer()\n",
    "with tf.Session() as sess:\n",
    "  x = tf.transpose(x, perm=[1, 0, 2]) # swap first-dim with second-dim\n",
    "  sess.run(model)\n",
    "  result = sess.run(x)\n",
    "\n",
    "plt.imshow(result);"
   ]
  },
  {
   "cell_type": "markdown",
   "metadata": {
    "colab_type": "text",
    "id": "UEeozWUkKwWv"
   },
   "source": [
    "---"
   ]
  },
  {
   "cell_type": "markdown",
   "metadata": {
    "colab_type": "text",
    "id": "5X4-k0LQiRW1"
   },
   "source": [
    "## Complex number and fractals"
   ]
  },
  {
   "cell_type": "code",
   "execution_count": null,
   "metadata": {
    "colab": {},
    "colab_type": "code",
    "id": "i_Px7p27iVaZ"
   },
   "outputs": [],
   "source": [
    "# complex number in python\n",
    "x = 5. + 4j"
   ]
  },
  {
   "cell_type": "code",
   "execution_count": 28,
   "metadata": {
    "colab": {
     "base_uri": "https://localhost:8080/",
     "height": 35
    },
    "colab_type": "code",
    "id": "nMh8GvNBidX4",
    "outputId": "3a8bc8f7-204a-48f4-c501-3211dc9348f9"
   },
   "outputs": [
    {
     "data": {
      "text/plain": [
       "complex"
      ]
     },
     "execution_count": 28,
     "metadata": {
      "tags": []
     },
     "output_type": "execute_result"
    }
   ],
   "source": [
    "type(x)"
   ]
  },
  {
   "cell_type": "code",
   "execution_count": null,
   "metadata": {
    "colab": {},
    "colab_type": "code",
    "id": "kzWvLIThifMz"
   },
   "outputs": [],
   "source": [
    "x = 1 + 1j # it will become complex number\n",
    "# x = 1 + j # python treats j as variable"
   ]
  },
  {
   "cell_type": "code",
   "execution_count": 30,
   "metadata": {
    "colab": {
     "base_uri": "https://localhost:8080/",
     "height": 54
    },
    "colab_type": "code",
    "id": "xH4kXVF7i1Ad",
    "outputId": "3f3956ad-b3f1-4dc8-cad9-55abdbb06da7"
   },
   "outputs": [
    {
     "name": "stdout",
     "output_type": "stream",
     "text": [
      "1.0\n",
      "1.0\n"
     ]
    }
   ],
   "source": [
    "print(x.real)\n",
    "print(x.imag)"
   ]
  },
  {
   "cell_type": "markdown",
   "metadata": {
    "colab_type": "text",
    "id": "u9E5iJ1Ai5tu"
   },
   "source": [
    "The mandlebrot set is defined by $Z(n+1) = Z(n)^2 + c$ where Z(0) = 0 "
   ]
  },
  {
   "cell_type": "markdown",
   "metadata": {
    "colab_type": "text",
    "id": "Nccu8-XKjQdV"
   },
   "source": [
    "The algorithm to calculate the Mandlebrot set:\n",
    "1. Z has inital value equal to 0. Z(0) = 0\n",
    "2. Choose the complex number c as the current point. In the Cartesion plane, the abscissa axis (horizontal line) represents the real part, while te axis of ordinates (vertical line) represents the imaginary part of c.\n",
    "3. Iteration: $Z(n+1) = Z(n)^2 + c$\n",
    "  - Stop when $Z(n)^2$ is larger than the maximum radius;"
   ]
  },
  {
   "cell_type": "markdown",
   "metadata": {
    "colab_type": "text",
    "id": "dJS5SyirkHvN"
   },
   "source": [
    "### Prepare the data for Mandlebrot set"
   ]
  },
  {
   "cell_type": "markdown",
   "metadata": {
    "colab_type": "text",
    "id": "magYhn0xkP1z"
   },
   "source": [
    "We build a complex grid that will contain our Mandelbrot's set. The region of the complex\n",
    "plane is between -1.3 and +1.3 on the real axis and between -2j and +1j on the\n",
    "imaginary axis. Each pixel location in each image will represent a different complex value,\n",
    "z:"
   ]
  },
  {
   "cell_type": "code",
   "execution_count": null,
   "metadata": {
    "colab": {},
    "colab_type": "code",
    "id": "9V43bqLRksLF"
   },
   "outputs": [],
   "source": [
    "Y, X = np.mgrid[-1.3:1.3:0.005, -2:1:0.005]\n",
    "Z = X+1j*Y\n",
    "c = tf.constant(Z.astype(np.complex64))"
   ]
  },
  {
   "cell_type": "markdown",
   "metadata": {
    "colab_type": "text",
    "id": "Y64_u-ndlQ1Q"
   },
   "source": [
    "Then we define data structures, or the tensor TensorFlow that contains all the data to be\n",
    "included in the calculation. We then define two variables. The first is the one on which we\n",
    "will make our iteration. It has the same dimensions as the complex grid, but it is declared as\n",
    "variable, that is, its values will change in the course of the calculation:"
   ]
  },
  {
   "cell_type": "code",
   "execution_count": null,
   "metadata": {
    "colab": {},
    "colab_type": "code",
    "id": "NHD9S8m0mB03"
   },
   "outputs": [],
   "source": [
    "zs = tf.Variable(c)\n",
    "\n",
    "# create variable initialized to zero, \n",
    "# it also has the same size as the variable zs\n",
    "ns = tf.Variable(tf.zeros_like(c, tf.float32))"
   ]
  },
  {
   "cell_type": "markdown",
   "metadata": {
    "colab_type": "text",
    "id": "dNtbts1Kmd6M"
   },
   "source": [
    "### Build and execute the data flow graph for Mandlebrot set"
   ]
  },
  {
   "cell_type": "code",
   "execution_count": 33,
   "metadata": {
    "colab": {
     "base_uri": "https://localhost:8080/",
     "height": 269
    },
    "colab_type": "code",
    "id": "6sGZAkYHmqpj",
    "outputId": "8105d120-4a6a-4bac-ca0d-047d78ffc2e4"
   },
   "outputs": [
    {
     "data": {
      "image/png": "[encoded data removed]",
      "text/plain": [
       "<Figure size 432x288 with 1 Axes>"
      ]
     },
     "metadata": {
      "tags": []
     },
     "output_type": "display_data"
    }
   ],
   "source": [
    "# instantiate the interactiv session\n",
    "sess = tf.InteractiveSession()\n",
    "# initialize all the variables\n",
    "tf.global_variables_initializer().run()\n",
    "# start the iteration\n",
    "zs_ = zs*zs + c\n",
    "# define the stop condition of the iteration\n",
    "not_diverged = tf.abs(zs_) < 4\n",
    "# then we use the group operator that groups multiple operations\n",
    "step = tf.group(zs.assign(zs_), ns.assign_add(tf.cast(not_diverged, tf.float32)))\n",
    "for i in range(200):\n",
    "  step.run()\n",
    "\n",
    "plt.imshow(ns.eval())\n",
    "sess.close();"
   ]
  },
  {
   "cell_type": "markdown",
   "metadata": {
    "colab_type": "text",
    "id": "DsBlFw5doYmC"
   },
   "source": [
    "### Prepate the data for Julia's set"
   ]
  },
  {
   "cell_type": "code",
   "execution_count": null,
   "metadata": {
    "colab": {},
    "colab_type": "code",
    "id": "c8ZaNCpXp5mh"
   },
   "outputs": [],
   "source": [
    "Y, X = np.mgrid[-2:2:0.005, -2:2:0.005]\n",
    "Z = tf.constant(Z.astype(\"complex64\"))\n",
    "zs = tf.Variable(Z)\n",
    "ns = tf.Variable(tf.zeros_like(Z, \"float32\"))"
   ]
  },
  {
   "cell_type": "markdown",
   "metadata": {
    "colab_type": "text",
    "id": "_wDxTb_PvpSk"
   },
   "source": [
    "### Building and execute the data flow graph for Julia's Set"
   ]
  },
  {
   "cell_type": "markdown",
   "metadata": {
    "colab_type": "text",
    "id": "NdFWJhjvwEOY"
   },
   "source": [
    "Iterative formula: $Z(n+1) = Z(n)^2 - c$ where the initial point c will be equal to the imaginary number 0.75i."
   ]
  },
  {
   "cell_type": "code",
   "execution_count": 40,
   "metadata": {
    "colab": {
     "base_uri": "https://localhost:8080/",
     "height": 326
    },
    "colab_type": "code",
    "id": "itfkZan7vxx-",
    "outputId": "0f1c937b-9abd-4ca6-97fe-3ff4b543fb00"
   },
   "outputs": [
    {
     "name": "stderr",
     "output_type": "stream",
     "text": [
      "/usr/local/lib/python3.6/dist-packages/tensorflow/python/client/session.py:1735: UserWarning: An interactive session is already active. This can cause out-of-memory errors in some cases. You must explicitly call `InteractiveSession.close()` to release resources held by the other session(s).\n",
      "  warnings.warn('An interactive session is already active. This can '\n"
     ]
    },
    {
     "data": {
      "image/png": "[encoded data removed]",
      "text/plain": [
       "<Figure size 432x288 with 1 Axes>"
      ]
     },
     "metadata": {
      "tags": []
     },
     "output_type": "display_data"
    }
   ],
   "source": [
    "sess = tf.InteractiveSession()\n",
    "tf.global_variables_initializer().run()\n",
    "c = complex(0.0,0.75)\n",
    "zs_ = zs*zs - c\n",
    "not_diverged = tf.abs(zs_) < 4\n",
    "step = tf.group(zs.assign(zs_), ns.assign_add(tf.cast(not_diverged, \"float32\")))\n",
    "for i in range(200): \n",
    "  step.run()\n",
    "\n",
    "plt.imshow(ns.eval());\n",
    "\n",
    "sess.close()"
   ]
  },
  {
   "cell_type": "code",
   "execution_count": null,
   "metadata": {
    "colab": {},
    "colab_type": "code",
    "id": "JsB4MfX1wyf7"
   },
   "outputs": [],
   "source": []
  }
 ],
 "metadata": {
  "accelerator": "GPU",
  "colab": {
   "collapsed_sections": [],
   "name": "chapter2",
   "provenance": [],
   "version": "0.3.2"
  },
  "kernelspec": {
   "display_name": "Python 3",
   "language": "python",
   "name": "python3"
  },
  "language_info": {
   "codemirror_mode": {
    "name": "ipython",
    "version": 3
   },
   "file_extension": ".py",
   "mimetype": "text/x-python",
   "name": "python",
   "nbconvert_exporter": "python",
   "pygments_lexer": "ipython3",
   "version": "3.7.3"
  }
 },
 "nbformat": 4,
 "nbformat_minor": 2
}

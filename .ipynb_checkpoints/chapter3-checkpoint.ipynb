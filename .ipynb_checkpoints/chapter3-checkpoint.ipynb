{
 "cells": [
  {
   "cell_type": "markdown",
   "metadata": {
    "colab_type": "text",
    "id": "HIH71ua5ObtP"
   },
   "source": [
    "# Chapter 3: Deep Neural Networks for Supervised Learning: Regression"
   ]
  },
  {
   "cell_type": "markdown",
   "metadata": {
    "colab_type": "text",
    "id": "_l8lLglYQX66"
   },
   "source": [
    "## Designing an SCQ"
   ]
  },
  {
   "cell_type": "markdown",
   "metadata": {
    "colab_type": "text",
    "id": "30D6DtdCTHDi"
   },
   "source": [
    "Used to represent a problem in consulting companies. It divides the problem into three simple groups, expands\n",
    "each group with the right question, and finally connects with the\n",
    "desired future state. The four components can be defined as follows:\n",
    "- Desired Future State: The end state we want to reach when the problem is\n",
    "solved.\n",
    "- Situation: A brief narrative of the overall problem statement\n",
    "that details the problem faced by the stakeholder.\n",
    "This is usually wrapped in two lines at most.\n",
    "- Complication: Defines the major roadblock that hinders the\n",
    "stakeholder’s transition from the current situation to\n",
    "the desired future situation.\n",
    "- Question: The key question that needs to be answered in order\n",
    "to mitigate the roadblock."
   ]
  },
  {
   "cell_type": "markdown",
   "metadata": {
    "colab_type": "text",
    "id": "m2PvM0IoVp9_"
   },
   "source": [
    "## Designing the Solution"
   ]
  },
  {
   "cell_type": "markdown",
   "metadata": {
    "colab_type": "text",
    "id": "5Tk2BqCWT3yx"
   },
   "source": [
    "- Develop a more effective model by transforming the problem from time series forecasting problem into regression problem.\n",
    "- Time-series data, oftenly past affect future.\n",
    "- Cross-sectional data, all data are indipendent\n",
    "- Sales as a function of store + other attibutes\n",
    "- Time-series model: sales as a function of time."
   ]
  },
  {
   "cell_type": "markdown",
   "metadata": {
    "colab_type": "text",
    "id": "p7PC8hW8XVPv"
   },
   "source": [
    "## Exploring the data"
   ]
  },
  {
   "cell_type": "code",
   "execution_count": 7,
   "metadata": {
    "colab": {
     "base_uri": "https://localhost:8080/",
     "height": 55
    },
    "colab_type": "code",
    "id": "hpLNjC4SY58O",
    "outputId": "eb3420c0-ea33-4ef3-c454-eede843b464c"
   },
   "outputs": [
    {
     "name": "stdout",
     "output_type": "stream",
     "text": [
      "Drive already mounted at /content/drive; to attempt to forcibly remount, call drive.mount(\"/content/drive\", force_remount=True).\n"
     ]
    }
   ],
   "source": [
    "from google.colab import drive\n",
    "drive.mount('/content/drive')"
   ]
  },
  {
   "cell_type": "code",
   "execution_count": 4,
   "metadata": {
    "colab": {
     "base_uri": "https://localhost:8080/",
     "height": 74
    },
    "colab_type": "code",
    "id": "iHHk5Tmdjty6",
    "outputId": "71398cfb-47d0-43d3-b694-18df8e27d315"
   },
   "outputs": [
    {
     "name": "stderr",
     "output_type": "stream",
     "text": [
      "/usr/local/lib/python3.6/dist-packages/IPython/core/interactiveshell.py:2718: DtypeWarning: Columns (7) have mixed types. Specify dtype option on import or set low_memory=False.\n",
      "  interactivity=interactivity, compiler=compiler, result=result)\n"
     ]
    }
   ],
   "source": [
    "import pandas as pd\n",
    "df = pd.read_csv('/content/drive/My Drive/Colab Notebooks/train.csv')\n",
    "store = pd.read_csv(\"/content/drive/My Drive/Colab Notebooks/store.csv\")"
   ]
  },
  {
   "cell_type": "code",
   "execution_count": 5,
   "metadata": {
    "colab": {
     "base_uri": "https://localhost:8080/",
     "height": 245
    },
    "colab_type": "code",
    "id": "vroxZAgBjzCm",
    "outputId": "2d5ad7f4-bcd4-4e85-d089-a2004210adcc"
   },
   "outputs": [
    {
     "name": "stdout",
     "output_type": "stream",
     "text": [
      "Shape of the dataset:  (1017209, 9)\n"
     ]
    },
    {
     "data": {
      "text/html": [
       "<div>\n",
       "<style scoped>\n",
       "    .dataframe tbody tr th:only-of-type {\n",
       "        vertical-align: middle;\n",
       "    }\n",
       "\n",
       "    .dataframe tbody tr th {\n",
       "        vertical-align: top;\n",
       "    }\n",
       "\n",
       "    .dataframe thead th {\n",
       "        text-align: right;\n",
       "    }\n",
       "</style>\n",
       "<table border=\"1\" class=\"dataframe\">\n",
       "  <thead>\n",
       "    <tr style=\"text-align: right;\">\n",
       "      <th></th>\n",
       "      <th>Store</th>\n",
       "      <th>DayOfWeek</th>\n",
       "      <th>Date</th>\n",
       "      <th>Sales</th>\n",
       "      <th>Customers</th>\n",
       "      <th>Open</th>\n",
       "      <th>Promo</th>\n",
       "      <th>StateHoliday</th>\n",
       "      <th>SchoolHoliday</th>\n",
       "    </tr>\n",
       "  </thead>\n",
       "  <tbody>\n",
       "    <tr>\n",
       "      <th>0</th>\n",
       "      <td>1</td>\n",
       "      <td>5</td>\n",
       "      <td>2015-07-31</td>\n",
       "      <td>5263</td>\n",
       "      <td>555.0</td>\n",
       "      <td>1</td>\n",
       "      <td>1</td>\n",
       "      <td>0</td>\n",
       "      <td>1.0</td>\n",
       "    </tr>\n",
       "    <tr>\n",
       "      <th>1</th>\n",
       "      <td>2</td>\n",
       "      <td>5</td>\n",
       "      <td>2015-07-31</td>\n",
       "      <td>6064</td>\n",
       "      <td>625.0</td>\n",
       "      <td>1</td>\n",
       "      <td>1</td>\n",
       "      <td>0</td>\n",
       "      <td>1.0</td>\n",
       "    </tr>\n",
       "    <tr>\n",
       "      <th>2</th>\n",
       "      <td>3</td>\n",
       "      <td>5</td>\n",
       "      <td>2015-07-31</td>\n",
       "      <td>8314</td>\n",
       "      <td>821.0</td>\n",
       "      <td>1</td>\n",
       "      <td>1</td>\n",
       "      <td>0</td>\n",
       "      <td>1.0</td>\n",
       "    </tr>\n",
       "    <tr>\n",
       "      <th>3</th>\n",
       "      <td>4</td>\n",
       "      <td>5</td>\n",
       "      <td>2015-07-31</td>\n",
       "      <td>13995</td>\n",
       "      <td>1498.0</td>\n",
       "      <td>1</td>\n",
       "      <td>1</td>\n",
       "      <td>0</td>\n",
       "      <td>1.0</td>\n",
       "    </tr>\n",
       "    <tr>\n",
       "      <th>4</th>\n",
       "      <td>5</td>\n",
       "      <td>5</td>\n",
       "      <td>2015-07-31</td>\n",
       "      <td>4822</td>\n",
       "      <td>559.0</td>\n",
       "      <td>1</td>\n",
       "      <td>1</td>\n",
       "      <td>0</td>\n",
       "      <td>1.0</td>\n",
       "    </tr>\n",
       "  </tbody>\n",
       "</table>\n",
       "</div>"
      ],
      "text/plain": [
       "   Store  DayOfWeek        Date  Sales  ...  Open  Promo  StateHoliday SchoolHoliday\n",
       "0      1          5  2015-07-31   5263  ...     1      1             0           1.0\n",
       "1      2          5  2015-07-31   6064  ...     1      1             0           1.0\n",
       "2      3          5  2015-07-31   8314  ...     1      1             0           1.0\n",
       "3      4          5  2015-07-31  13995  ...     1      1             0           1.0\n",
       "4      5          5  2015-07-31   4822  ...     1      1             0           1.0\n",
       "\n",
       "[5 rows x 9 columns]"
      ]
     },
     "execution_count": 5,
     "metadata": {
      "tags": []
     },
     "output_type": "execute_result"
    }
   ],
   "source": [
    "print(\"Shape of the dataset: \", df.shape)\n",
    "df.head()"
   ]
  },
  {
   "cell_type": "code",
   "execution_count": 5,
   "metadata": {
    "colab": {
     "base_uri": "https://localhost:8080/",
     "height": 245
    },
    "colab_type": "code",
    "id": "Y-ZrxSG4k2q_",
    "outputId": "0b7f3494-0368-44fd-946f-24ed871d4f56"
   },
   "outputs": [
    {
     "name": "stdout",
     "output_type": "stream",
     "text": [
      "Shape of the dataset (1115, 10)\n"
     ]
    },
    {
     "data": {
      "text/html": [
       "<div>\n",
       "<style scoped>\n",
       "    .dataframe tbody tr th:only-of-type {\n",
       "        vertical-align: middle;\n",
       "    }\n",
       "\n",
       "    .dataframe tbody tr th {\n",
       "        vertical-align: top;\n",
       "    }\n",
       "\n",
       "    .dataframe thead th {\n",
       "        text-align: right;\n",
       "    }\n",
       "</style>\n",
       "<table border=\"1\" class=\"dataframe\">\n",
       "  <thead>\n",
       "    <tr style=\"text-align: right;\">\n",
       "      <th></th>\n",
       "      <th>Store</th>\n",
       "      <th>StoreType</th>\n",
       "      <th>Assortment</th>\n",
       "      <th>CompetitionDistance</th>\n",
       "      <th>CompetitionOpenSinceMonth</th>\n",
       "      <th>CompetitionOpenSinceYear</th>\n",
       "      <th>Promo2</th>\n",
       "      <th>Promo2SinceWeek</th>\n",
       "      <th>Promo2SinceYear</th>\n",
       "      <th>PromoInterval</th>\n",
       "    </tr>\n",
       "  </thead>\n",
       "  <tbody>\n",
       "    <tr>\n",
       "      <th>0</th>\n",
       "      <td>1</td>\n",
       "      <td>c</td>\n",
       "      <td>a</td>\n",
       "      <td>1270.0</td>\n",
       "      <td>9.0</td>\n",
       "      <td>2008.0</td>\n",
       "      <td>0</td>\n",
       "      <td>NaN</td>\n",
       "      <td>NaN</td>\n",
       "      <td>NaN</td>\n",
       "    </tr>\n",
       "    <tr>\n",
       "      <th>1</th>\n",
       "      <td>2</td>\n",
       "      <td>a</td>\n",
       "      <td>a</td>\n",
       "      <td>570.0</td>\n",
       "      <td>11.0</td>\n",
       "      <td>2007.0</td>\n",
       "      <td>1</td>\n",
       "      <td>13.0</td>\n",
       "      <td>2010.0</td>\n",
       "      <td>Jan,Apr,Jul,Oct</td>\n",
       "    </tr>\n",
       "    <tr>\n",
       "      <th>2</th>\n",
       "      <td>3</td>\n",
       "      <td>a</td>\n",
       "      <td>a</td>\n",
       "      <td>14130.0</td>\n",
       "      <td>12.0</td>\n",
       "      <td>2006.0</td>\n",
       "      <td>1</td>\n",
       "      <td>14.0</td>\n",
       "      <td>2011.0</td>\n",
       "      <td>Jan,Apr,Jul,Oct</td>\n",
       "    </tr>\n",
       "    <tr>\n",
       "      <th>3</th>\n",
       "      <td>4</td>\n",
       "      <td>c</td>\n",
       "      <td>c</td>\n",
       "      <td>620.0</td>\n",
       "      <td>9.0</td>\n",
       "      <td>2009.0</td>\n",
       "      <td>0</td>\n",
       "      <td>NaN</td>\n",
       "      <td>NaN</td>\n",
       "      <td>NaN</td>\n",
       "    </tr>\n",
       "    <tr>\n",
       "      <th>4</th>\n",
       "      <td>5</td>\n",
       "      <td>a</td>\n",
       "      <td>a</td>\n",
       "      <td>29910.0</td>\n",
       "      <td>4.0</td>\n",
       "      <td>2015.0</td>\n",
       "      <td>0</td>\n",
       "      <td>NaN</td>\n",
       "      <td>NaN</td>\n",
       "      <td>NaN</td>\n",
       "    </tr>\n",
       "  </tbody>\n",
       "</table>\n",
       "</div>"
      ],
      "text/plain": [
       "   Store StoreType  ... Promo2SinceYear    PromoInterval\n",
       "0      1         c  ...             NaN              NaN\n",
       "1      2         a  ...          2010.0  Jan,Apr,Jul,Oct\n",
       "2      3         a  ...          2011.0  Jan,Apr,Jul,Oct\n",
       "3      4         c  ...             NaN              NaN\n",
       "4      5         a  ...             NaN              NaN\n",
       "\n",
       "[5 rows x 10 columns]"
      ]
     },
     "execution_count": 5,
     "metadata": {
      "tags": []
     },
     "output_type": "execute_result"
    }
   ],
   "source": [
    "print(\"Shape of the dataset\", store.shape)\n",
    "store.head()"
   ]
  },
  {
   "cell_type": "markdown",
   "metadata": {
    "colab_type": "text",
    "id": "HZdUIpEMk_t0"
   },
   "source": [
    "We have to combine these two data."
   ]
  },
  {
   "cell_type": "code",
   "execution_count": null,
   "metadata": {
    "colab": {},
    "colab_type": "code",
    "id": "dA9h_0WtmGoe"
   },
   "outputs": [],
   "source": [
    "dataset = df.merge(store, on=['Store'], how='inner')"
   ]
  },
  {
   "cell_type": "code",
   "execution_count": 8,
   "metadata": {
    "colab": {
     "base_uri": "https://localhost:8080/",
     "height": 35
    },
    "colab_type": "code",
    "id": "wbddO_X9mRrM",
    "outputId": "842bf384-97ef-4812-c672-2b46ffc45e0a"
   },
   "outputs": [
    {
     "name": "stdout",
     "output_type": "stream",
     "text": [
      "(1017209, 18)\n"
     ]
    }
   ],
   "source": [
    "print(dataset.shape)"
   ]
  },
  {
   "cell_type": "code",
   "execution_count": 9,
   "metadata": {
    "colab": {
     "base_uri": "https://localhost:8080/",
     "height": 226
    },
    "colab_type": "code",
    "id": "psSRI37gmTdK",
    "outputId": "1221e441-10d6-454a-f66c-e6e86a661dae"
   },
   "outputs": [
    {
     "data": {
      "text/html": [
       "<div>\n",
       "<style scoped>\n",
       "    .dataframe tbody tr th:only-of-type {\n",
       "        vertical-align: middle;\n",
       "    }\n",
       "\n",
       "    .dataframe tbody tr th {\n",
       "        vertical-align: top;\n",
       "    }\n",
       "\n",
       "    .dataframe thead th {\n",
       "        text-align: right;\n",
       "    }\n",
       "</style>\n",
       "<table border=\"1\" class=\"dataframe\">\n",
       "  <thead>\n",
       "    <tr style=\"text-align: right;\">\n",
       "      <th></th>\n",
       "      <th>Store</th>\n",
       "      <th>DayOfWeek</th>\n",
       "      <th>Date</th>\n",
       "      <th>Sales</th>\n",
       "      <th>Customers</th>\n",
       "      <th>Open</th>\n",
       "      <th>Promo</th>\n",
       "      <th>StateHoliday</th>\n",
       "      <th>SchoolHoliday</th>\n",
       "      <th>StoreType</th>\n",
       "      <th>Assortment</th>\n",
       "      <th>CompetitionDistance</th>\n",
       "      <th>CompetitionOpenSinceMonth</th>\n",
       "      <th>CompetitionOpenSinceYear</th>\n",
       "      <th>Promo2</th>\n",
       "      <th>Promo2SinceWeek</th>\n",
       "      <th>Promo2SinceYear</th>\n",
       "      <th>PromoInterval</th>\n",
       "    </tr>\n",
       "  </thead>\n",
       "  <tbody>\n",
       "    <tr>\n",
       "      <th>0</th>\n",
       "      <td>1</td>\n",
       "      <td>5</td>\n",
       "      <td>2015-07-31</td>\n",
       "      <td>5263</td>\n",
       "      <td>555.0</td>\n",
       "      <td>1</td>\n",
       "      <td>1</td>\n",
       "      <td>0</td>\n",
       "      <td>1.0</td>\n",
       "      <td>c</td>\n",
       "      <td>a</td>\n",
       "      <td>1270.0</td>\n",
       "      <td>9.0</td>\n",
       "      <td>2008.0</td>\n",
       "      <td>0</td>\n",
       "      <td>NaN</td>\n",
       "      <td>NaN</td>\n",
       "      <td>NaN</td>\n",
       "    </tr>\n",
       "    <tr>\n",
       "      <th>1</th>\n",
       "      <td>1</td>\n",
       "      <td>4</td>\n",
       "      <td>2015-07-30</td>\n",
       "      <td>5020</td>\n",
       "      <td>546.0</td>\n",
       "      <td>1</td>\n",
       "      <td>1</td>\n",
       "      <td>0</td>\n",
       "      <td>1.0</td>\n",
       "      <td>c</td>\n",
       "      <td>a</td>\n",
       "      <td>1270.0</td>\n",
       "      <td>9.0</td>\n",
       "      <td>2008.0</td>\n",
       "      <td>0</td>\n",
       "      <td>NaN</td>\n",
       "      <td>NaN</td>\n",
       "      <td>NaN</td>\n",
       "    </tr>\n",
       "    <tr>\n",
       "      <th>2</th>\n",
       "      <td>1</td>\n",
       "      <td>3</td>\n",
       "      <td>2015-07-29</td>\n",
       "      <td>4782</td>\n",
       "      <td>523.0</td>\n",
       "      <td>1</td>\n",
       "      <td>1</td>\n",
       "      <td>0</td>\n",
       "      <td>1.0</td>\n",
       "      <td>c</td>\n",
       "      <td>a</td>\n",
       "      <td>1270.0</td>\n",
       "      <td>9.0</td>\n",
       "      <td>2008.0</td>\n",
       "      <td>0</td>\n",
       "      <td>NaN</td>\n",
       "      <td>NaN</td>\n",
       "      <td>NaN</td>\n",
       "    </tr>\n",
       "    <tr>\n",
       "      <th>3</th>\n",
       "      <td>1</td>\n",
       "      <td>2</td>\n",
       "      <td>2015-07-28</td>\n",
       "      <td>5011</td>\n",
       "      <td>560.0</td>\n",
       "      <td>1</td>\n",
       "      <td>1</td>\n",
       "      <td>0</td>\n",
       "      <td>1.0</td>\n",
       "      <td>c</td>\n",
       "      <td>a</td>\n",
       "      <td>1270.0</td>\n",
       "      <td>9.0</td>\n",
       "      <td>2008.0</td>\n",
       "      <td>0</td>\n",
       "      <td>NaN</td>\n",
       "      <td>NaN</td>\n",
       "      <td>NaN</td>\n",
       "    </tr>\n",
       "    <tr>\n",
       "      <th>4</th>\n",
       "      <td>1</td>\n",
       "      <td>1</td>\n",
       "      <td>2015-07-27</td>\n",
       "      <td>6102</td>\n",
       "      <td>612.0</td>\n",
       "      <td>1</td>\n",
       "      <td>1</td>\n",
       "      <td>0</td>\n",
       "      <td>1.0</td>\n",
       "      <td>c</td>\n",
       "      <td>a</td>\n",
       "      <td>1270.0</td>\n",
       "      <td>9.0</td>\n",
       "      <td>2008.0</td>\n",
       "      <td>0</td>\n",
       "      <td>NaN</td>\n",
       "      <td>NaN</td>\n",
       "      <td>NaN</td>\n",
       "    </tr>\n",
       "  </tbody>\n",
       "</table>\n",
       "</div>"
      ],
      "text/plain": [
       "   Store  DayOfWeek        Date  ...  Promo2SinceWeek  Promo2SinceYear  PromoInterval\n",
       "0      1          5  2015-07-31  ...              NaN              NaN            NaN\n",
       "1      1          4  2015-07-30  ...              NaN              NaN            NaN\n",
       "2      1          3  2015-07-29  ...              NaN              NaN            NaN\n",
       "3      1          2  2015-07-28  ...              NaN              NaN            NaN\n",
       "4      1          1  2015-07-27  ...              NaN              NaN            NaN\n",
       "\n",
       "[5 rows x 18 columns]"
      ]
     },
     "execution_count": 9,
     "metadata": {
      "tags": []
     },
     "output_type": "execute_result"
    }
   ],
   "source": [
    "dataset.head()"
   ]
  },
  {
   "cell_type": "code",
   "execution_count": 10,
   "metadata": {
    "colab": {
     "base_uri": "https://localhost:8080/",
     "height": 72
    },
    "colab_type": "code",
    "id": "EMYWKWZ9mVcy",
    "outputId": "f498cd22-6eec-4f3b-da28-e0f92a4ee559"
   },
   "outputs": [
    {
     "name": "stdout",
     "output_type": "stream",
     "text": [
      "Distinct number of stores: 1115\n",
      "Distinct number of days: 942\n",
      "Average daily sales of all stores:5773.82\n"
     ]
    }
   ],
   "source": [
    "print(\"Distinct number of stores: {}\".format(len(dataset['Store'].unique())))\n",
    "print(\"Distinct number of days: {}\".format(len(dataset['Date'].unique())))\n",
    "print(\"Average daily sales of all stores:{}\".format(round(dataset['Sales'].mean(), 2)))"
   ]
  },
  {
   "cell_type": "markdown",
   "metadata": {
    "colab_type": "text",
    "id": "wD3y1H-lm-Wi"
   },
   "source": [
    "### Finding Data Types"
   ]
  },
  {
   "cell_type": "code",
   "execution_count": 11,
   "metadata": {
    "colab": {
     "base_uri": "https://localhost:8080/",
     "height": 368
    },
    "colab_type": "code",
    "id": "1jhNrk3Fn3Kc",
    "outputId": "a0ca253f-656e-44fd-d08f-3f6bee20f456"
   },
   "outputs": [
    {
     "data": {
      "text/plain": [
       "Store                          int64\n",
       "DayOfWeek                      int64\n",
       "Date                          object\n",
       "Sales                          int64\n",
       "Customers                    float64\n",
       "Open                           int64\n",
       "Promo                          int64\n",
       "StateHoliday                  object\n",
       "SchoolHoliday                float64\n",
       "StoreType                     object\n",
       "Assortment                    object\n",
       "CompetitionDistance          float64\n",
       "CompetitionOpenSinceMonth    float64\n",
       "CompetitionOpenSinceYear     float64\n",
       "Promo2                         int64\n",
       "Promo2SinceWeek              float64\n",
       "Promo2SinceYear              float64\n",
       "PromoInterval                 object\n",
       "dtype: object"
      ]
     },
     "execution_count": 11,
     "metadata": {
      "tags": []
     },
     "output_type": "execute_result"
    }
   ],
   "source": [
    "dataset.dtypes"
   ]
  },
  {
   "cell_type": "markdown",
   "metadata": {
    "colab_type": "text",
    "id": "YntrA5IhoLW4"
   },
   "source": [
    "### Working with Time"
   ]
  },
  {
   "cell_type": "code",
   "execution_count": 12,
   "metadata": {
    "colab": {
     "base_uri": "https://localhost:8080/",
     "height": 165
    },
    "colab_type": "code",
    "id": "8muimzzgoXBb",
    "outputId": "e7f83cfe-400a-46fa-8015-969ae25e4702"
   },
   "outputs": [
    {
     "data": {
      "text/plain": [
       "5    145845\n",
       "4    145845\n",
       "3    145665\n",
       "2    145664\n",
       "7    144730\n",
       "6    144730\n",
       "1    144730\n",
       "Name: DayOfWeek, dtype: int64"
      ]
     },
     "execution_count": 12,
     "metadata": {
      "tags": []
     },
     "output_type": "execute_result"
    }
   ],
   "source": [
    "dataset['DayOfWeek'].value_counts()"
   ]
  },
  {
   "cell_type": "code",
   "execution_count": null,
   "metadata": {
    "colab": {},
    "colab_type": "code",
    "id": "2emeoee_obn6"
   },
   "outputs": [],
   "source": [
    "# extracting all date properties\n",
    "import numpy as np\n",
    "\n",
    "dataset['Date'] = pd.to_datetime(dataset['Date'], infer_datetime_format=True)\n",
    "dataset['Month'] = dataset['Date'].dt.month\n",
    "dataset['Quarter'] = dataset['Date'].dt.quarter\n",
    "dataset['Year'] = dataset['Date'].dt.year\n",
    "dataset['Day'] = dataset['Date'].dt.day\n",
    "dataset['Week'] = dataset['Date'].dt.week\n"
   ]
  },
  {
   "cell_type": "code",
   "execution_count": null,
   "metadata": {
    "colab": {},
    "colab_type": "code",
    "id": "CxSRRuGaqkYX"
   },
   "outputs": [],
   "source": [
    "dataset['Season'] = np.where(dataset['Month'].isin([3,4, 5]), 'Spring', \n",
    "                             np.where(dataset['Month'].isin([6, 7, 8]), 'Summer',\n",
    "                                      (np.where(dataset['Month'].isin([9, 10, 11]), 'Fall',\n",
    "                                                np.where(dataset['Month'].isin([12, 1, 2]), 'Winter', 'None')))))"
   ]
  },
  {
   "cell_type": "code",
   "execution_count": 15,
   "metadata": {
    "colab": {
     "base_uri": "https://localhost:8080/",
     "height": 206
    },
    "colab_type": "code",
    "id": "Xqx_ZB6Jsrhp",
    "outputId": "f8e69f47-e687-48e1-c03c-4739c06fede9"
   },
   "outputs": [
    {
     "data": {
      "text/html": [
       "<div>\n",
       "<style scoped>\n",
       "    .dataframe tbody tr th:only-of-type {\n",
       "        vertical-align: middle;\n",
       "    }\n",
       "\n",
       "    .dataframe tbody tr th {\n",
       "        vertical-align: top;\n",
       "    }\n",
       "\n",
       "    .dataframe thead th {\n",
       "        text-align: right;\n",
       "    }\n",
       "</style>\n",
       "<table border=\"1\" class=\"dataframe\">\n",
       "  <thead>\n",
       "    <tr style=\"text-align: right;\">\n",
       "      <th></th>\n",
       "      <th>Date</th>\n",
       "      <th>Year</th>\n",
       "      <th>Month</th>\n",
       "      <th>Day</th>\n",
       "      <th>Week</th>\n",
       "      <th>Quarter</th>\n",
       "      <th>Season</th>\n",
       "    </tr>\n",
       "  </thead>\n",
       "  <tbody>\n",
       "    <tr>\n",
       "      <th>0</th>\n",
       "      <td>2015-07-31</td>\n",
       "      <td>2015</td>\n",
       "      <td>7</td>\n",
       "      <td>31</td>\n",
       "      <td>31</td>\n",
       "      <td>3</td>\n",
       "      <td>Summer</td>\n",
       "    </tr>\n",
       "    <tr>\n",
       "      <th>1</th>\n",
       "      <td>2015-07-30</td>\n",
       "      <td>2015</td>\n",
       "      <td>7</td>\n",
       "      <td>30</td>\n",
       "      <td>31</td>\n",
       "      <td>3</td>\n",
       "      <td>Summer</td>\n",
       "    </tr>\n",
       "    <tr>\n",
       "      <th>2</th>\n",
       "      <td>2015-07-29</td>\n",
       "      <td>2015</td>\n",
       "      <td>7</td>\n",
       "      <td>29</td>\n",
       "      <td>31</td>\n",
       "      <td>3</td>\n",
       "      <td>Summer</td>\n",
       "    </tr>\n",
       "    <tr>\n",
       "      <th>3</th>\n",
       "      <td>2015-07-28</td>\n",
       "      <td>2015</td>\n",
       "      <td>7</td>\n",
       "      <td>28</td>\n",
       "      <td>31</td>\n",
       "      <td>3</td>\n",
       "      <td>Summer</td>\n",
       "    </tr>\n",
       "    <tr>\n",
       "      <th>4</th>\n",
       "      <td>2015-07-27</td>\n",
       "      <td>2015</td>\n",
       "      <td>7</td>\n",
       "      <td>27</td>\n",
       "      <td>31</td>\n",
       "      <td>3</td>\n",
       "      <td>Summer</td>\n",
       "    </tr>\n",
       "  </tbody>\n",
       "</table>\n",
       "</div>"
      ],
      "text/plain": [
       "        Date  Year  Month  Day  Week  Quarter  Season\n",
       "0 2015-07-31  2015      7   31    31        3  Summer\n",
       "1 2015-07-30  2015      7   30    31        3  Summer\n",
       "2 2015-07-29  2015      7   29    31        3  Summer\n",
       "3 2015-07-28  2015      7   28    31        3  Summer\n",
       "4 2015-07-27  2015      7   27    31        3  Summer"
      ]
     },
     "execution_count": 15,
     "metadata": {
      "tags": []
     },
     "output_type": "execute_result"
    }
   ],
   "source": [
    "dataset[[\"Date\",\"Year\",\"Month\",\"Day\",\"Week\",\"Quarter\", \"Season\"]].head()"
   ]
  },
  {
   "cell_type": "markdown",
   "metadata": {
    "colab_type": "text",
    "id": "a8l2TGZMs54M"
   },
   "source": [
    "### Predicting Sales"
   ]
  },
  {
   "cell_type": "code",
   "execution_count": 16,
   "metadata": {
    "colab": {
     "base_uri": "https://localhost:8080/",
     "height": 533
    },
    "colab_type": "code",
    "id": "xxBM8dWetGU9",
    "outputId": "82b69290-3f64-40e5-ef99-e23abfb83530"
   },
   "outputs": [
    {
     "data": {
      "image/png": "[encoded data removed]",
      "text/plain": [
       "<Figure size 1080x576 with 1 Axes>"
      ]
     },
     "metadata": {
      "tags": []
     },
     "output_type": "display_data"
    }
   ],
   "source": [
    "import matplotlib.pyplot as plt\n",
    "%matplotlib inline\n",
    "\n",
    "# create histogram\n",
    "plt.figure(figsize=(15, 8))\n",
    "plt.hist(dataset['Sales'], bins=30)\n",
    "plt.title(\"Histogram for Store Sales\")\n",
    "plt.xlabel(\"Bins\")\n",
    "plt.ylabel(\"Frequency\")\n",
    "plt.show()"
   ]
  },
  {
   "cell_type": "markdown",
   "metadata": {
    "colab_type": "text",
    "id": "V9QKmKY2teZq"
   },
   "source": [
    "### Exploring Numeric Columns"
   ]
  },
  {
   "cell_type": "code",
   "execution_count": 17,
   "metadata": {
    "colab": {
     "base_uri": "https://localhost:8080/",
     "height": 627
    },
    "colab_type": "code",
    "id": "WYXs7ekftro8",
    "outputId": "3711066b-29f7-46f9-f048-38f2d9cb49ce"
   },
   "outputs": [
    {
     "data": {
      "image/png": "[encoded data removed]",
      "text/plain": [
       "<Figure size 1440x720 with 20 Axes>"
      ]
     },
     "metadata": {
      "tags": []
     },
     "output_type": "display_data"
    }
   ],
   "source": [
    "dataset.hist(figsize=(20, 10), bins=30);"
   ]
  },
  {
   "cell_type": "code",
   "execution_count": 18,
   "metadata": {
    "colab": {
     "base_uri": "https://localhost:8080/",
     "height": 479
    },
    "colab_type": "code",
    "id": "XW01fZkCt0vB",
    "outputId": "ca4f8740-1489-4f49-f4ac-a8f189d0e3d0"
   },
   "outputs": [
    {
     "data": {
      "text/plain": [
       "Store                         0.000000\n",
       "DayOfWeek                     0.000000\n",
       "Date                          0.000000\n",
       "Sales                         0.000000\n",
       "Customers                     0.000000\n",
       "Open                          0.000000\n",
       "Promo                         0.000000\n",
       "StateHoliday                  0.000000\n",
       "SchoolHoliday                 0.000098\n",
       "StoreType                     0.000000\n",
       "Assortment                    0.000000\n",
       "CompetitionDistance           0.259730\n",
       "CompetitionOpenSinceMonth    31.787764\n",
       "CompetitionOpenSinceYear     31.787764\n",
       "Promo2                        0.000000\n",
       "Promo2SinceWeek              49.943620\n",
       "Promo2SinceYear              49.943620\n",
       "PromoInterval                49.943620\n",
       "Month                         0.000000\n",
       "Quarter                       0.000000\n",
       "Year                          0.000000\n",
       "Day                           0.000000\n",
       "Week                          0.000000\n",
       "Season                        0.000000\n",
       "dtype: float64"
      ]
     },
     "execution_count": 18,
     "metadata": {
      "tags": []
     },
     "output_type": "execute_result"
    }
   ],
   "source": [
    "dataset.isnull().sum()/dataset.shape[0] * 100"
   ]
  },
  {
   "cell_type": "markdown",
   "metadata": {
    "colab_type": "text",
    "id": "96DfXCwjvE5Q"
   },
   "source": [
    "As a rule of thumb, if there isa loss of anything between 0% and 10%, we can make a few attempts to fill the missing points and use the feature. But, 30% technically becomes beyond the usable range."
   ]
  },
  {
   "cell_type": "markdown",
   "metadata": {
    "colab_type": "text",
    "id": "rxEoWu-pvnUC"
   },
   "source": [
    "There are several ways we can treat missing data points. The most\n",
    "common methods, like replace with mean and replace with mode, are easy\n",
    "to use and work relatively well. However, this would completely depend on\n",
    "your feature. If there is a 2% loss in a very crucial feature, you might want to\n",
    "leverage a better estimation approach to fill in the gaps. Popular techniques\n",
    "in such scenarios are clustering for missing value treatment, developing\n",
    "smaller regression models for estimating the missing values, and so on."
   ]
  },
  {
   "cell_type": "code",
   "execution_count": null,
   "metadata": {
    "colab": {},
    "colab_type": "code",
    "id": "WaAxkZS8v5zS"
   },
   "outputs": [],
   "source": [
    "# replace nulls with the mode\n",
    "dataset['CompetitionDistance'] = dataset['CompetitionDistance'].fillna(dataset['CompetitionDistance'].mode()[0])"
   ]
  },
  {
   "cell_type": "code",
   "execution_count": 20,
   "metadata": {
    "colab": {
     "base_uri": "https://localhost:8080/",
     "height": 35
    },
    "colab_type": "code",
    "id": "pmydGU2zwaBP",
    "outputId": "84f29b57-1b81-4ad8-c69d-d417897557ce"
   },
   "outputs": [
    {
     "data": {
      "text/plain": [
       "0.0"
      ]
     },
     "execution_count": 20,
     "metadata": {
      "tags": []
     },
     "output_type": "execute_result"
    }
   ],
   "source": [
    "#Double check if we still see nulls for the column\n",
    "dataset[\"CompetitionDistance\"].isnull().sum()/dataset.shape[0] * 100"
   ]
  },
  {
   "cell_type": "markdown",
   "metadata": {
    "colab_type": "text",
    "id": "2pDhOQhDwedd"
   },
   "source": [
    "### Understanding the Categorical Features"
   ]
  },
  {
   "cell_type": "code",
   "execution_count": 21,
   "metadata": {
    "colab": {
     "base_uri": "https://localhost:8080/",
     "height": 35
    },
    "colab_type": "code",
    "id": "kD2syoskwom0",
    "outputId": "d8e03c0f-de43-4cac-8f5c-09682da7b91c"
   },
   "outputs": [
    {
     "data": {
      "text/plain": [
       "(1017209, 24)"
      ]
     },
     "execution_count": 21,
     "metadata": {
      "tags": []
     },
     "output_type": "execute_result"
    }
   ],
   "source": [
    "dataset.shape"
   ]
  },
  {
   "cell_type": "code",
   "execution_count": null,
   "metadata": {
    "colab": {},
    "colab_type": "code",
    "id": "iAVKyXqmxKfe"
   },
   "outputs": [],
   "source": [
    "import seaborn as sns\n",
    "sns.set_style('whitegrid')"
   ]
  },
  {
   "cell_type": "code",
   "execution_count": 23,
   "metadata": {
    "colab": {
     "base_uri": "https://localhost:8080/",
     "height": 283
    },
    "colab_type": "code",
    "id": "s-TNFcRKxTOF",
    "outputId": "50c1956a-6719-43ee-a92c-ea92faa9b51d"
   },
   "outputs": [
    {
     "data": {
      "image/png": "[encoded data removed]",
      "text/plain": [
       "<Figure size 432x288 with 1 Axes>"
      ]
     },
     "metadata": {
      "tags": []
     },
     "output_type": "display_data"
    }
   ],
   "source": [
    "#Create the bar plot for Average Sales across different Seasons\n",
    "ax = sns.barplot(x=\"Season\", y=\"Sales\", data=dataset)"
   ]
  },
  {
   "cell_type": "code",
   "execution_count": 24,
   "metadata": {
    "colab": {
     "base_uri": "https://localhost:8080/",
     "height": 283
    },
    "colab_type": "code",
    "id": "SIn_2LFtxYuE",
    "outputId": "a001f8b1-f533-4f52-b0a9-0b3822f59bbd"
   },
   "outputs": [
    {
     "data": {
      "image/png": "[encoded data removed]",
      "text/plain": [
       "<Figure size 432x288 with 1 Axes>"
      ]
     },
     "metadata": {
      "tags": []
     },
     "output_type": "display_data"
    }
   ],
   "source": [
    "#Create the bar plot for Average Sales across different Assortments\n",
    "ax = sns.barplot(x=\"Assortment\", y=\"Sales\", data=dataset)"
   ]
  },
  {
   "cell_type": "code",
   "execution_count": 25,
   "metadata": {
    "colab": {
     "base_uri": "https://localhost:8080/",
     "height": 283
    },
    "colab_type": "code",
    "id": "e4PBawssxePQ",
    "outputId": "221913f2-4146-45c6-dfd1-d412903c0c88"
   },
   "outputs": [
    {
     "data": {
      "image/png": "[encoded data removed]",
      "text/plain": [
       "<Figure size 432x288 with 1 Axes>"
      ]
     },
     "metadata": {
      "tags": []
     },
     "output_type": "display_data"
    }
   ],
   "source": [
    "#Create the bar plot for Average Sales across different Store Types\n",
    "ax = sns.barplot(x=\"StoreType\", y=\"Sales\", data=dataset)"
   ]
  },
  {
   "cell_type": "code",
   "execution_count": 26,
   "metadata": {
    "colab": {
     "base_uri": "https://localhost:8080/",
     "height": 283
    },
    "colab_type": "code",
    "id": "K3taBJIdyYT0",
    "outputId": "e0a7ad84-1ef1-4a9a-a34d-9d4bcbc46159"
   },
   "outputs": [
    {
     "data": {
      "image/png": "[encoded data removed]",
      "text/plain": [
       "<Figure size 432x288 with 1 Axes>"
      ]
     },
     "metadata": {
      "tags": []
     },
     "output_type": "display_data"
    }
   ],
   "source": [
    "ax = sns.barplot(x=\"Season\", y=\"Sales\", data=dataset,\n",
    "                 estimator=np.size)"
   ]
  },
  {
   "cell_type": "code",
   "execution_count": 27,
   "metadata": {
    "colab": {
     "base_uri": "https://localhost:8080/",
     "height": 283
    },
    "colab_type": "code",
    "id": "im1ej1L9ydCT",
    "outputId": "97235795-390b-4c73-bc3a-1d8b0ecce096"
   },
   "outputs": [
    {
     "data": {
      "image/png": "[encoded data removed]",
      "text/plain": [
       "<Figure size 432x288 with 1 Axes>"
      ]
     },
     "metadata": {
      "tags": []
     },
     "output_type": "display_data"
    }
   ],
   "source": [
    "ax = sns.barplot(x=\"Assortment\", y=\"Sales\", data=dataset,\n",
    "                 estimator=np.size)  "
   ]
  },
  {
   "cell_type": "code",
   "execution_count": 28,
   "metadata": {
    "colab": {
     "base_uri": "https://localhost:8080/",
     "height": 283
    },
    "colab_type": "code",
    "id": "Dz2J24mMytUX",
    "outputId": "a7fc9773-cda7-4487-9ebf-138ad95220ef"
   },
   "outputs": [
    {
     "data": {
      "image/png": "[encoded data removed]",
      "text/plain": [
       "<Figure size 432x288 with 1 Axes>"
      ]
     },
     "metadata": {
      "tags": []
     },
     "output_type": "display_data"
    }
   ],
   "source": [
    "ax = sns.barplot(x=\"StoreType\", y=\"Sales\", data=dataset,\n",
    "                 estimator=np.size)"
   ]
  },
  {
   "cell_type": "markdown",
   "metadata": {
    "colab_type": "text",
    "id": "GVTXWbyXzI4I"
   },
   "source": [
    "### Data Engineering"
   ]
  },
  {
   "cell_type": "markdown",
   "metadata": {
    "colab_type": "text",
    "id": "WKwCfkBTzTiO"
   },
   "source": [
    "One-hot encoding is a simple process of representing a categorical\n",
    "column as an expanded binary labeled matrix. So, a categorical feature\n",
    "with three distinct values, say “Class A,” “Class B,” and “Class C,” can be\n",
    "represented with three columns instead of one, where each column would\n",
    "represent a binary flag for an individual category value. This is further\n",
    "summarized in the following example."
   ]
  },
  {
   "cell_type": "code",
   "execution_count": 29,
   "metadata": {
    "colab": {
     "base_uri": "https://localhost:8080/",
     "height": 555
    },
    "colab_type": "code",
    "id": "Aw16N3eYzq3m",
    "outputId": "6d50cf0f-fe92-4249-a484-4ca0452884a4"
   },
   "outputs": [
    {
     "name": "stderr",
     "output_type": "stream",
     "text": [
      "/usr/local/lib/python3.6/dist-packages/sklearn/preprocessing/_encoders.py:415: FutureWarning: The handling of integer data will change in version 0.22. Currently, the categories are determined based on the range [0, max(values)], while in the future they will be determined based on the unique values.\n",
      "If you want the future behaviour and silence this warning, you can specify \"categories='auto'\".\n",
      "In case you used a LabelEncoder before this OneHotEncoder to convert the categories to integers, then you can now use the OneHotEncoder directly.\n",
      "  warnings.warn(msg, FutureWarning)\n",
      "/usr/local/lib/python3.6/dist-packages/sklearn/preprocessing/_encoders.py:415: FutureWarning: The handling of integer data will change in version 0.22. Currently, the categories are determined based on the range [0, max(values)], while in the future they will be determined based on the unique values.\n",
      "If you want the future behaviour and silence this warning, you can specify \"categories='auto'\".\n",
      "In case you used a LabelEncoder before this OneHotEncoder to convert the categories to integers, then you can now use the OneHotEncoder directly.\n",
      "  warnings.warn(msg, FutureWarning)\n",
      "/usr/local/lib/python3.6/dist-packages/sklearn/preprocessing/_encoders.py:415: FutureWarning: The handling of integer data will change in version 0.22. Currently, the categories are determined based on the range [0, max(values)], while in the future they will be determined based on the unique values.\n",
      "If you want the future behaviour and silence this warning, you can specify \"categories='auto'\".\n",
      "In case you used a LabelEncoder before this OneHotEncoder to convert the categories to integers, then you can now use the OneHotEncoder directly.\n",
      "  warnings.warn(msg, FutureWarning)\n",
      "/usr/local/lib/python3.6/dist-packages/sklearn/preprocessing/_encoders.py:415: FutureWarning: The handling of integer data will change in version 0.22. Currently, the categories are determined based on the range [0, max(values)], while in the future they will be determined based on the unique values.\n",
      "If you want the future behaviour and silence this warning, you can specify \"categories='auto'\".\n",
      "In case you used a LabelEncoder before this OneHotEncoder to convert the categories to integers, then you can now use the OneHotEncoder directly.\n",
      "  warnings.warn(msg, FutureWarning)\n",
      "/usr/local/lib/python3.6/dist-packages/sklearn/preprocessing/_encoders.py:415: FutureWarning: The handling of integer data will change in version 0.22. Currently, the categories are determined based on the range [0, max(values)], while in the future they will be determined based on the unique values.\n",
      "If you want the future behaviour and silence this warning, you can specify \"categories='auto'\".\n",
      "In case you used a LabelEncoder before this OneHotEncoder to convert the categories to integers, then you can now use the OneHotEncoder directly.\n",
      "  warnings.warn(msg, FutureWarning)\n",
      "/usr/local/lib/python3.6/dist-packages/sklearn/preprocessing/_encoders.py:415: FutureWarning: The handling of integer data will change in version 0.22. Currently, the categories are determined based on the range [0, max(values)], while in the future they will be determined based on the unique values.\n",
      "If you want the future behaviour and silence this warning, you can specify \"categories='auto'\".\n",
      "In case you used a LabelEncoder before this OneHotEncoder to convert the categories to integers, then you can now use the OneHotEncoder directly.\n",
      "  warnings.warn(msg, FutureWarning)\n",
      "/usr/local/lib/python3.6/dist-packages/sklearn/preprocessing/_encoders.py:415: FutureWarning: The handling of integer data will change in version 0.22. Currently, the categories are determined based on the range [0, max(values)], while in the future they will be determined based on the unique values.\n",
      "If you want the future behaviour and silence this warning, you can specify \"categories='auto'\".\n",
      "In case you used a LabelEncoder before this OneHotEncoder to convert the categories to integers, then you can now use the OneHotEncoder directly.\n",
      "  warnings.warn(msg, FutureWarning)\n"
     ]
    }
   ],
   "source": [
    "# define a variable for each type of feature\n",
    "from sklearn.preprocessing import LabelEncoder\n",
    "from sklearn.preprocessing import OneHotEncoder\n",
    "\n",
    "target = ['Sales']\n",
    "numeric_columns = [\"Customers\",\"Open\",\"Promo\",\"Promo2\",\n",
    "                   \"StateHoliday\",\"SchoolHoliday\",\"CompetitionDistance\"]\n",
    "categorical_columns = [\"DayOfWeek\",\"Quarter\",\"Month\",\"Year\",\n",
    "                       \"StoreType\",\"Assortment\",\"Season\"]\n",
    "\n",
    "# define a function that will intake the raw dataframe and the column name\n",
    "# and return a onehot encoded dataframe\n",
    "def create_ohe(df, col):\n",
    "  le = LabelEncoder()\n",
    "  a = le.fit_transform(dataset[col]).reshape(-1, 1)\n",
    "  ohe = OneHotEncoder(sparse=False)\n",
    "  column_names = [col+ \"_\"+ str(i) for i in le.classes_]\n",
    "  return(pd.DataFrame(ohe.fit_transform(a),columns =column_names))\n",
    "\n",
    "# since the above function converts the column, one at a time\n",
    "# we create a loop to create the final dataset with all features\n",
    "temp = dataset[numeric_columns]\n",
    "for column in categorical_columns:\n",
    "  temp_df = create_ohe(dataset,column)\n",
    "  temp = pd.concat([temp,temp_df],axis=1)"
   ]
  },
  {
   "cell_type": "code",
   "execution_count": 30,
   "metadata": {
    "colab": {
     "base_uri": "https://localhost:8080/",
     "height": 54
    },
    "colab_type": "code",
    "id": "BfTo0W9b14VY",
    "outputId": "d91dcab5-437d-4bbd-f6dc-c5111ffe927c"
   },
   "outputs": [
    {
     "name": "stdout",
     "output_type": "stream",
     "text": [
      "Shape of Data: (1017209, 44)\n",
      "Distinct Datatypes: [dtype('float64') dtype('int64') dtype('O')]\n"
     ]
    }
   ],
   "source": [
    "print(\"Shape of Data: {}\".format(temp.shape))\n",
    "print(\"Distinct Datatypes: {}\".format(temp.dtypes.unique()))"
   ]
  },
  {
   "cell_type": "code",
   "execution_count": 31,
   "metadata": {
    "colab": {
     "base_uri": "https://localhost:8080/",
     "height": 226
    },
    "colab_type": "code",
    "id": "Q96D8eco2Yu1",
    "outputId": "89710ead-c4ae-46a0-f42d-16b810f257a1"
   },
   "outputs": [
    {
     "data": {
      "text/html": [
       "<div>\n",
       "<style scoped>\n",
       "    .dataframe tbody tr th:only-of-type {\n",
       "        vertical-align: middle;\n",
       "    }\n",
       "\n",
       "    .dataframe tbody tr th {\n",
       "        vertical-align: top;\n",
       "    }\n",
       "\n",
       "    .dataframe thead th {\n",
       "        text-align: right;\n",
       "    }\n",
       "</style>\n",
       "<table border=\"1\" class=\"dataframe\">\n",
       "  <thead>\n",
       "    <tr style=\"text-align: right;\">\n",
       "      <th></th>\n",
       "      <th>Customers</th>\n",
       "      <th>Open</th>\n",
       "      <th>Promo</th>\n",
       "      <th>Promo2</th>\n",
       "      <th>StateHoliday</th>\n",
       "      <th>SchoolHoliday</th>\n",
       "      <th>CompetitionDistance</th>\n",
       "      <th>DayOfWeek_1</th>\n",
       "      <th>DayOfWeek_2</th>\n",
       "      <th>DayOfWeek_3</th>\n",
       "      <th>DayOfWeek_4</th>\n",
       "      <th>DayOfWeek_5</th>\n",
       "      <th>DayOfWeek_6</th>\n",
       "      <th>DayOfWeek_7</th>\n",
       "      <th>Quarter_1</th>\n",
       "      <th>Quarter_2</th>\n",
       "      <th>Quarter_3</th>\n",
       "      <th>Quarter_4</th>\n",
       "      <th>Month_1</th>\n",
       "      <th>Month_2</th>\n",
       "      <th>Month_3</th>\n",
       "      <th>Month_4</th>\n",
       "      <th>Month_5</th>\n",
       "      <th>Month_6</th>\n",
       "      <th>Month_7</th>\n",
       "      <th>Month_8</th>\n",
       "      <th>Month_9</th>\n",
       "      <th>Month_10</th>\n",
       "      <th>Month_11</th>\n",
       "      <th>Month_12</th>\n",
       "      <th>Year_2013</th>\n",
       "      <th>Year_2014</th>\n",
       "      <th>Year_2015</th>\n",
       "      <th>StoreType_a</th>\n",
       "      <th>StoreType_b</th>\n",
       "      <th>StoreType_c</th>\n",
       "      <th>StoreType_d</th>\n",
       "      <th>Assortment_a</th>\n",
       "      <th>Assortment_b</th>\n",
       "      <th>Assortment_c</th>\n",
       "      <th>Season_Fall</th>\n",
       "      <th>Season_Spring</th>\n",
       "      <th>Season_Summer</th>\n",
       "      <th>Season_Winter</th>\n",
       "    </tr>\n",
       "  </thead>\n",
       "  <tbody>\n",
       "    <tr>\n",
       "      <th>0</th>\n",
       "      <td>555.0</td>\n",
       "      <td>1</td>\n",
       "      <td>1</td>\n",
       "      <td>0</td>\n",
       "      <td>0</td>\n",
       "      <td>1.0</td>\n",
       "      <td>1270.0</td>\n",
       "      <td>0.0</td>\n",
       "      <td>0.0</td>\n",
       "      <td>0.0</td>\n",
       "      <td>0.0</td>\n",
       "      <td>1.0</td>\n",
       "      <td>0.0</td>\n",
       "      <td>0.0</td>\n",
       "      <td>0.0</td>\n",
       "      <td>0.0</td>\n",
       "      <td>1.0</td>\n",
       "      <td>0.0</td>\n",
       "      <td>0.0</td>\n",
       "      <td>0.0</td>\n",
       "      <td>0.0</td>\n",
       "      <td>0.0</td>\n",
       "      <td>0.0</td>\n",
       "      <td>0.0</td>\n",
       "      <td>1.0</td>\n",
       "      <td>0.0</td>\n",
       "      <td>0.0</td>\n",
       "      <td>0.0</td>\n",
       "      <td>0.0</td>\n",
       "      <td>0.0</td>\n",
       "      <td>0.0</td>\n",
       "      <td>0.0</td>\n",
       "      <td>1.0</td>\n",
       "      <td>0.0</td>\n",
       "      <td>0.0</td>\n",
       "      <td>1.0</td>\n",
       "      <td>0.0</td>\n",
       "      <td>1.0</td>\n",
       "      <td>0.0</td>\n",
       "      <td>0.0</td>\n",
       "      <td>0.0</td>\n",
       "      <td>0.0</td>\n",
       "      <td>1.0</td>\n",
       "      <td>0.0</td>\n",
       "    </tr>\n",
       "    <tr>\n",
       "      <th>1</th>\n",
       "      <td>546.0</td>\n",
       "      <td>1</td>\n",
       "      <td>1</td>\n",
       "      <td>0</td>\n",
       "      <td>0</td>\n",
       "      <td>1.0</td>\n",
       "      <td>1270.0</td>\n",
       "      <td>0.0</td>\n",
       "      <td>0.0</td>\n",
       "      <td>0.0</td>\n",
       "      <td>1.0</td>\n",
       "      <td>0.0</td>\n",
       "      <td>0.0</td>\n",
       "      <td>0.0</td>\n",
       "      <td>0.0</td>\n",
       "      <td>0.0</td>\n",
       "      <td>1.0</td>\n",
       "      <td>0.0</td>\n",
       "      <td>0.0</td>\n",
       "      <td>0.0</td>\n",
       "      <td>0.0</td>\n",
       "      <td>0.0</td>\n",
       "      <td>0.0</td>\n",
       "      <td>0.0</td>\n",
       "      <td>1.0</td>\n",
       "      <td>0.0</td>\n",
       "      <td>0.0</td>\n",
       "      <td>0.0</td>\n",
       "      <td>0.0</td>\n",
       "      <td>0.0</td>\n",
       "      <td>0.0</td>\n",
       "      <td>0.0</td>\n",
       "      <td>1.0</td>\n",
       "      <td>0.0</td>\n",
       "      <td>0.0</td>\n",
       "      <td>1.0</td>\n",
       "      <td>0.0</td>\n",
       "      <td>1.0</td>\n",
       "      <td>0.0</td>\n",
       "      <td>0.0</td>\n",
       "      <td>0.0</td>\n",
       "      <td>0.0</td>\n",
       "      <td>1.0</td>\n",
       "      <td>0.0</td>\n",
       "    </tr>\n",
       "    <tr>\n",
       "      <th>2</th>\n",
       "      <td>523.0</td>\n",
       "      <td>1</td>\n",
       "      <td>1</td>\n",
       "      <td>0</td>\n",
       "      <td>0</td>\n",
       "      <td>1.0</td>\n",
       "      <td>1270.0</td>\n",
       "      <td>0.0</td>\n",
       "      <td>0.0</td>\n",
       "      <td>1.0</td>\n",
       "      <td>0.0</td>\n",
       "      <td>0.0</td>\n",
       "      <td>0.0</td>\n",
       "      <td>0.0</td>\n",
       "      <td>0.0</td>\n",
       "      <td>0.0</td>\n",
       "      <td>1.0</td>\n",
       "      <td>0.0</td>\n",
       "      <td>0.0</td>\n",
       "      <td>0.0</td>\n",
       "      <td>0.0</td>\n",
       "      <td>0.0</td>\n",
       "      <td>0.0</td>\n",
       "      <td>0.0</td>\n",
       "      <td>1.0</td>\n",
       "      <td>0.0</td>\n",
       "      <td>0.0</td>\n",
       "      <td>0.0</td>\n",
       "      <td>0.0</td>\n",
       "      <td>0.0</td>\n",
       "      <td>0.0</td>\n",
       "      <td>0.0</td>\n",
       "      <td>1.0</td>\n",
       "      <td>0.0</td>\n",
       "      <td>0.0</td>\n",
       "      <td>1.0</td>\n",
       "      <td>0.0</td>\n",
       "      <td>1.0</td>\n",
       "      <td>0.0</td>\n",
       "      <td>0.0</td>\n",
       "      <td>0.0</td>\n",
       "      <td>0.0</td>\n",
       "      <td>1.0</td>\n",
       "      <td>0.0</td>\n",
       "    </tr>\n",
       "    <tr>\n",
       "      <th>3</th>\n",
       "      <td>560.0</td>\n",
       "      <td>1</td>\n",
       "      <td>1</td>\n",
       "      <td>0</td>\n",
       "      <td>0</td>\n",
       "      <td>1.0</td>\n",
       "      <td>1270.0</td>\n",
       "      <td>0.0</td>\n",
       "      <td>1.0</td>\n",
       "      <td>0.0</td>\n",
       "      <td>0.0</td>\n",
       "      <td>0.0</td>\n",
       "      <td>0.0</td>\n",
       "      <td>0.0</td>\n",
       "      <td>0.0</td>\n",
       "      <td>0.0</td>\n",
       "      <td>1.0</td>\n",
       "      <td>0.0</td>\n",
       "      <td>0.0</td>\n",
       "      <td>0.0</td>\n",
       "      <td>0.0</td>\n",
       "      <td>0.0</td>\n",
       "      <td>0.0</td>\n",
       "      <td>0.0</td>\n",
       "      <td>1.0</td>\n",
       "      <td>0.0</td>\n",
       "      <td>0.0</td>\n",
       "      <td>0.0</td>\n",
       "      <td>0.0</td>\n",
       "      <td>0.0</td>\n",
       "      <td>0.0</td>\n",
       "      <td>0.0</td>\n",
       "      <td>1.0</td>\n",
       "      <td>0.0</td>\n",
       "      <td>0.0</td>\n",
       "      <td>1.0</td>\n",
       "      <td>0.0</td>\n",
       "      <td>1.0</td>\n",
       "      <td>0.0</td>\n",
       "      <td>0.0</td>\n",
       "      <td>0.0</td>\n",
       "      <td>0.0</td>\n",
       "      <td>1.0</td>\n",
       "      <td>0.0</td>\n",
       "    </tr>\n",
       "    <tr>\n",
       "      <th>4</th>\n",
       "      <td>612.0</td>\n",
       "      <td>1</td>\n",
       "      <td>1</td>\n",
       "      <td>0</td>\n",
       "      <td>0</td>\n",
       "      <td>1.0</td>\n",
       "      <td>1270.0</td>\n",
       "      <td>1.0</td>\n",
       "      <td>0.0</td>\n",
       "      <td>0.0</td>\n",
       "      <td>0.0</td>\n",
       "      <td>0.0</td>\n",
       "      <td>0.0</td>\n",
       "      <td>0.0</td>\n",
       "      <td>0.0</td>\n",
       "      <td>0.0</td>\n",
       "      <td>1.0</td>\n",
       "      <td>0.0</td>\n",
       "      <td>0.0</td>\n",
       "      <td>0.0</td>\n",
       "      <td>0.0</td>\n",
       "      <td>0.0</td>\n",
       "      <td>0.0</td>\n",
       "      <td>0.0</td>\n",
       "      <td>1.0</td>\n",
       "      <td>0.0</td>\n",
       "      <td>0.0</td>\n",
       "      <td>0.0</td>\n",
       "      <td>0.0</td>\n",
       "      <td>0.0</td>\n",
       "      <td>0.0</td>\n",
       "      <td>0.0</td>\n",
       "      <td>1.0</td>\n",
       "      <td>0.0</td>\n",
       "      <td>0.0</td>\n",
       "      <td>1.0</td>\n",
       "      <td>0.0</td>\n",
       "      <td>1.0</td>\n",
       "      <td>0.0</td>\n",
       "      <td>0.0</td>\n",
       "      <td>0.0</td>\n",
       "      <td>0.0</td>\n",
       "      <td>1.0</td>\n",
       "      <td>0.0</td>\n",
       "    </tr>\n",
       "  </tbody>\n",
       "</table>\n",
       "</div>"
      ],
      "text/plain": [
       "   Customers  Open  Promo  ...  Season_Spring Season_Summer  Season_Winter\n",
       "0      555.0     1      1  ...            0.0           1.0            0.0\n",
       "1      546.0     1      1  ...            0.0           1.0            0.0\n",
       "2      523.0     1      1  ...            0.0           1.0            0.0\n",
       "3      560.0     1      1  ...            0.0           1.0            0.0\n",
       "4      612.0     1      1  ...            0.0           1.0            0.0\n",
       "\n",
       "[5 rows x 44 columns]"
      ]
     },
     "execution_count": 31,
     "metadata": {
      "tags": []
     },
     "output_type": "execute_result"
    }
   ],
   "source": [
    "temp.head()"
   ]
  },
  {
   "cell_type": "code",
   "execution_count": 32,
   "metadata": {
    "colab": {
     "base_uri": "https://localhost:8080/",
     "height": 35
    },
    "colab_type": "code",
    "id": "4ssviAVu2eLO",
    "outputId": "3e52917e-c29e-4649-8d8f-771f962aed1e"
   },
   "outputs": [
    {
     "name": "stdout",
     "output_type": "stream",
     "text": [
      "Index(['StateHoliday'], dtype='object')\n"
     ]
    }
   ],
   "source": [
    "print(temp.columns[temp.dtypes==\"object\"])"
   ]
  },
  {
   "cell_type": "code",
   "execution_count": 33,
   "metadata": {
    "colab": {
     "base_uri": "https://localhost:8080/",
     "height": 35
    },
    "colab_type": "code",
    "id": "Pm9ZISk62mAd",
    "outputId": "838a62c4-ca37-49cb-b439-e367ef4f6e43"
   },
   "outputs": [
    {
     "data": {
      "text/plain": [
       "array(['0', 'a', 'b', 'c', 0], dtype=object)"
      ]
     },
     "execution_count": 33,
     "metadata": {
      "tags": []
     },
     "output_type": "execute_result"
    }
   ],
   "source": [
    "temp[\"StateHoliday\"].unique()"
   ]
  },
  {
   "cell_type": "code",
   "execution_count": 34,
   "metadata": {
    "colab": {
     "base_uri": "https://localhost:8080/",
     "height": 35
    },
    "colab_type": "code",
    "id": "R_Z_kx9s2qXe",
    "outputId": "773c8914-28a6-411d-abb0-6fe4038e21bf"
   },
   "outputs": [
    {
     "data": {
      "text/plain": [
       "array([dtype('float64'), dtype('int64')], dtype=object)"
      ]
     },
     "execution_count": 34,
     "metadata": {
      "tags": []
     },
     "output_type": "execute_result"
    }
   ],
   "source": [
    "temp[\"StateHoliday\"]= np.where(temp[\"StateHoliday\"]== '0',0,1)\n",
    "#One last check of the data type\n",
    "temp.dtypes.unique()"
   ]
  },
  {
   "cell_type": "markdown",
   "metadata": {
    "colab_type": "text",
    "id": "dAehr1cJ2z4W"
   },
   "source": [
    "We will first create train and test datasets with an 80:20 ratio. Then,\n",
    "we will use the train dataset to further split into training and validation\n",
    "datasets at a 90:10 ratio. These ratios can be further adjusted based on your\n",
    "judgment. We can use the train_test_split function provided by the\n",
    "scikit-learn package to divide the datasets."
   ]
  },
  {
   "cell_type": "code",
   "execution_count": null,
   "metadata": {
    "colab": {},
    "colab_type": "code",
    "id": "Ta8OYue03E1U"
   },
   "outputs": [],
   "source": [
    "from sklearn.model_selection import train_test_split\n",
    "# create train and test dataset with an 80:20 split\n",
    "x_train, x_test, y_train, y_test = train_test_split(temp, dataset[target],\n",
    "                                                    test_size=0.2,random_state=2019)\n",
    "#Further divide training dataset into train and validation\n",
    "# dataset with an 90:10 split\n",
    "x_train, x_val, y_train, y_val = train_test_split(x_train, y_train,\n",
    "                                                  test_size=0.1,random_state=2019)"
   ]
  },
  {
   "cell_type": "code",
   "execution_count": 36,
   "metadata": {
    "colab": {
     "base_uri": "https://localhost:8080/",
     "height": 128
    },
    "colab_type": "code",
    "id": "kFu2kOTM3kXI",
    "outputId": "c94d9fac-d25d-4518-8a70-f7f8706dfaf3"
   },
   "outputs": [
    {
     "name": "stdout",
     "output_type": "stream",
     "text": [
      "Shape of x_train: (732390, 44)\n",
      "Shape of x_val: (81377, 44)\n",
      "Shape of x_test: (203442, 44)\n",
      "Shape of y_train: (732390, 1)\n",
      "Shape of y_val: (81377, 1)\n",
      "Shape of y_test: (203442, 1)\n"
     ]
    }
   ],
   "source": [
    "#Check the sizes of all newly created datasets\n",
    "print(\"Shape of x_train:\",x_train.shape)\n",
    "print(\"Shape of x_val:\",x_val.shape)\n",
    "print(\"Shape of x_test:\",x_test.shape)\n",
    "print(\"Shape of y_train:\",y_train.shape)\n",
    "print(\"Shape of y_val:\",y_val.shape)\n",
    "print(\"Shape of y_test:\",y_test.shape)"
   ]
  },
  {
   "cell_type": "markdown",
   "metadata": {
    "colab_type": "text",
    "id": "DYDZV6Xe4CS_"
   },
   "source": [
    "### Defining Model Baseline Performance"
   ]
  },
  {
   "cell_type": "markdown",
   "metadata": {
    "colab_type": "text",
    "id": "FKhDsWVG3mCk"
   },
   "source": [
    "To define the model baseline performance, we should consider the mean\n",
    "of the target variable in the training dataset as the prediction for all test\n",
    "samples. The metric we shall use to perform this test is MAE (mean\n",
    "absolute error)."
   ]
  },
  {
   "cell_type": "code",
   "execution_count": 37,
   "metadata": {
    "colab": {
     "base_uri": "https://localhost:8080/",
     "height": 54
    },
    "colab_type": "code",
    "id": "V3o_TESV4L0d",
    "outputId": "f834cf4d-5897-4d42-8eee-b754ffb35b30"
   },
   "outputs": [
    {
     "name": "stdout",
     "output_type": "stream",
     "text": [
      "Average Sales:  Sales    5770.380904\n",
      "dtype: float64\n"
     ]
    }
   ],
   "source": [
    "# calculate the average score of the train dataset\n",
    "mean_sales = y_train.mean()\n",
    "print(\"Average Sales: \", mean_sales)"
   ]
  },
  {
   "cell_type": "code",
   "execution_count": 38,
   "metadata": {
    "colab": {
     "base_uri": "https://localhost:8080/",
     "height": 35
    },
    "colab_type": "code",
    "id": "_bYQ2HcQ4jDE",
    "outputId": "3d27fdbf-0174-4115-e1c4-cc8e11300347"
   },
   "outputs": [
    {
     "name": "stdout",
     "output_type": "stream",
     "text": [
      "MAE for test data 2893.14828270586\n"
     ]
    }
   ],
   "source": [
    "# calculate the mean absolute error on the test dataset\n",
    "print(\"MAE for test data\", np.abs(y_test - mean_sales).mean()[0])"
   ]
  },
  {
   "cell_type": "markdown",
   "metadata": {
    "colab_type": "text",
    "id": "jc55BqJB4wIL"
   },
   "source": [
    "If our DL model doesn’t deliver results better (i.e., lower) than the\n",
    "baseline score, then it would barely add any value."
   ]
  },
  {
   "cell_type": "markdown",
   "metadata": {
    "colab_type": "text",
    "id": "cyMZuiDo5QfT"
   },
   "source": [
    "---"
   ]
  },
  {
   "cell_type": "markdown",
   "metadata": {
    "colab_type": "text",
    "id": "m9YGGPTP5gfn"
   },
   "source": [
    "## Designing the DNN"
   ]
  },
  {
   "cell_type": "markdown",
   "metadata": {
    "colab_type": "text",
    "id": "LwtjSnua5inZ"
   },
   "source": [
    "Here are a few guidelines.\n",
    "\n",
    "- Rule 1: Start with small architectures.\n",
    "\n",
    "  In the case of DNNs, it is always advised to\n",
    "  start with a single-layer network with around\n",
    "  100–300 neurons. Train the network and measure\n",
    "  performance using the defined metrics (while\n",
    "  defining the baseline score). If the results are not\n",
    "  encouraging, try adding one more layer with the\n",
    "  same number of neurons and repeating the process.\n",
    "\n",
    "- Rule 2: When small architectures (with two layers)\n",
    "fail, increase the size.\n",
    "\n",
    "  When the results from small networks are not\n",
    "  great, you need to increase the number of neurons\n",
    "  in layers by three to five times (i.e., around 1,000\n",
    "  neurons in each layer). Also, increase regularization\n",
    "  (to be covered in depth in Chapter 5) to 0.3, 0.4,\n",
    "  or 0.5 for both layers and repeat the process for\n",
    "  training and performance measurement.\n",
    "\n",
    "- Rule 3: When larger networks with two layers fail, go\n",
    "deeper.\n",
    "\n",
    "  Try increasing the depth of the network with more\n",
    "  and more layers while maintaining regularization with\n",
    "  dropout layers (if required) after each dense (or your\n",
    "  selected layer) with a dropout rate between 0.2 and 0.5.\n",
    "\n",
    "- Rule 4: When larger and deeper networks also fail, go\n",
    "even larger and even deeper.\n",
    "\n",
    "  In case large networks with ~1000 neurons and five\n",
    "  or six layers also don’t give the desired performance,\n",
    "  try increasing the width and depth of the network.\n",
    "  Try adding layers with 8,000–10,000 neurons per\n",
    "  layer and a dropout of 0.6 to 0.8.\n",
    "\n",
    "- Rule 5: When everything fails, revisit the data.\n",
    "\n",
    "  If all the aforementioned rules fail,revisit the\n",
    "  data for improved feature engineering and\n",
    "  normalization, and then you will need to try other\n",
    "  ML alternatives.\n",
    "\n"
   ]
  },
  {
   "cell_type": "markdown",
   "metadata": {
    "colab_type": "text",
    "id": "UGVSdUpC5wHL"
   },
   "source": [
    "So, let’s get started. The following code snippet creates a DNN with just\n",
    "one layer of 150 neurons."
   ]
  },
  {
   "cell_type": "code",
   "execution_count": 38,
   "metadata": {
    "colab": {
     "base_uri": "https://localhost:8080/",
     "height": 702
    },
    "colab_type": "code",
    "id": "Wk8tC0B57qNX",
    "outputId": "c608aad6-371f-48e5-9ca0-594a078162a7"
   },
   "outputs": [
    {
     "name": "stderr",
     "output_type": "stream",
     "text": [
      "Using TensorFlow backend.\n",
      "WARNING: Logging before flag parsing goes to stderr.\n",
      "W0905 07:39:22.914074 140612241053568 deprecation_wrapper.py:119] From /usr/local/lib/python3.6/dist-packages/keras/backend/tensorflow_backend.py:66: The name tf.get_default_graph is deprecated. Please use tf.compat.v1.get_default_graph instead.\n",
      "\n",
      "W0905 07:39:22.948402 140612241053568 deprecation_wrapper.py:119] From /usr/local/lib/python3.6/dist-packages/keras/backend/tensorflow_backend.py:541: The name tf.placeholder is deprecated. Please use tf.compat.v1.placeholder instead.\n",
      "\n",
      "W0905 07:39:22.955974 140612241053568 deprecation_wrapper.py:119] From /usr/local/lib/python3.6/dist-packages/keras/backend/tensorflow_backend.py:4432: The name tf.random_uniform is deprecated. Please use tf.random.uniform instead.\n",
      "\n",
      "W0905 07:39:22.988777 140612241053568 deprecation_wrapper.py:119] From /usr/local/lib/python3.6/dist-packages/keras/optimizers.py:793: The name tf.train.Optimizer is deprecated. Please use tf.compat.v1.train.Optimizer instead.\n",
      "\n",
      "W0905 07:39:23.234708 140612241053568 deprecation_wrapper.py:119] From /usr/local/lib/python3.6/dist-packages/keras/backend/tensorflow_backend.py:1033: The name tf.assign_add is deprecated. Please use tf.compat.v1.assign_add instead.\n",
      "\n",
      "W0905 07:39:23.300533 140612241053568 deprecation_wrapper.py:119] From /usr/local/lib/python3.6/dist-packages/keras/backend/tensorflow_backend.py:1020: The name tf.assign is deprecated. Please use tf.compat.v1.assign instead.\n",
      "\n"
     ]
    },
    {
     "name": "stdout",
     "output_type": "stream",
     "text": [
      "Train on 732390 samples, validate on 81377 samples\n",
      "Epoch 1/10\n",
      "732390/732390 [==============================] - 16s 21us/step - loss: 956.7231 - mean_absolute_error: 956.7231 - val_loss: nan - val_mean_absolute_error: nan\n",
      "Epoch 2/10\n",
      "732390/732390 [==============================] - 15s 21us/step - loss: 790.2452 - mean_absolute_error: 790.2452 - val_loss: nan - val_mean_absolute_error: nan\n",
      "Epoch 3/10\n",
      "732390/732390 [==============================] - 15s 21us/step - loss: 742.5115 - mean_absolute_error: 742.5115 - val_loss: nan - val_mean_absolute_error: nan\n",
      "Epoch 4/10\n",
      "732390/732390 [==============================] - 15s 21us/step - loss: 724.8418 - mean_absolute_error: 724.8418 - val_loss: nan - val_mean_absolute_error: nan\n",
      "Epoch 5/10\n",
      "732390/732390 [==============================] - 16s 21us/step - loss: 713.7543 - mean_absolute_error: 713.7543 - val_loss: nan - val_mean_absolute_error: nan\n",
      "Epoch 6/10\n",
      "732390/732390 [==============================] - 15s 21us/step - loss: 706.2039 - mean_absolute_error: 706.2039 - val_loss: nan - val_mean_absolute_error: nan\n",
      "Epoch 7/10\n",
      "732390/732390 [==============================] - 15s 21us/step - loss: 699.9767 - mean_absolute_error: 699.9767 - val_loss: nan - val_mean_absolute_error: nan\n",
      "Epoch 8/10\n",
      "732390/732390 [==============================] - 15s 21us/step - loss: 696.1425 - mean_absolute_error: 696.1425 - val_loss: nan - val_mean_absolute_error: nan\n",
      "Epoch 9/10\n",
      "732390/732390 [==============================] - 15s 21us/step - loss: 690.9087 - mean_absolute_error: 690.9087 - val_loss: nan - val_mean_absolute_error: nan\n",
      "Epoch 10/10\n",
      "732390/732390 [==============================] - 15s 21us/step - loss: 687.6036 - mean_absolute_error: 687.6036 - val_loss: nan - val_mean_absolute_error: nan\n"
     ]
    },
    {
     "data": {
      "text/plain": [
       "<keras.callbacks.History at 0x7fe28c0f42e8>"
      ]
     },
     "execution_count": 38,
     "metadata": {
      "tags": []
     },
     "output_type": "execute_result"
    }
   ],
   "source": [
    "# create deep neural network architecture\n",
    "from keras.models import Sequential\n",
    "from keras.layers import Dense, Activation\n",
    "\n",
    "model = Sequential()\n",
    "model.add(Dense(150, input_dim=44, activation='relu'))\n",
    "model.add(Dense(1, activation='linear'))\n",
    "\n",
    "# configure the model\n",
    "model.compile(optimizer='adam', loss='mean_absolute_error', \n",
    "              metrics=['mean_absolute_error'])\n",
    "\n",
    "# train the model\n",
    "model.fit(x_train.values, y_train.values, validation_data=(x_val.values, y_val.values),\n",
    "          batch_size=64, epochs=10)"
   ]
  },
  {
   "cell_type": "markdown",
   "metadata": {
    "colab_type": "text",
    "id": "MRZUkTks8ce6"
   },
   "source": [
    "###  Testing Model Performance"
   ]
  },
  {
   "cell_type": "code",
   "execution_count": 40,
   "metadata": {
    "colab": {
     "base_uri": "https://localhost:8080/",
     "height": 72
    },
    "colab_type": "code",
    "id": "tipz9X459a2s",
    "outputId": "03715c7c-91a6-4f18-a3bf-83d4ed214813"
   },
   "outputs": [
    {
     "name": "stdout",
     "output_type": "stream",
     "text": [
      "203442/203442 [==============================] - 3s 15us/step\n",
      "Metric  loss : 679.87\n",
      "Metric  mean_absolute_error : 679.87\n"
     ]
    }
   ],
   "source": [
    "# use the model's evaluate method to preict and evaluate the test datasets\n",
    "result = model.evaluate(x_test.values, y_test.values)\n",
    "\n",
    "# print the result\n",
    "for i in range(len(model.metrics_names)):\n",
    "  print(\"Metric \", model.metrics_names[i], ':', str(round(result[i], 2)))"
   ]
  },
  {
   "cell_type": "markdown",
   "metadata": {
    "colab_type": "text",
    "id": "4lKc-AD9be5g"
   },
   "source": [
    "### Improving the Model"
   ]
  },
  {
   "cell_type": "code",
   "execution_count": 44,
   "metadata": {
    "colab": {
     "base_uri": "https://localhost:8080/",
     "height": 637
    },
    "colab_type": "code",
    "id": "0C4sBFNTblYS",
    "outputId": "bc522093-3e29-48e8-fd23-6122282218bf"
   },
   "outputs": [
    {
     "name": "stdout",
     "output_type": "stream",
     "text": [
      "Train on 732390 samples, validate on 81377 samples\n",
      "Epoch 1/10\n",
      "732390/732390 [==============================] - 30s 41us/step - loss: 1740632.9683 - mean_absolute_error: 851.3178 - val_loss: nan - val_mean_absolute_error: nan\n",
      "Epoch 2/10\n",
      "732390/732390 [==============================] - 30s 41us/step - loss: 1158212.0187 - mean_absolute_error: 724.9770 - val_loss: nan - val_mean_absolute_error: nan\n",
      "Epoch 3/10\n",
      "732390/732390 [==============================] - 30s 40us/step - loss: 1080526.4518 - mean_absolute_error: 698.7588 - val_loss: nan - val_mean_absolute_error: nan\n",
      "Epoch 4/10\n",
      "732390/732390 [==============================] - 29s 40us/step - loss: 1047961.4843 - mean_absolute_error: 688.2548 - val_loss: nan - val_mean_absolute_error: nan\n",
      "Epoch 5/10\n",
      "732390/732390 [==============================] - 30s 40us/step - loss: 1027798.8229 - mean_absolute_error: 682.2557 - val_loss: nan - val_mean_absolute_error: nan\n",
      "Epoch 6/10\n",
      "732390/732390 [==============================] - 29s 40us/step - loss: 1001249.9674 - mean_absolute_error: 673.7282 - val_loss: nan - val_mean_absolute_error: nan\n",
      "Epoch 7/10\n",
      "732390/732390 [==============================] - 29s 39us/step - loss: 977161.9777 - mean_absolute_error: 667.2393 - val_loss: nan - val_mean_absolute_error: nan\n",
      "Epoch 8/10\n",
      "732390/732390 [==============================] - 29s 39us/step - loss: 963055.7743 - mean_absolute_error: 662.5562 - val_loss: nan - val_mean_absolute_error: nan\n",
      "Epoch 9/10\n",
      "732390/732390 [==============================] - 29s 39us/step - loss: 942048.9541 - mean_absolute_error: 655.4834 - val_loss: nan - val_mean_absolute_error: nan\n",
      "Epoch 10/10\n",
      "732390/732390 [==============================] - 28s 39us/step - loss: 926027.2537 - mean_absolute_error: 650.3522 - val_loss: nan - val_mean_absolute_error: nan\n",
      "203442/203442 [==============================] - 4s 21us/step\n"
     ]
    },
    {
     "ename": "AttributeError",
     "evalue": "ignored",
     "output_type": "error",
     "traceback": [
      "\u001b[0;31m---------------------------------------------------------------------------\u001b[0m",
      "\u001b[0;31mAttributeError\u001b[0m                            Traceback (most recent call last)",
      "\u001b[0;32m<ipython-input-44-bf32db263dac>\u001b[0m in \u001b[0;36m<module>\u001b[0;34m()\u001b[0m\n\u001b[1;32m     13\u001b[0m \u001b[0mresult\u001b[0m \u001b[0;34m=\u001b[0m \u001b[0mmodel\u001b[0m\u001b[0;34m.\u001b[0m\u001b[0mevaluate\u001b[0m\u001b[0;34m(\u001b[0m\u001b[0mx_test\u001b[0m\u001b[0;34m.\u001b[0m\u001b[0mvalues\u001b[0m\u001b[0;34m,\u001b[0m \u001b[0my_test\u001b[0m\u001b[0;34m.\u001b[0m\u001b[0mvalues\u001b[0m\u001b[0;34m)\u001b[0m\u001b[0;34m\u001b[0m\u001b[0;34m\u001b[0m\u001b[0m\n\u001b[1;32m     14\u001b[0m \u001b[0;32mfor\u001b[0m \u001b[0mi\u001b[0m \u001b[0;32min\u001b[0m \u001b[0mrange\u001b[0m\u001b[0;34m(\u001b[0m\u001b[0mlen\u001b[0m\u001b[0;34m(\u001b[0m\u001b[0mmodel\u001b[0m\u001b[0;34m.\u001b[0m\u001b[0mmetrics_names\u001b[0m\u001b[0;34m)\u001b[0m\u001b[0;34m)\u001b[0m\u001b[0;34m:\u001b[0m\u001b[0;34m\u001b[0m\u001b[0;34m\u001b[0m\u001b[0m\n\u001b[0;32m---> 15\u001b[0;31m   \u001b[0mprint\u001b[0m\u001b[0;34m(\u001b[0m\u001b[0;34m\"Metric \"\u001b[0m\u001b[0;34m,\u001b[0m \u001b[0mmodel\u001b[0m\u001b[0;34m.\u001b[0m\u001b[0mmertics_names\u001b[0m\u001b[0;34m[\u001b[0m\u001b[0mi\u001b[0m\u001b[0;34m]\u001b[0m\u001b[0;34m,\u001b[0m \u001b[0;34m':'\u001b[0m\u001b[0;34m,\u001b[0m \u001b[0mstr\u001b[0m\u001b[0;34m(\u001b[0m\u001b[0mround\u001b[0m\u001b[0;34m(\u001b[0m\u001b[0mresult\u001b[0m\u001b[0;34m[\u001b[0m\u001b[0mi\u001b[0m\u001b[0;34m]\u001b[0m\u001b[0;34m,\u001b[0m \u001b[0;36m2\u001b[0m\u001b[0;34m)\u001b[0m\u001b[0;34m)\u001b[0m\u001b[0;34m)\u001b[0m\u001b[0;34m\u001b[0m\u001b[0;34m\u001b[0m\u001b[0m\n\u001b[0m",
      "\u001b[0;31mAttributeError\u001b[0m: 'Sequential' object has no attribute 'mertics_names'"
     ]
    }
   ],
   "source": [
    "model = Sequential()\n",
    "model.add(Dense(150, input_dim=44, activation='relu'))\n",
    "model.add(Dense(150, activation='relu'))\n",
    "model.add(Dense(150, activation='relu'))\n",
    "model.add(Dense(1, activation='linear'))\n",
    "\n",
    "model.compile(optimizer='adam', loss='mean_squared_error', \n",
    "              metrics=['mean_absolute_error'])\n",
    "\n",
    "history = model.fit(x_train.values, y_train.values, validation_data=(x_val.values, y_val.values),\n",
    "                    epochs=10, batch_size=64)"
   ]
  },
  {
   "cell_type": "code",
   "execution_count": 45,
   "metadata": {
    "colab": {
     "base_uri": "https://localhost:8080/",
     "height": 72
    },
    "colab_type": "code",
    "id": "Wr-3voH-cWU2",
    "outputId": "bd6b5b9b-0034-4344-b075-88985349714b"
   },
   "outputs": [
    {
     "name": "stdout",
     "output_type": "stream",
     "text": [
      "203442/203442 [==============================] - 5s 23us/step\n",
      "Metric  loss : 883082.08\n",
      "Metric  mean_absolute_error : 633.28\n"
     ]
    }
   ],
   "source": [
    "result = model.evaluate(x_test.values, y_test.values)\n",
    "for i in range(len(model.metrics_names)):\n",
    "  print(\"Metric \", model.metrics_names[i], ':', str(round(result[i], 2)))"
   ]
  },
  {
   "cell_type": "code",
   "execution_count": 46,
   "metadata": {
    "colab": {
     "base_uri": "https://localhost:8080/",
     "height": 665
    },
    "colab_type": "code",
    "id": "t097gxO1fREk",
    "outputId": "d4029680-1385-4d8f-80ba-d6127dee283a"
   },
   "outputs": [
    {
     "name": "stdout",
     "output_type": "stream",
     "text": [
      "Train on 732390 samples, validate on 81377 samples\n",
      "Epoch 1/15\n",
      "732390/732390 [==============================] - 42s 58us/step - loss: 1742867.7409 - mean_absolute_error: 858.5815 - val_loss: nan - val_mean_absolute_error: nan\n",
      "Epoch 2/15\n",
      "732390/732390 [==============================] - 41s 57us/step - loss: 1181580.6216 - mean_absolute_error: 729.9137 - val_loss: nan - val_mean_absolute_error: nan\n",
      "Epoch 3/15\n",
      "732390/732390 [==============================] - 42s 57us/step - loss: 1099922.0275 - mean_absolute_error: 702.4255 - val_loss: nan - val_mean_absolute_error: nan\n",
      "Epoch 4/15\n",
      "732390/732390 [==============================] - 42s 57us/step - loss: 1067007.9420 - mean_absolute_error: 692.3332 - val_loss: nan - val_mean_absolute_error: nan\n",
      "Epoch 5/15\n",
      "732390/732390 [==============================] - 42s 57us/step - loss: 1036757.6149 - mean_absolute_error: 683.2046 - val_loss: nan - val_mean_absolute_error: nan\n",
      "Epoch 6/15\n",
      "732390/732390 [==============================] - 42s 57us/step - loss: 1017004.2247 - mean_absolute_error: 677.1559 - val_loss: nan - val_mean_absolute_error: nan\n",
      "Epoch 7/15\n",
      "732390/732390 [==============================] - 41s 57us/step - loss: 994086.1205 - mean_absolute_error: 670.6177 - val_loss: nan - val_mean_absolute_error: nan\n",
      "Epoch 8/15\n",
      "732390/732390 [==============================] - 41s 57us/step - loss: 970942.0707 - mean_absolute_error: 663.5279 - val_loss: nan - val_mean_absolute_error: nan\n",
      "Epoch 9/15\n",
      "732390/732390 [==============================] - 42s 57us/step - loss: 951401.7669 - mean_absolute_error: 658.0945 - val_loss: nan - val_mean_absolute_error: nan\n",
      "Epoch 10/15\n",
      "732390/732390 [==============================] - 42s 57us/step - loss: 927214.5202 - mean_absolute_error: 650.2640 - val_loss: nan - val_mean_absolute_error: nan\n",
      "Epoch 11/15\n",
      "732390/732390 [==============================] - 42s 57us/step - loss: 911660.4229 - mean_absolute_error: 644.6831 - val_loss: nan - val_mean_absolute_error: nan\n",
      "Epoch 12/15\n",
      "732390/732390 [==============================] - 42s 57us/step - loss: 896723.5449 - mean_absolute_error: 639.7533 - val_loss: nan - val_mean_absolute_error: nan\n",
      "Epoch 13/15\n",
      "732390/732390 [==============================] - 42s 57us/step - loss: 883950.8305 - mean_absolute_error: 634.7244 - val_loss: nan - val_mean_absolute_error: nan\n",
      "Epoch 14/15\n",
      "732390/732390 [==============================] - 42s 57us/step - loss: 869265.2685 - mean_absolute_error: 629.4089 - val_loss: nan - val_mean_absolute_error: nan\n",
      "Epoch 15/15\n",
      "732390/732390 [==============================] - 42s 57us/step - loss: 862762.4631 - mean_absolute_error: 626.3014 - val_loss: nan - val_mean_absolute_error: nan\n",
      "203442/203442 [==============================] - 5s 25us/step\n",
      "Metric  loss : 958208.64\n",
      "Metric  mean_absolute_error : 643.52\n"
     ]
    }
   ],
   "source": [
    "model = Sequential()\n",
    "model.add(Dense(150,input_dim = 44,activation=\"relu\"))\n",
    "model.add(Dense(150,activation=\"relu\"))\n",
    "model.add(Dense(150,activation=\"relu\"))\n",
    "model.add(Dense(150,activation=\"relu\"))\n",
    "model.add(Dense(150,activation=\"relu\"))\n",
    "model.add(Dense(1,activation = \"linear\"))\n",
    "\n",
    "model.compile(optimizer='adam',loss=\"mean_squared_error\",\n",
    "              metrics=[\"mean_absolute_error\"])\n",
    "\n",
    "model.fit(x_train,y_train, validation_data=(x_val,y_val),\n",
    "          epochs=15,batch_size=64)\n",
    "\n",
    "result = model.evaluate(x_test,y_test)\n",
    "for i in range(len(model.metrics_names)):\n",
    "  print(\"Metric \",model.metrics_names[i],\":\",str(round(result[i],2)))"
   ]
  },
  {
   "cell_type": "markdown",
   "metadata": {
    "colab_type": "text",
    "id": "c5RvfY-ffhgZ"
   },
   "source": [
    "### Increasing the Number of Neurons"
   ]
  },
  {
   "cell_type": "code",
   "execution_count": 47,
   "metadata": {
    "colab": {
     "base_uri": "https://localhost:8080/",
     "height": 665
    },
    "colab_type": "code",
    "id": "ImEIVkL7gigA",
    "outputId": "bb76e435-7ac0-4d94-97ee-062911962a20"
   },
   "outputs": [
    {
     "name": "stdout",
     "output_type": "stream",
     "text": [
      "Train on 732390 samples, validate on 81377 samples\n",
      "Epoch 1/15\n",
      "732390/732390 [==============================] - 68s 93us/step - loss: 1676010.5806 - mean_absolute_error: 844.5807 - val_loss: nan - val_mean_absolute_error: nan\n",
      "Epoch 2/15\n",
      "732390/732390 [==============================] - 68s 93us/step - loss: 1144127.1067 - mean_absolute_error: 720.0789 - val_loss: nan - val_mean_absolute_error: nan\n",
      "Epoch 3/15\n",
      "732390/732390 [==============================] - 68s 93us/step - loss: 1083323.5719 - mean_absolute_error: 700.0283 - val_loss: nan - val_mean_absolute_error: nan\n",
      "Epoch 4/15\n",
      "732390/732390 [==============================] - 67s 92us/step - loss: 1052399.3767 - mean_absolute_error: 689.2380 - val_loss: nan - val_mean_absolute_error: nan\n",
      "Epoch 5/15\n",
      "732390/732390 [==============================] - 67s 91us/step - loss: 1031228.5088 - mean_absolute_error: 681.2267 - val_loss: nan - val_mean_absolute_error: nan\n",
      "Epoch 6/15\n",
      "732390/732390 [==============================] - 67s 91us/step - loss: 1012895.8569 - mean_absolute_error: 675.5833 - val_loss: nan - val_mean_absolute_error: nan\n",
      "Epoch 7/15\n",
      "732390/732390 [==============================] - 66s 91us/step - loss: 995949.5461 - mean_absolute_error: 670.0309 - val_loss: nan - val_mean_absolute_error: nan\n",
      "Epoch 8/15\n",
      "732390/732390 [==============================] - 67s 92us/step - loss: 981865.7492 - mean_absolute_error: 665.6089 - val_loss: nan - val_mean_absolute_error: nan\n",
      "Epoch 9/15\n",
      "732390/732390 [==============================] - 67s 92us/step - loss: 966915.2568 - mean_absolute_error: 661.5693 - val_loss: nan - val_mean_absolute_error: nan\n",
      "Epoch 10/15\n",
      "732390/732390 [==============================] - 67s 91us/step - loss: 955701.8715 - mean_absolute_error: 658.0303 - val_loss: nan - val_mean_absolute_error: nan\n",
      "Epoch 11/15\n",
      "732390/732390 [==============================] - 67s 91us/step - loss: 941440.3832 - mean_absolute_error: 654.1292 - val_loss: nan - val_mean_absolute_error: nan\n",
      "Epoch 12/15\n",
      "732390/732390 [==============================] - 66s 90us/step - loss: 928035.6077 - mean_absolute_error: 649.9666 - val_loss: nan - val_mean_absolute_error: nan\n",
      "Epoch 13/15\n",
      "732390/732390 [==============================] - 67s 92us/step - loss: 919090.0728 - mean_absolute_error: 646.8112 - val_loss: nan - val_mean_absolute_error: nan\n",
      "Epoch 14/15\n",
      "732390/732390 [==============================] - 66s 90us/step - loss: 909257.2054 - mean_absolute_error: 643.3532 - val_loss: nan - val_mean_absolute_error: nan\n",
      "Epoch 15/15\n",
      "732390/732390 [==============================] - 69s 94us/step - loss: 897837.0603 - mean_absolute_error: 639.6459 - val_loss: nan - val_mean_absolute_error: nan\n",
      "203442/203442 [==============================] - 7s 32us/step\n",
      "Metric  loss : 908359.93\n",
      "Metric  mean_absolute_error : 636.71\n"
     ]
    }
   ],
   "source": [
    "model = Sequential()\n",
    "model.add(Dense(350,input_dim = 44,activation=\"relu\"))\n",
    "model.add(Dense(350,activation=\"relu\"))\n",
    "model.add(Dense(1,activation = \"linear\"))\n",
    "\n",
    "model.compile(optimizer='adam',loss=\"mean_squared_error\",\n",
    "              metrics=[\"mean_absolute_error\"])\n",
    "\n",
    "model.fit(x_train,y_train, validation_data=(x_val,y_val),\n",
    "          epochs=15,batch_size=64)\n",
    "\n",
    "result = model.evaluate(x_test,y_test)\n",
    "for i in range(len(model.metrics_names)):\n",
    "  print(\"Metric \",model.metrics_names[i],\":\", str(round(result[i],2)))"
   ]
  },
  {
   "cell_type": "code",
   "execution_count": 39,
   "metadata": {
    "colab": {
     "base_uri": "https://localhost:8080/",
     "height": 906
    },
    "colab_type": "code",
    "id": "dSJ67Kv2iFZF",
    "outputId": "530f0746-bc3d-4dd3-fbeb-2b6c34285413"
   },
   "outputs": [
    {
     "name": "stderr",
     "output_type": "stream",
     "text": [
      "WARNING: Logging before flag parsing goes to stderr.\n",
      "W0905 08:54:56.190074 139985027852160 deprecation_wrapper.py:119] From /usr/local/lib/python3.6/dist-packages/keras/backend/tensorflow_backend.py:66: The name tf.get_default_graph is deprecated. Please use tf.compat.v1.get_default_graph instead.\n",
      "\n",
      "W0905 08:54:56.232445 139985027852160 deprecation_wrapper.py:119] From /usr/local/lib/python3.6/dist-packages/keras/backend/tensorflow_backend.py:541: The name tf.placeholder is deprecated. Please use tf.compat.v1.placeholder instead.\n",
      "\n",
      "W0905 08:54:56.240229 139985027852160 deprecation_wrapper.py:119] From /usr/local/lib/python3.6/dist-packages/keras/backend/tensorflow_backend.py:4432: The name tf.random_uniform is deprecated. Please use tf.random.uniform instead.\n",
      "\n",
      "W0905 08:54:56.327088 139985027852160 deprecation_wrapper.py:119] From /usr/local/lib/python3.6/dist-packages/keras/optimizers.py:793: The name tf.train.Optimizer is deprecated. Please use tf.compat.v1.train.Optimizer instead.\n",
      "\n",
      "W0905 08:54:56.602606 139985027852160 deprecation_wrapper.py:119] From /usr/local/lib/python3.6/dist-packages/keras/backend/tensorflow_backend.py:1033: The name tf.assign_add is deprecated. Please use tf.compat.v1.assign_add instead.\n",
      "\n",
      "W0905 08:54:56.776942 139985027852160 deprecation_wrapper.py:119] From /usr/local/lib/python3.6/dist-packages/keras/backend/tensorflow_backend.py:1020: The name tf.assign is deprecated. Please use tf.compat.v1.assign instead.\n",
      "\n"
     ]
    },
    {
     "name": "stdout",
     "output_type": "stream",
     "text": [
      "Train on 732390 samples, validate on 81377 samples\n",
      "Epoch 1/15\n",
      "732390/732390 [==============================] - 82s 111us/step - loss: 1632184.4063 - mean_absolute_error: 840.2980 - val_loss: 1087312.7481 - val_mean_absolute_error: 705.1826\n",
      "Epoch 2/15\n",
      "732390/732390 [==============================] - 76s 104us/step - loss: 1174839.4512 - mean_absolute_error: 727.0403 - val_loss: 1001087.8314 - val_mean_absolute_error: 681.0482\n",
      "Epoch 3/15\n",
      "732390/732390 [==============================] - 77s 105us/step - loss: 1106386.0467 - mean_absolute_error: 704.7365 - val_loss: 1026112.7726 - val_mean_absolute_error: 672.2923\n",
      "Epoch 4/15\n",
      "732390/732390 [==============================] - 78s 107us/step - loss: 1059775.3621 - mean_absolute_error: 690.1083 - val_loss: 959990.2288 - val_mean_absolute_error: 656.7459\n",
      "Epoch 5/15\n",
      "732390/732390 [==============================] - 79s 108us/step - loss: 1034593.3802 - mean_absolute_error: 682.3459 - val_loss: 933547.7315 - val_mean_absolute_error: 647.9495\n",
      "Epoch 6/15\n",
      "732390/732390 [==============================] - 78s 106us/step - loss: 1009193.4124 - mean_absolute_error: 674.6879 - val_loss: 1002409.3119 - val_mean_absolute_error: 690.6863\n",
      "Epoch 7/15\n",
      "732390/732390 [==============================] - 77s 106us/step - loss: 987695.7590 - mean_absolute_error: 667.7826 - val_loss: 977264.3857 - val_mean_absolute_error: 673.7412\n",
      "Epoch 8/15\n",
      "732390/732390 [==============================] - 78s 106us/step - loss: 971441.9465 - mean_absolute_error: 663.2831 - val_loss: 1002266.7949 - val_mean_absolute_error: 665.1521\n",
      "Epoch 9/15\n",
      "732390/732390 [==============================] - 79s 107us/step - loss: 944897.3282 - mean_absolute_error: 655.0731 - val_loss: 901838.3478 - val_mean_absolute_error: 636.4694\n",
      "Epoch 10/15\n",
      "732390/732390 [==============================] - 79s 107us/step - loss: 926655.4739 - mean_absolute_error: 648.7214 - val_loss: 887289.3665 - val_mean_absolute_error: 635.0660\n",
      "Epoch 11/15\n",
      "732390/732390 [==============================] - 78s 106us/step - loss: 909338.5727 - mean_absolute_error: 642.3895 - val_loss: 846391.4727 - val_mean_absolute_error: 623.0544\n",
      "Epoch 12/15\n",
      "732390/732390 [==============================] - 78s 106us/step - loss: 890391.6763 - mean_absolute_error: 636.4513 - val_loss: 910515.8920 - val_mean_absolute_error: 640.2096\n",
      "Epoch 13/15\n",
      "732390/732390 [==============================] - 78s 107us/step - loss: 876388.5783 - mean_absolute_error: 630.6484 - val_loss: 820183.3510 - val_mean_absolute_error: 608.7780\n",
      "Epoch 14/15\n",
      "732390/732390 [==============================] - 77s 105us/step - loss: 863437.7923 - mean_absolute_error: 625.7720 - val_loss: 810939.6743 - val_mean_absolute_error: 609.8444\n",
      "Epoch 15/15\n",
      "732390/732390 [==============================] - 78s 106us/step - loss: 852781.4163 - mean_absolute_error: 621.5234 - val_loss: 795877.3741 - val_mean_absolute_error: 597.9589\n",
      "203442/203442 [==============================] - 11s 52us/step\n",
      "Metric  loss : 807949.93\n",
      "Metric  mean_absolute_error : 600.6\n"
     ]
    }
   ],
   "source": [
    "from keras.callbacks import History\n",
    "from keras.models import Sequential\n",
    "from keras.layers import Dense, Activation\n",
    "history = History()\n",
    "\n",
    "model = Sequential()\n",
    "model.add(Dense(350,input_dim = 44,activation=\"relu\"))\n",
    "model.add(Dense(350,activation=\"relu\"))\n",
    "model.add(Dense(350,activation=\"relu\"))\n",
    "model.add(Dense(350,activation=\"relu\"))\n",
    "model.add(Dense(350,activation=\"relu\"))\n",
    "model.add(Dense(1,activation = \"linear\"))\n",
    "\n",
    "model.compile(optimizer='adam',loss=\"mean_squared_error\",\n",
    "              metrics=[\"mean_absolute_error\"])\n",
    "\n",
    "model.fit(x_train,y_train, validation_data=(x_val,y_val),\n",
    "          epochs=15,batch_size=64,callbacks=[history])\n",
    "\n",
    "result = model.evaluate(x_test,y_test)\n",
    "\n",
    "for i in range(len(model.metrics_names)):\n",
    "  print(\"Metric \",model.metrics_names[i],\":\",str(round(result[i],2)))"
   ]
  },
  {
   "cell_type": "markdown",
   "metadata": {
    "colab_type": "text",
    "id": "zsqr3618mqsK"
   },
   "source": [
    "### Plotting the Loss Metric Across Epochs"
   ]
  },
  {
   "cell_type": "markdown",
   "metadata": {
    "colab_type": "text",
    "id": "XBvRRw3VmueL"
   },
   "source": [
    "The model also stores the history of a few important and metrics we configured for the model."
   ]
  },
  {
   "cell_type": "code",
   "execution_count": 40,
   "metadata": {
    "colab": {
     "base_uri": "https://localhost:8080/",
     "height": 295
    },
    "colab_type": "code",
    "id": "GFAdPsfPpHv1",
    "outputId": "b63a1b3b-4613-43b9-ad94-7300e8a61b0e"
   },
   "outputs": [
    {
     "data": {
      "image/png": "[encoded data removed]",
      "text/plain": [
       "<Figure size 432x288 with 1 Axes>"
      ]
     },
     "metadata": {
      "tags": []
     },
     "output_type": "display_data"
    }
   ],
   "source": [
    "plt.plot(history.history['loss'])\n",
    "plt.plot(history.history['val_loss'])\n",
    "plt.title(\"Model's Training & Validation loss across epochs\")\n",
    "plt.ylabel('Loss')\n",
    "plt.xlabel('Epochs')\n",
    "plt.legend(['Train', 'Validation'], loc='upper right')\n",
    "plt.show()"
   ]
  },
  {
   "cell_type": "markdown",
   "metadata": {
    "colab_type": "text",
    "id": "1C0WMXRcp1Mt"
   },
   "source": [
    "### Testing the Model Manually"
   ]
  },
  {
   "cell_type": "code",
   "execution_count": 41,
   "metadata": {
    "colab": {
     "base_uri": "https://localhost:8080/",
     "height": 257
    },
    "colab_type": "code",
    "id": "kKB144Axp3yW",
    "outputId": "d9b7c41c-84bc-457c-e180-d518bcf4349c"
   },
   "outputs": [
    {
     "name": "stdout",
     "output_type": "stream",
     "text": [
      "        Actual Sales  Predicted Sales\n",
      "379885          5840      5308.242676\n",
      "906321          4399      4503.025391\n",
      "402906          7434      6448.539551\n",
      "74387           7899      7361.645508\n",
      "260364          9677      9636.228516\n",
      "393227         10159     10610.336914\n",
      "758577          6740      7356.633301\n",
      "22532           8961      9782.113281\n",
      "542897         15577     14595.440430\n",
      "537427          6741      6033.029297\n",
      "MSE : 807949.9303245315\n",
      "MAE : 600.5974636322438\n"
     ]
    }
   ],
   "source": [
    "# Manually predicting from the model, instead of using model's\n",
    "# evaluate function\n",
    "y_test[\"Prediction\"] = model.predict(x_test)\n",
    "y_test.columns = [\"Actual Sales\",\"Predicted Sales\"]\n",
    "print(y_test.head(10))\n",
    "\n",
    "# Manually predicting from the model, instead of using model's\n",
    "# evaluate function\n",
    "from sklearn.metrics import mean_squared_error, mean_absolute_error\n",
    "print(\"MSE :\",mean_squared_error(y_test[\"Actual Sales\"].\n",
    "values,y_test[\"Predicted Sales\"].values))\n",
    "print(\"MAE :\",mean_absolute_error(y_test[\"Actual Sales\"].\n",
    "values,y_test[\"Predicted Sales\"].values))"
   ]
  }
 ],
 "metadata": {
  "accelerator": "GPU",
  "colab": {
   "name": "chapter3",
   "provenance": [],
   "version": "0.3.2"
  },
  "kernelspec": {
   "display_name": "Python 3",
   "language": "python",
   "name": "python3"
  },
  "language_info": {
   "codemirror_mode": {
    "name": "ipython",
    "version": 3
   },
   "file_extension": ".py",
   "mimetype": "text/x-python",
   "name": "python",
   "nbconvert_exporter": "python",
   "pygments_lexer": "ipython3",
   "version": "3.7.3"
  }
 },
 "nbformat": 4,
 "nbformat_minor": 2
}

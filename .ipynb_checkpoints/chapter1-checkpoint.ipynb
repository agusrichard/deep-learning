{
 "cells": [
  {
   "cell_type": "markdown",
   "metadata": {
    "colab_type": "text",
    "id": "mVdJxftcp528"
   },
   "source": [
    "# Chapter 1: Tensorflow -- Basic Concepts"
   ]
  },
  {
   "cell_type": "markdown",
   "metadata": {
    "colab_type": "text",
    "id": "mMEx663VsUbL"
   },
   "source": [
    "## Introduction"
   ]
  },
  {
   "cell_type": "code",
   "execution_count": null,
   "metadata": {
    "colab": {},
    "colab_type": "code",
    "id": "EyePpcYGqEDl"
   },
   "outputs": [],
   "source": [
    "import tensorflow as tf"
   ]
  },
  {
   "cell_type": "code",
   "execution_count": null,
   "metadata": {
    "colab": {},
    "colab_type": "code",
    "id": "K-4he8elqHhW"
   },
   "outputs": [],
   "source": [
    "hello = tf.constant('Hello Tensorflow!')\n",
    "sess = tf.Session()"
   ]
  },
  {
   "cell_type": "code",
   "execution_count": null,
   "metadata": {
    "colab": {
     "base_uri": "https://localhost:8080/",
     "height": 35
    },
    "colab_type": "code",
    "id": "8DOKtB5TqPL1",
    "outputId": "c38cac9b-0cff-47d2-89d1-36d71332b8ad"
   },
   "outputs": [
    {
     "name": "stdout",
     "output_type": "stream",
     "text": [
      "b'Hello Tensorflow!'\n"
     ]
    }
   ],
   "source": [
    "print(sess.run(hello))"
   ]
  },
  {
   "cell_type": "code",
   "execution_count": null,
   "metadata": {
    "colab": {
     "base_uri": "https://localhost:8080/",
     "height": 35
    },
    "colab_type": "code",
    "id": "CvDPTcG2qRfF",
    "outputId": "c781cf65-ccda-465c-b197-8f700a8769e5"
   },
   "outputs": [
    {
     "name": "stdout",
     "output_type": "stream",
     "text": [
      "10\n"
     ]
    }
   ],
   "source": [
    "x = 1\n",
    "y = x + 9\n",
    "print(y)"
   ]
  },
  {
   "cell_type": "code",
   "execution_count": null,
   "metadata": {
    "colab": {
     "base_uri": "https://localhost:8080/",
     "height": 35
    },
    "colab_type": "code",
    "id": "3jG_EM-iqf9o",
    "outputId": "a545891e-a58d-4c27-ef23-24da219fa426"
   },
   "outputs": [
    {
     "name": "stdout",
     "output_type": "stream",
     "text": [
      "<tf.Variable 'y_2:0' shape=() dtype=int32_ref>\n"
     ]
    }
   ],
   "source": [
    "x = tf.constant(1, name='x') # create constant value\n",
    "y = tf.Variable(x+9, name='y') # create variable\n",
    "print(y)"
   ]
  },
  {
   "cell_type": "markdown",
   "metadata": {
    "colab_type": "text",
    "id": "qYDD_1JUqmD8"
   },
   "source": [
    "The difference lies the variable definition. In\n",
    "fact, the variable y doesn't represent the current value of x + 9, instead it means: when the\n",
    "variable y is computed, take the value of the constant x and add 9 to it."
   ]
  },
  {
   "cell_type": "code",
   "execution_count": null,
   "metadata": {
    "colab": {
     "base_uri": "https://localhost:8080/",
     "height": 35
    },
    "colab_type": "code",
    "id": "AnhA6pCnrMGv",
    "outputId": "10515b05-851f-47d9-e72a-8ef2fa07c72b"
   },
   "outputs": [
    {
     "name": "stdout",
     "output_type": "stream",
     "text": [
      "10\n"
     ]
    }
   ],
   "source": [
    "x = tf.constant(1, name='x')\n",
    "y = tf.Variable(x+9, name='y')\n",
    "model = tf.initialize_all_variables()\n",
    "\n",
    "with tf.Session() as sess:\n",
    "  sess.run(model)\n",
    "  print(sess.run(y))"
   ]
  },
  {
   "cell_type": "markdown",
   "metadata": {
    "colab_type": "text",
    "id": "Jr-wcTKOrsqM"
   },
   "source": [
    "In this fundamental step, the execution graph called Data Flow  Graph is created in the session, with all the dependencies between the variables. The y variable depends on the variable x, and that value is transformed by\n",
    "adding 9 to it. The value is not computed until the session is executed."
   ]
  },
  {
   "cell_type": "markdown",
   "metadata": {
    "colab_type": "text",
    "id": "r4MLjcqYsMXC"
   },
   "source": [
    "----"
   ]
  },
  {
   "cell_type": "markdown",
   "metadata": {
    "colab_type": "text",
    "id": "JMiKXrBCsOss"
   },
   "source": [
    "## Data Flow Graphs"
   ]
  },
  {
   "cell_type": "markdown",
   "metadata": {
    "colab_type": "text",
    "id": "7bzrMtqWsSYj"
   },
   "source": [
    "In Tensorfllow, a computation is describe using the data flow graph, where each node in the grapj represents the instance of a mathematiccal operation and each edge is a multidimensional data set (tensors) on which the operations are performed."
   ]
  },
  {
   "cell_type": "markdown",
   "metadata": {
    "colab_type": "text",
    "id": "YpJ3HTxB0Ae_"
   },
   "source": [
    "- Node: In TensorFlow, each node represents the instantion of an operation. Each\n",
    "operation has >= inputs and >= 0 outputs.\n",
    "- Edges: In TensorFlow, there are two types of edge:\n",
    "  - Normal Edges: They are carriers of data structures (tensors), where\n",
    "an output of one operation (from one node) becomes the input for\n",
    "another operation.\n",
    "  - Special Edges: These edges are not data carriers between the\n",
    "output of a node (operator) and the input of another node. A\n",
    "special edge indicates a control dependency between two nodes.\n",
    "Let's suppose we have two nodes A and B and a special edges\n",
    "connecting A to B; it means that B will start its operation only\n",
    "when the operation in A ends. Special edges are used in Data Flow\n",
    "Graph to set the happens-before relationship between operations\n",
    "on the tensors. "
   ]
  },
  {
   "cell_type": "markdown",
   "metadata": {
    "colab_type": "text",
    "id": "bcp0qtut0ggI"
   },
   "source": [
    "Data Flow Graph features:\n",
    "- Operation: This represents an abstract computation, such as adding or\n",
    "multiplying matrices. An operation manages tensors. It can just be polymorphic:\n",
    "the same operation can manipulate different tensor element types. For example,\n",
    "the addition of two int32 tensors, the addition of two float tensors, and so on.\n",
    "- Kernel: This represents the concrete implementation of that operation. A kernel\n",
    "defines the implementation of the operation on a particular device. For example,\n",
    "an add matrix operation can have a CPU implementation and a GPU one. In the\n",
    "following section, we have introduced the concept of sessions to create a del\n",
    "execution graph in TensorFlow.\n",
    "- Session: When the client program has to establish communication with the\n",
    "TensorFlow runtime system, a session must be created. As soon as the session is\n",
    "created for a client, an initial graph is created and is empty. It has two\n",
    "fundamental methods:\n",
    "  - session.extend: In a computation, the user can extend the\n",
    "execution graph, requesting to add more operations (nodes) and\n",
    "edges (data).\n",
    "  - session.run: Using TensorFlow, sessions are created with some\n",
    "graphs, and these full graphs are executed to get some outputs, or\n",
    "sometimes, subgraphs are executed thousands/millions of times\n",
    "using run invocations. Basically, the method runs the execution\n",
    "graph to provide outputs."
   ]
  },
  {
   "cell_type": "markdown",
   "metadata": {
    "colab_type": "text",
    "id": "Fp7NJmHR16nZ"
   },
   "source": [
    "---"
   ]
  },
  {
   "cell_type": "markdown",
   "metadata": {
    "colab_type": "text",
    "id": "vEDXyjho2GMJ"
   },
   "source": [
    "## TensorFlow programming model"
   ]
  },
  {
   "cell_type": "markdown",
   "metadata": {
    "colab_type": "text",
    "id": "4EeY__7m2JnS"
   },
   "source": [
    "Let's multiply two integers, namely a and b"
   ]
  },
  {
   "cell_type": "code",
   "execution_count": null,
   "metadata": {
    "colab": {
     "base_uri": "https://localhost:8080/",
     "height": 35
    },
    "colab_type": "code",
    "id": "RwY6Ko8L2d8X",
    "outputId": "4c3b9efb-ebff-4f92-8f4b-d30041997997"
   },
   "outputs": [
    {
     "name": "stdout",
     "output_type": "stream",
     "text": [
      "36\n"
     ]
    }
   ],
   "source": [
    "# import the tensorflow \n",
    "\n",
    "# define the variables a and b involved in the computation.\n",
    "a = tf.placeholder('int32')\n",
    "b = tf.placeholder('int32')\n",
    "# a placaholder allows us to create our operations and \n",
    "# to build our computation graph. without needing the data\n",
    "\n",
    "# we use these variables as inputs for tensorflow function mul\n",
    "y = tf.multiply(a, b) # return the result of multiplication of a and b\n",
    "\n",
    "# manage the execution flow/build the session\n",
    "with tf.Session() as sess:\n",
    "  print(sess.run(y, feed_dict={a : 9, b : 4}))"
   ]
  },
  {
   "cell_type": "markdown",
   "metadata": {
    "colab_type": "text",
    "id": "GmjmyV2M3t1y"
   },
   "source": [
    "---"
   ]
  },
  {
   "cell_type": "markdown",
   "metadata": {
    "colab_type": "text",
    "id": "J04ahBJc4pBV"
   },
   "source": [
    "## How to use TensorBoard"
   ]
  },
  {
   "cell_type": "markdown",
   "metadata": {
    "colab_type": "text",
    "id": "X8Gr9cYX4rgw"
   },
   "source": [
    "TensorBoard is a visualization tool, devoted to analyzing Data Flow Graph and also to\n",
    "better understand the machine learning models."
   ]
  },
  {
   "cell_type": "markdown",
   "metadata": {
    "colab_type": "text",
    "id": "DDeoZpQq4yQ0"
   },
   "source": [
    "TensorBoard is equally useful in the development and tuning of a machine learning model.\n",
    "For this reason, TensorFlow lets you insert so-called summary operations into the graph.\n",
    "These summary operations monitor changing values (during the execution of a\n",
    "computation) written in a log file. Then TensorBoard is configured to watch this log file\n",
    "with summary information and display how this information changes over time."
   ]
  },
  {
   "cell_type": "markdown",
   "metadata": {
    "colab_type": "text",
    "id": "N3GKKoDT_zRA"
   },
   "source": [
    "---"
   ]
  },
  {
   "cell_type": "markdown",
   "metadata": {
    "colab_type": "text",
    "id": "MoUtN6n7_1mE"
   },
   "source": [
    "# Imporant Points:"
   ]
  },
  {
   "cell_type": "markdown",
   "metadata": {
    "colab_type": "text",
    "id": "gDjAmfvP_7gL"
   },
   "source": [
    "Concepts:\n",
    "- The process works the same way as how brain works.\n",
    "- Node: the operations\n",
    "- Egde: the tensors (flow of tensors)\n",
    "\n",
    "Tools:\n",
    "- tf.Session(): creates the session to execute the data flow graph\n",
    "- sess.run(): execute the data flow graph\n",
    "- sess.extend(): to add more node operations to session\n",
    "- tf.constant(): create constant value\n",
    "- tf.Variable(): create variable \n",
    "- tf.placeholder(): declaring variables"
   ]
  }
 ],
 "metadata": {
  "colab": {
   "collapsed_sections": [],
   "name": "chapter1.ipynb",
   "provenance": [],
   "version": "0.3.2"
  },
  "kernelspec": {
   "display_name": "Python 3",
   "language": "python",
   "name": "python3"
  },
  "language_info": {
   "name": ""
  }
 },
 "nbformat": 4,
 "nbformat_minor": 2
}

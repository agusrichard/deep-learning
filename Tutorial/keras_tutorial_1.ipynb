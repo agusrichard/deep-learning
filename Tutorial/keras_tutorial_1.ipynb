{
  "nbformat": 4,
  "nbformat_minor": 0,
  "metadata": {
    "colab": {
      "name": "keras-tutorial-1.ipynb",
      "provenance": [],
      "collapsed_sections": []
    },
    "kernelspec": {
      "name": "python3",
      "display_name": "Python 3"
    }
  },
  "cells": [
    {
      "cell_type": "code",
      "metadata": {
        "id": "ceQWcJYgQmj6",
        "colab_type": "code",
        "colab": {
          "base_uri": "https://localhost:8080/",
          "height": 164
        },
        "outputId": "e4122eff-5a9a-4b80-a123-46f031156a03"
      },
      "source": [
        "import tensorflow  as tf\n",
        "from tensorflow import keras\n",
        "import matplotlib.pyplot as plt\n",
        "\n",
        "(X_train, y_train), (X_test, y_test) = keras.datasets.fashion_mnist.load_data()"
      ],
      "execution_count": 1,
      "outputs": [
        {
          "output_type": "stream",
          "text": [
            "Downloading data from https://storage.googleapis.com/tensorflow/tf-keras-datasets/train-labels-idx1-ubyte.gz\n",
            "32768/29515 [=================================] - 0s 0us/step\n",
            "Downloading data from https://storage.googleapis.com/tensorflow/tf-keras-datasets/train-images-idx3-ubyte.gz\n",
            "26427392/26421880 [==============================] - 0s 0us/step\n",
            "Downloading data from https://storage.googleapis.com/tensorflow/tf-keras-datasets/t10k-labels-idx1-ubyte.gz\n",
            "8192/5148 [===============================================] - 0s 0us/step\n",
            "Downloading data from https://storage.googleapis.com/tensorflow/tf-keras-datasets/t10k-images-idx3-ubyte.gz\n",
            "4423680/4422102 [==============================] - 0s 0us/step\n"
          ],
          "name": "stdout"
        }
      ]
    },
    {
      "cell_type": "code",
      "metadata": {
        "id": "FhxgYjUzQ9K7",
        "colab_type": "code",
        "colab": {
          "base_uri": "https://localhost:8080/",
          "height": 476
        },
        "outputId": "69c520c9-b15c-44fd-9164-f8a667420563"
      },
      "source": [
        "model = keras.Sequential([\n",
        "        keras.layers.Flatten(input_shape=(28, 28)),\n",
        "        keras.layers.Dense(128, activation='relu'),\n",
        "        keras.layers.Dense(64, activation='relu'),\n",
        "        keras.layers.Dense(10, activation='softmax')\n",
        "        ])\n",
        "\n",
        "model.compile(optimizer='adam', loss='sparse_categorical_crossentropy', metrics=['accuracy'])\n",
        "\n",
        "history = model.fit(X_train, y_train, epochs=10, validation_split=0.1, batch_size=64)\n",
        "\n",
        "loss, accuracy = model.evaluate(X_train, y_train)\n",
        "\n",
        "print(\"\\nLoss: \", loss)\n",
        "print(\"Accuracy: \", accuracy)"
      ],
      "execution_count": 9,
      "outputs": [
        {
          "output_type": "stream",
          "text": [
            "Train on 54000 samples, validate on 6000 samples\n",
            "Epoch 1/10\n",
            "54000/54000 [==============================] - 2s 45us/sample - loss: 2.8984 - acc: 0.6720 - val_loss: 0.7923 - val_acc: 0.7168\n",
            "Epoch 2/10\n",
            "54000/54000 [==============================] - 2s 43us/sample - loss: 0.7131 - acc: 0.7386 - val_loss: 0.7185 - val_acc: 0.7795\n",
            "Epoch 3/10\n",
            "54000/54000 [==============================] - 2s 43us/sample - loss: 0.5855 - acc: 0.7929 - val_loss: 0.5444 - val_acc: 0.8068\n",
            "Epoch 4/10\n",
            "54000/54000 [==============================] - 2s 43us/sample - loss: 0.5082 - acc: 0.8188 - val_loss: 0.4878 - val_acc: 0.8343\n",
            "Epoch 5/10\n",
            "54000/54000 [==============================] - 2s 43us/sample - loss: 0.4545 - acc: 0.8366 - val_loss: 0.4758 - val_acc: 0.8292\n",
            "Epoch 6/10\n",
            "54000/54000 [==============================] - 2s 43us/sample - loss: 0.4331 - acc: 0.8447 - val_loss: 0.4493 - val_acc: 0.8415\n",
            "Epoch 7/10\n",
            "54000/54000 [==============================] - 2s 43us/sample - loss: 0.4180 - acc: 0.8504 - val_loss: 0.4587 - val_acc: 0.8370\n",
            "Epoch 8/10\n",
            "54000/54000 [==============================] - 2s 43us/sample - loss: 0.3926 - acc: 0.8584 - val_loss: 0.4408 - val_acc: 0.8413\n",
            "Epoch 9/10\n",
            "54000/54000 [==============================] - 2s 43us/sample - loss: 0.3891 - acc: 0.8595 - val_loss: 0.4554 - val_acc: 0.8423\n",
            "Epoch 10/10\n",
            "54000/54000 [==============================] - 2s 43us/sample - loss: 0.3690 - acc: 0.8656 - val_loss: 0.4253 - val_acc: 0.8663\n",
            "60000/60000 [==============================] - 2s 32us/sample - loss: 0.3483 - acc: 0.8777\n",
            "\n",
            "Loss:  0.3483167020618916\n",
            "Accuracy:  0.8777\n"
          ],
          "name": "stdout"
        }
      ]
    }
  ]
}
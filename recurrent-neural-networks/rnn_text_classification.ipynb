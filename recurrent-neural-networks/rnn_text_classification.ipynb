{
  "nbformat": 4,
  "nbformat_minor": 0,
  "metadata": {
    "colab": {
      "name": "rnn-text-classification.ipynb",
      "provenance": [],
      "collapsed_sections": []
    },
    "kernelspec": {
      "name": "python3",
      "display_name": "Python 3"
    },
    "language_info": {
      "name": "python"
    },
    "accelerator": "GPU"
  },
  "cells": [
    {
      "cell_type": "markdown",
      "metadata": {
        "id": "pVPApZWHY8PE"
      },
      "source": [
        "# Recurrent Neural Networks (RNN) with Keras"
      ]
    },
    {
      "cell_type": "markdown",
      "metadata": {
        "id": "2EY4pQ9_ali7"
      },
      "source": [
        "Good for modeling sequence data such as time series or natural language."
      ]
    },
    {
      "cell_type": "markdown",
      "metadata": {
        "id": "Sb893L7ea4vS"
      },
      "source": [
        "## Setup"
      ]
    },
    {
      "cell_type": "code",
      "metadata": {
        "id": "ceEwc70ogUSh"
      },
      "source": [
        "!pip install -q -U tensorflow\n",
        "!pip install -q tensorflow_datasets"
      ],
      "execution_count": 4,
      "outputs": []
    },
    {
      "cell_type": "code",
      "metadata": {
        "id": "god3RcbebkMi"
      },
      "source": [
        "import numpy as np\n",
        "import tensorflow as tf\n",
        "from tensorflow import keras\n",
        "from tensorflow.keras import layers\n",
        "import tensorflow_datasets as tfds\n",
        "\n",
        "tfds.disable_progress_bar()"
      ],
      "execution_count": 7,
      "outputs": []
    },
    {
      "cell_type": "code",
      "metadata": {
        "id": "B-5dD8BkgnYp"
      },
      "source": [
        "import matplotlib.pyplot as plt\n",
        "\n",
        "def plot_graphs(history, metric):\n",
        "    plt.plot(history.history[metric])\n",
        "    plt.plot(history.history['val_'+metric], '')\n",
        "    plt.xlabel('Epochs')\n",
        "    plt.ylabel(metric)\n",
        "    plt.legend([metric, 'val_'+metric])"
      ],
      "execution_count": 8,
      "outputs": []
    },
    {
      "cell_type": "code",
      "metadata": {
        "colab": {
          "base_uri": "https://localhost:8080/"
        },
        "id": "V4jjUhhxb9vV",
        "outputId": "3bee555b-9dba-46be-d15d-1e6ec59569eb"
      },
      "source": [
        "model = keras.models.Sequential()\n",
        "model.add(layers.Embedding(input_dim=1000, output_dim=64))\n",
        "model.add(layers.LSTM(128))\n",
        "model.add(layers.Dense(10))\n",
        "\n",
        "model.summary()"
      ],
      "execution_count": 3,
      "outputs": [
        {
          "output_type": "stream",
          "text": [
            "Model: \"sequential\"\n",
            "_________________________________________________________________\n",
            "Layer (type)                 Output Shape              Param #   \n",
            "=================================================================\n",
            "embedding (Embedding)        (None, None, 64)          64000     \n",
            "_________________________________________________________________\n",
            "lstm (LSTM)                  (None, 128)               98816     \n",
            "_________________________________________________________________\n",
            "dense (Dense)                (None, 10)                1290      \n",
            "=================================================================\n",
            "Total params: 164,106\n",
            "Trainable params: 164,106\n",
            "Non-trainable params: 0\n",
            "_________________________________________________________________\n"
          ],
          "name": "stdout"
        }
      ]
    },
    {
      "cell_type": "code",
      "metadata": {
        "colab": {
          "base_uri": "https://localhost:8080/"
        },
        "id": "lM1gyGqUcSuL",
        "outputId": "f9253c45-1af8-42ed-d0ce-b398ed3bda9e"
      },
      "source": [
        "dataset, info = tfds.load('imdb_reviews', with_info=True,\n",
        "                          as_supervised=True)\n",
        "train_dataset, test_dataset = dataset['train'], dataset['test']\n",
        "\n",
        "train_dataset.element_spec"
      ],
      "execution_count": 9,
      "outputs": [
        {
          "output_type": "stream",
          "text": [
            "\u001b[1mDownloading and preparing dataset imdb_reviews/plain_text/1.0.0 (download: 80.23 MiB, generated: Unknown size, total: 80.23 MiB) to /root/tensorflow_datasets/imdb_reviews/plain_text/1.0.0...\u001b[0m\n",
            "Shuffling and writing examples to /root/tensorflow_datasets/imdb_reviews/plain_text/1.0.0.incompleteDY8F50/imdb_reviews-train.tfrecord\n",
            "Shuffling and writing examples to /root/tensorflow_datasets/imdb_reviews/plain_text/1.0.0.incompleteDY8F50/imdb_reviews-test.tfrecord\n"
          ],
          "name": "stdout"
        },
        {
          "output_type": "stream",
          "text": [
            "WARNING:absl:Dataset is using deprecated text encoder API which will be removed soon. Please use the plain_text version of the dataset and migrate to `tensorflow_text`.\n"
          ],
          "name": "stderr"
        },
        {
          "output_type": "stream",
          "text": [
            "Shuffling and writing examples to /root/tensorflow_datasets/imdb_reviews/plain_text/1.0.0.incompleteDY8F50/imdb_reviews-unsupervised.tfrecord\n",
            "\u001b[1mDataset imdb_reviews downloaded and prepared to /root/tensorflow_datasets/imdb_reviews/plain_text/1.0.0. Subsequent calls will reuse this data.\u001b[0m\n"
          ],
          "name": "stdout"
        },
        {
          "output_type": "execute_result",
          "data": {
            "text/plain": [
              "(TensorSpec(shape=(), dtype=tf.string, name=None),\n",
              " TensorSpec(shape=(), dtype=tf.int64, name=None))"
            ]
          },
          "metadata": {
            "tags": []
          },
          "execution_count": 9
        }
      ]
    },
    {
      "cell_type": "code",
      "metadata": {
        "colab": {
          "base_uri": "https://localhost:8080/"
        },
        "id": "uB4qTewLhhI2",
        "outputId": "b81f8a91-1033-4901-a9ea-07d4ec7227d3"
      },
      "source": [
        "for example, label in train_dataset.take(1):\n",
        "    print('text: ', example.numpy())\n",
        "    print('label: ', label.numpy())"
      ],
      "execution_count": 12,
      "outputs": [
        {
          "output_type": "stream",
          "text": [
            "text:  b\"This was an absolutely terrible movie. Don't be lured in by Christopher Walken or Michael Ironside. Both are great actors, but this must simply be their worst role in history. Even their great acting could not redeem this movie's ridiculous storyline. This movie is an early nineties US propaganda piece. The most pathetic scenes were those when the Columbian rebels were making their cases for revolutions. Maria Conchita Alonso appeared phony, and her pseudo-love affair with Walken was nothing but a pathetic emotional plug in a movie that was devoid of any real meaning. I am disappointed that there are movies like this, ruining actor's like Christopher Walken's good name. I could barely sit through it.\"\n",
            "label:  0\n"
          ],
          "name": "stdout"
        }
      ]
    },
    {
      "cell_type": "code",
      "metadata": {
        "id": "DAwmKW76h7gH"
      },
      "source": [
        "BUFFER_SIZE = 10000\n",
        "BATCH_SIZE = 64"
      ],
      "execution_count": 13,
      "outputs": []
    },
    {
      "cell_type": "code",
      "metadata": {
        "id": "GSrO1O2siZ1h"
      },
      "source": [
        "train_dataset = train_dataset.shuffle(BUFFER_SIZE).batch(BATCH_SIZE).prefetch(tf.data.AUTOTUNE)\n",
        "test_dataset = test_dataset.batch(BATCH_SIZE).prefetch(tf.data.AUTOTUNE)"
      ],
      "execution_count": 14,
      "outputs": []
    },
    {
      "cell_type": "code",
      "metadata": {
        "colab": {
          "base_uri": "https://localhost:8080/"
        },
        "id": "qo1qFM1Qi5wc",
        "outputId": "0df672c0-dced-472d-d126-d2dafb09cd44"
      },
      "source": [
        "for example, label in train_dataset.take(1):\n",
        "    print('text: ', example.numpy()[:3])\n",
        "    print('label: ', label.numpy()[:3])"
      ],
      "execution_count": 16,
      "outputs": [
        {
          "output_type": "stream",
          "text": [
            "text:  [b\"I went to this movie expecting a concise movie relating the effect the Son of Sam had on the society. I didn't expect Spike Lee to force-feed me more garbage on racial tension, mob-justice, or the inability of the common citizen to make a choice under pressure by peers. Lee has presented an extreme opinion.<br /><br />The entire movie could have been more effective if in a 90-min format with more focus, less tangential sub-plots.<br /><br />Don't even bother renting the video unless you passionately enjoy Spike Lee; in such a case, the theatre is worth it. This is not an escapist movie.\"\n",
            " b\"After reading the book, I loved the story. Watching the movie I was disappointed that so many changes were made. It is understandable that books and movies differ but it was two different stories, only the names and some of the book's story remained. Read the book and you'll have a better understanding of the movie. The book gives you a better development of the characters. These characters are extremely interesting and make you care about them. The locations were indeed in line with the book's descriptions. Some characters not included. Television has microwaved so many great books and stories, this is a perfect example of that. Input from the author doesn't always insure a good movie but it can help sometimes.\"\n",
            " b'Greetings again from the darkness. What ever happened to the great Barry Levinson? He directed two of my all-time favorites in \"Avalon\" and \"Diner\". He had some fine movies as well (\"Rainman\"), but always provided something of interest ... until now. I believe the worst thing you can ever say about a comedy is that it is boring. \"Envy\" is the definition of boring. Never of big fan of pure slap stick (\"Dumb and Dumber\"), I was just stunned at how god-awful this movie is. There are maybe 2 chuckles in the whole thing - if you can pay attention that long. The best part of the film is the running gag of the title song by a Redbone sound-alike. If the film had been written as well as the song, it would have been tolerable. Rachel Weisz is a wonderful actress and I realize they all want to do comedy (even Julianne Moore), but the real world exposes one weaknesses. SNL cast member Amy Poehler is her usual over the top in her role as trailer park trash turned princess. The disaster of the film is Jack Black and Ben Stiller. The first work commute together flashes some promise, but after that their chemistry disappears due to the poor script. This script is like most of Jack Black\\'s character\\'s ideas - not a bad thought, but no hope for success.']\n",
            "label:  [0 0 0]\n"
          ],
          "name": "stdout"
        }
      ]
    },
    {
      "cell_type": "code",
      "metadata": {
        "id": "dY4lGbaZjHN5"
      },
      "source": [
        "VOCAB_SIZE=1000\n",
        "encoder = tf.keras.layers.experimental.preprocessing.TextVectorization(\n",
        "    max_tokens=VOCAB_SIZE)\n",
        "encoder.adapt(train_dataset.map(lambda text, label: text))"
      ],
      "execution_count": 17,
      "outputs": []
    },
    {
      "cell_type": "code",
      "metadata": {
        "colab": {
          "base_uri": "https://localhost:8080/"
        },
        "id": "X0NJI4y6jdZt",
        "outputId": "a36093de-0c08-4580-9e3d-fc76b1045b32"
      },
      "source": [
        "vocab = np.array(encoder.get_vocabulary())\n",
        "vocab[:20]"
      ],
      "execution_count": 18,
      "outputs": [
        {
          "output_type": "execute_result",
          "data": {
            "text/plain": [
              "array(['', '[UNK]', 'the', 'and', 'a', 'of', 'to', 'is', 'in', 'it', 'i',\n",
              "       'this', 'that', 'br', 'was', 'as', 'for', 'with', 'movie', 'but'],\n",
              "      dtype='<U14')"
            ]
          },
          "metadata": {
            "tags": []
          },
          "execution_count": 18
        }
      ]
    },
    {
      "cell_type": "code",
      "metadata": {
        "colab": {
          "base_uri": "https://localhost:8080/"
        },
        "id": "ZKmoNl_Kjk1p",
        "outputId": "d80e2491-f528-4fb5-c9d3-1cac592bb61e"
      },
      "source": [
        "encoded_example = encoder(example)[:3].numpy()\n",
        "encoded_example"
      ],
      "execution_count": 20,
      "outputs": [
        {
          "output_type": "execute_result",
          "data": {
            "text/plain": [
              "array([[ 10, 418,   6, ...,   0,   0,   0],\n",
              "       [101, 877,   2, ...,   0,   0,   0],\n",
              "       [  1, 173,  36, ...,   0,   0,   0]])"
            ]
          },
          "metadata": {
            "tags": []
          },
          "execution_count": 20
        }
      ]
    },
    {
      "cell_type": "code",
      "metadata": {
        "colab": {
          "base_uri": "https://localhost:8080/"
        },
        "id": "gtWYdpPajuXG",
        "outputId": "aecf4c98-cf47-4661-8159-43f7a2dc1b4c"
      },
      "source": [
        "for n in range(3):\n",
        "  print(\"Original: \", example[n].numpy())\n",
        "  print(\"Round-trip: \", \" \".join(vocab[encoded_example[n]]))\n",
        "  print()"
      ],
      "execution_count": 22,
      "outputs": [
        {
          "output_type": "stream",
          "text": [
            "Original:  b\"I went to this movie expecting a concise movie relating the effect the Son of Sam had on the society. I didn't expect Spike Lee to force-feed me more garbage on racial tension, mob-justice, or the inability of the common citizen to make a choice under pressure by peers. Lee has presented an extreme opinion.<br /><br />The entire movie could have been more effective if in a 90-min format with more focus, less tangential sub-plots.<br /><br />Don't even bother renting the video unless you passionately enjoy Spike Lee; in such a case, the theatre is worth it. This is not an escapist movie.\"\n",
            "Round-trip:  i went to this movie expecting a [UNK] movie [UNK] the effect the son of [UNK] had on the society i didnt expect [UNK] lee to [UNK] me more [UNK] on [UNK] [UNK] [UNK] or the [UNK] of the [UNK] [UNK] to make a [UNK] under [UNK] by [UNK] lee has [UNK] an [UNK] [UNK] br the entire movie could have been more [UNK] if in a [UNK] [UNK] with more [UNK] less [UNK] [UNK] br dont even [UNK] [UNK] the video unless you [UNK] enjoy [UNK] lee in such a case the [UNK] is worth it this is not an [UNK] movie                                                                                                                                                                                                                                                                                                                                                                                                                                                                                                                                                                                                                                                                                                                                                                                                                                                                                                                                 \n",
            "\n",
            "Original:  b\"After reading the book, I loved the story. Watching the movie I was disappointed that so many changes were made. It is understandable that books and movies differ but it was two different stories, only the names and some of the book's story remained. Read the book and you'll have a better understanding of the movie. The book gives you a better development of the characters. These characters are extremely interesting and make you care about them. The locations were indeed in line with the book's descriptions. Some characters not included. Television has microwaved so many great books and stories, this is a perfect example of that. Input from the author doesn't always insure a good movie but it can help sometimes.\"\n",
            "Round-trip:  after reading the book i loved the story watching the movie i was disappointed that so many [UNK] were made it is [UNK] that [UNK] and movies [UNK] but it was two different stories only the [UNK] and some of the [UNK] story [UNK] read the book and youll have a better [UNK] of the movie the book gives you a better development of the characters these characters are extremely interesting and make you care about them the [UNK] were indeed in line with the [UNK] [UNK] some characters not [UNK] television has [UNK] so many great [UNK] and stories this is a perfect example of that [UNK] from the [UNK] doesnt always [UNK] a good movie but it can help sometimes                                                                                                                                                                                                                                                                                                                                                                                                                                                                                                                                                                                                                                                                                                                                                                                                                                                                                                              \n",
            "\n",
            "Original:  b'Greetings again from the darkness. What ever happened to the great Barry Levinson? He directed two of my all-time favorites in \"Avalon\" and \"Diner\". He had some fine movies as well (\"Rainman\"), but always provided something of interest ... until now. I believe the worst thing you can ever say about a comedy is that it is boring. \"Envy\" is the definition of boring. Never of big fan of pure slap stick (\"Dumb and Dumber\"), I was just stunned at how god-awful this movie is. There are maybe 2 chuckles in the whole thing - if you can pay attention that long. The best part of the film is the running gag of the title song by a Redbone sound-alike. If the film had been written as well as the song, it would have been tolerable. Rachel Weisz is a wonderful actress and I realize they all want to do comedy (even Julianne Moore), but the real world exposes one weaknesses. SNL cast member Amy Poehler is her usual over the top in her role as trailer park trash turned princess. The disaster of the film is Jack Black and Ben Stiller. The first work commute together flashes some promise, but after that their chemistry disappears due to the poor script. This script is like most of Jack Black\\'s character\\'s ideas - not a bad thought, but no hope for success.'\n",
            "Round-trip:  [UNK] again from the [UNK] what ever happened to the great [UNK] [UNK] he directed two of my [UNK] [UNK] in [UNK] and [UNK] he had some fine movies as well [UNK] but always [UNK] something of interest until now i believe the worst thing you can ever say about a comedy is that it is boring [UNK] is the [UNK] of boring never of big fan of [UNK] [UNK] [UNK] dumb and [UNK] i was just [UNK] at how [UNK] this movie is there are maybe 2 [UNK] in the whole thing if you can pay attention that long the best part of the film is the running [UNK] of the title song by a [UNK] [UNK] if the film had been written as well as the song it would have been [UNK] [UNK] [UNK] is a wonderful actress and i realize they all want to do comedy even [UNK] [UNK] but the real world [UNK] one [UNK] [UNK] cast [UNK] [UNK] [UNK] is her usual over the top in her role as [UNK] [UNK] [UNK] turned [UNK] the [UNK] of the film is jack black and [UNK] [UNK] the first work [UNK] together [UNK] some [UNK] but after that their [UNK] [UNK] due to the poor script this script is like most of jack [UNK] characters ideas not a bad thought but no hope for [UNK]                                                                                                                                                                                                                                                                                                                                                                                                                                                                                                                                                                                                                                                                                                                                                                                                    \n",
            "\n"
          ],
          "name": "stdout"
        }
      ]
    },
    {
      "cell_type": "markdown",
      "metadata": {
        "id": "i8eKTw-DkYi1"
      },
      "source": [
        "The model diagram:\n",
        "- Model Sequential\n",
        "- encoder converts text to sequence of token indices\n",
        "- Embedding layer: An embedding layer stores one vector per word. When called, it converts the sequences of word indices to sequences of vectors."
      ]
    },
    {
      "cell_type": "code",
      "metadata": {
        "id": "qEF0Bui_lO1d"
      },
      "source": [
        "model = keras.models.Sequential([\n",
        "    encoder,\n",
        "    tf.keras.layers.Embedding(\n",
        "        input_dim=len(encoder.get_vocabulary()),\n",
        "        output_dim=64,\n",
        "        mask_zero=True\n",
        "    ),\n",
        "    tf.keras.layers.Bidirectional(tf.keras.layers.LSTM(64)),\n",
        "    tf.keras.layers.Dense(64, activation='relu'),\n",
        "    tf.keras.layers.Dense(1)\n",
        "])"
      ],
      "execution_count": 27,
      "outputs": []
    },
    {
      "cell_type": "code",
      "metadata": {
        "colab": {
          "base_uri": "https://localhost:8080/"
        },
        "id": "C8es0uDdlzUR",
        "outputId": "25bc80ad-2d5e-4440-ce05-b231eaac3b25"
      },
      "source": [
        "print([layer.supports_masking for layer in model.layers])"
      ],
      "execution_count": 28,
      "outputs": [
        {
          "output_type": "stream",
          "text": [
            "[False, True, True, True, True]\n"
          ],
          "name": "stdout"
        }
      ]
    },
    {
      "cell_type": "code",
      "metadata": {
        "colab": {
          "base_uri": "https://localhost:8080/"
        },
        "id": "fzCewqegmM78",
        "outputId": "45039f13-19aa-4c09-df44-dd6459b0d5ec"
      },
      "source": [
        "# predict on a sample text without padding.\n",
        "\n",
        "sample_text = ('The movie was cool. The animation and the graphics '\n",
        "               'were out of this world. I would recommend this movie.')\n",
        "predictions = model.predict(np.array([sample_text]))\n",
        "print(predictions[0])"
      ],
      "execution_count": 29,
      "outputs": [
        {
          "output_type": "stream",
          "text": [
            "[-0.00417742]\n"
          ],
          "name": "stdout"
        }
      ]
    },
    {
      "cell_type": "code",
      "metadata": {
        "colab": {
          "base_uri": "https://localhost:8080/"
        },
        "id": "NtODf6nkmRZE",
        "outputId": "d46f7cbd-4837-46ea-e974-4bea191edfea"
      },
      "source": [
        "# predict on a sample text with padding\n",
        "\n",
        "padding = \"the \" * 2000\n",
        "predictions = model.predict(np.array([sample_text, padding]))\n",
        "print(predictions[0])"
      ],
      "execution_count": 30,
      "outputs": [
        {
          "output_type": "stream",
          "text": [
            "[-0.00417742]\n"
          ],
          "name": "stdout"
        }
      ]
    },
    {
      "cell_type": "code",
      "metadata": {
        "id": "7eKOCnaPmbmB"
      },
      "source": [
        "model.compile(loss=tf.keras.losses.BinaryCrossentropy(from_logits=True),\n",
        "              optimizer=tf.keras.optimizers.Adam(1e-4),\n",
        "              metrics=['accuracy'])"
      ],
      "execution_count": 31,
      "outputs": []
    },
    {
      "cell_type": "code",
      "metadata": {
        "colab": {
          "base_uri": "https://localhost:8080/"
        },
        "id": "yL6x-6cEmi2B",
        "outputId": "cf0c50d5-0321-4d8b-e381-7cf93f3b4ceb"
      },
      "source": [
        "history = model.fit(train_dataset, epochs=10,\n",
        "                    validation_data=test_dataset, \n",
        "                    validation_steps=30)"
      ],
      "execution_count": 32,
      "outputs": [
        {
          "output_type": "stream",
          "text": [
            "Epoch 1/10\n",
            "391/391 [==============================] - 41s 90ms/step - loss: 0.6767 - accuracy: 0.5187 - val_loss: 0.4516 - val_accuracy: 0.7620\n",
            "Epoch 2/10\n",
            "391/391 [==============================] - 34s 85ms/step - loss: 0.3920 - accuracy: 0.8223 - val_loss: 0.3644 - val_accuracy: 0.8198\n",
            "Epoch 3/10\n",
            "391/391 [==============================] - 34s 85ms/step - loss: 0.3392 - accuracy: 0.8492 - val_loss: 0.3329 - val_accuracy: 0.8536\n",
            "Epoch 4/10\n",
            "391/391 [==============================] - 34s 85ms/step - loss: 0.3183 - accuracy: 0.8625 - val_loss: 0.3301 - val_accuracy: 0.8526\n",
            "Epoch 5/10\n",
            "391/391 [==============================] - 34s 85ms/step - loss: 0.3093 - accuracy: 0.8659 - val_loss: 0.3467 - val_accuracy: 0.8307\n",
            "Epoch 6/10\n",
            "391/391 [==============================] - 34s 85ms/step - loss: 0.3070 - accuracy: 0.8676 - val_loss: 0.3262 - val_accuracy: 0.8609\n",
            "Epoch 7/10\n",
            "391/391 [==============================] - 34s 85ms/step - loss: 0.2994 - accuracy: 0.8702 - val_loss: 0.3229 - val_accuracy: 0.8573\n",
            "Epoch 8/10\n",
            "391/391 [==============================] - 33s 84ms/step - loss: 0.3007 - accuracy: 0.8703 - val_loss: 0.3266 - val_accuracy: 0.8630\n",
            "Epoch 9/10\n",
            "391/391 [==============================] - 33s 85ms/step - loss: 0.3053 - accuracy: 0.8713 - val_loss: 0.3208 - val_accuracy: 0.8573\n",
            "Epoch 10/10\n",
            "391/391 [==============================] - 34s 85ms/step - loss: 0.3020 - accuracy: 0.8710 - val_loss: 0.3293 - val_accuracy: 0.8438\n"
          ],
          "name": "stdout"
        }
      ]
    },
    {
      "cell_type": "code",
      "metadata": {
        "colab": {
          "base_uri": "https://localhost:8080/"
        },
        "id": "WYJB1C3NmlJv",
        "outputId": "d94d2b94-f021-4249-d9b0-59930e85bbb5"
      },
      "source": [
        "test_loss, test_acc = model.evaluate(test_dataset)\n",
        "\n",
        "print('Test Loss: {}'.format(test_loss))\n",
        "print('Test Accuracy: {}'.format(test_acc))"
      ],
      "execution_count": 33,
      "outputs": [
        {
          "output_type": "stream",
          "text": [
            "391/391 [==============================] - 15s 39ms/step - loss: 0.3259 - accuracy: 0.8440\n",
            "Test Loss: 0.3259401023387909\n",
            "Test Accuracy: 0.8440399765968323\n"
          ],
          "name": "stdout"
        }
      ]
    },
    {
      "cell_type": "code",
      "metadata": {
        "colab": {
          "base_uri": "https://localhost:8080/",
          "height": 518
        },
        "id": "40TXip07moJc",
        "outputId": "13ded20b-5d8c-42fe-dbcf-09286af7becf"
      },
      "source": [
        "plt.figure(figsize=(16,8))\n",
        "plt.subplot(1,2,1)\n",
        "plot_graphs(history, 'accuracy')\n",
        "plt.ylim(None,1)\n",
        "plt.subplot(1,2,2)\n",
        "plot_graphs(history, 'loss')\n",
        "plt.ylim(0,None)"
      ],
      "execution_count": 34,
      "outputs": [
        {
          "output_type": "execute_result",
          "data": {
            "text/plain": [
              "(0.0, 0.6344209358096122)"
            ]
          },
          "metadata": {
            "tags": []
          },
          "execution_count": 34
        },
        {
          "output_type": "display_data",
          "data": {
            "image/png": "[encoded data removed]",
            "text/plain": [
              "<Figure size 1152x576 with 2 Axes>"
            ]
          },
          "metadata": {
            "tags": [],
            "needs_background": "light"
          }
        }
      ]
    },
    {
      "cell_type": "code",
      "metadata": {
        "id": "gt8b5edZmpUY"
      },
      "source": [
        "sample_text = ('The movie was cool. The animation and the graphics '\n",
        "               'were out of this world. I would recommend this movie.')\n",
        "predictions = model.predict(np.array([sample_text]))"
      ],
      "execution_count": 35,
      "outputs": []
    }
  ]
}
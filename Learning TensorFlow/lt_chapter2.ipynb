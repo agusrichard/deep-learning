{
  "nbformat": 4,
  "nbformat_minor": 0,
  "metadata": {
    "colab": {
      "name": "lt-chapter2.ipynb",
      "provenance": [],
      "collapsed_sections": []
    },
    "kernelspec": {
      "name": "python3",
      "display_name": "Python 3"
    }
  },
  "cells": [
    {
      "cell_type": "markdown",
      "metadata": {
        "id": "1GDEkLWgECgZ",
        "colab_type": "text"
      },
      "source": [
        "# Chapter 2\n",
        "# Go with the Flow: Up and Running with TensorFlow"
      ]
    },
    {
      "cell_type": "markdown",
      "metadata": {
        "id": "miqbpgXroxlB",
        "colab_type": "text"
      },
      "source": [
        "---"
      ]
    },
    {
      "cell_type": "markdown",
      "metadata": {
        "id": "PMbtyp11oywR",
        "colab_type": "text"
      },
      "source": [
        "## Hello World"
      ]
    },
    {
      "cell_type": "code",
      "metadata": {
        "id": "TIKRUe3Oo0QD",
        "colab_type": "code",
        "colab": {
          "base_uri": "https://localhost:8080/",
          "height": 35
        },
        "outputId": "e69627af-f65b-448f-f53a-83bf78495ded"
      },
      "source": [
        "import tensorflow as tf\n",
        "print(tf.__version__)"
      ],
      "execution_count": 1,
      "outputs": [
        {
          "output_type": "stream",
          "text": [
            "1.15.0-rc3\n"
          ],
          "name": "stdout"
        }
      ]
    },
    {
      "cell_type": "code",
      "metadata": {
        "id": "raH1jUW-CHsH",
        "colab_type": "code",
        "colab": {
          "base_uri": "https://localhost:8080/",
          "height": 54
        },
        "outputId": "ec89896d-95c3-4665-8259-952c5d9cfabf"
      },
      "source": [
        "hello = tf.constant(\"Hello\")\n",
        "world = tf.constant(\"World\")\n",
        "hello_world = hello + world\n",
        "\n",
        "with tf.Session() as sess:\n",
        "    answer = sess.run(hello_world)\n",
        "\n",
        "print(hello_world)\n",
        "print(answer)"
      ],
      "execution_count": 4,
      "outputs": [
        {
          "output_type": "stream",
          "text": [
            "Tensor(\"add_2:0\", shape=(), dtype=string)\n",
            "b'HelloWorld'\n"
          ],
          "name": "stdout"
        }
      ]
    },
    {
      "cell_type": "markdown",
      "metadata": {
        "id": "5XeqBm3GDO-O",
        "colab_type": "text"
      },
      "source": [
        "- The key idea behind computation graphs in TensorFlow is that we first define what computations should take place, and then trigger the computations in an external mechanisms.\n",
        "- The Session object acts as an interface to the external TensorFlow computation mechanism, and allow us to run parts of the computation graph we have already defined."
      ]
    },
    {
      "cell_type": "markdown",
      "metadata": {
        "id": "hX4IwZp1Di5A",
        "colab_type": "text"
      },
      "source": [
        "---"
      ]
    },
    {
      "cell_type": "markdown",
      "metadata": {
        "id": "Kt7oEyF9EE-Z",
        "colab_type": "text"
      },
      "source": [
        "## MNIST and Softmax Regression"
      ]
    },
    {
      "cell_type": "markdown",
      "metadata": {
        "id": "3vI89_6cEHdj",
        "colab_type": "text"
      },
      "source": [
        "- Put simply, the softmax regression model will figure out, for each pixel in the image,\n",
        "which digits tend to have high (or low) values in that location.\n",
        "- All this means is that we sum up the pixel values, each multiplied by a weight, which\n",
        "we think of as the importance of this pixel in the overall evidence for the digit zero\n",
        "being in the image."
      ]
    },
    {
      "cell_type": "code",
      "metadata": {
        "id": "YEcKo-zwGAh0",
        "colab_type": "code",
        "colab": {
          "base_uri": "https://localhost:8080/",
          "height": 109
        },
        "outputId": "fa198035-d125-41d2-f31d-cde240a8129c"
      },
      "source": [
        "# import necessary modules\n",
        "import tensorflow as tf\n",
        "from tensorflow.examples.tutorials.mnist import input_data\n",
        "\n",
        "# some constants\n",
        "DATA_DIR = '/tmp/data'\n",
        "NUM_STEPS = 1000\n",
        "MINIBATCH_SIZE = 100\n",
        "\n",
        "# read the data\n",
        "data = input_data.read_data_sets(DATA_DIR, one_hot=True)\n",
        "\n",
        "# a variable is an element manipulated by the computation, \n",
        "# while a placeholder has to be supplied when triggering it\n",
        "# The size [None, 784] means that each image is of size 784 \n",
        "# (28×28 pixels unrolled into a single vector), \n",
        "# and None is an indicator \n",
        "# that we are not currently specifying how many of\n",
        "# these images we will use at once\n",
        "x = tf.placeholder(tf.float32, [None, 784])\n",
        "W = tf.Variable(tf.zeros([784, 10]))\n",
        "\n",
        "y_true = tf.placeholder(tf.float32, [None, 10])\n",
        "y_pred = tf.matmul(x, W)\n",
        "\n",
        "# loss function\n",
        "cross_entropy = tf.reduce_mean(tf.nn.softmax_cross_entropy_with_logits(logits=y_pred, labels=y_true))\n",
        "\n",
        "# optimization\n",
        "gd_step = tf.train.GradientDescentOptimizer(0.5).minimize(cross_entropy)\n",
        "\n",
        "correct_mask = tf.equal(tf.argmax(y_pred, 1), tf.argmax(y_true, 1))\n",
        "accuracy = tf.reduce_mean(tf.cast(correct_mask, tf.float32))\n",
        "\n",
        "with tf.Session() as sess:\n",
        "\n",
        "    # train\n",
        "    sess.run(tf.global_variables_initializer())\n",
        "    for _ in range(NUM_STEPS):\n",
        "        batch_xs, batch_ys = data.train.next_batch(MINIBATCH_SIZE)\n",
        "        sess.run(gd_step, feed_dict={x: batch_xs, y_true: batch_ys})\n",
        "\n",
        "    # test\n",
        "    ans = sess.run(accuracy, feed_dict={x: data.test.images, y_true: data.test.labels})\n",
        "\n",
        "print(\"Accuracy: {:.5}%\".format(ans*100))"
      ],
      "execution_count": 9,
      "outputs": [
        {
          "output_type": "stream",
          "text": [
            "Extracting /tmp/data/train-images-idx3-ubyte.gz\n",
            "Extracting /tmp/data/train-labels-idx1-ubyte.gz\n",
            "Extracting /tmp/data/t10k-images-idx3-ubyte.gz\n",
            "Extracting /tmp/data/t10k-labels-idx1-ubyte.gz\n",
            "Accuracy: 91.66%\n"
          ],
          "name": "stdout"
        }
      ]
    }
  ]
}
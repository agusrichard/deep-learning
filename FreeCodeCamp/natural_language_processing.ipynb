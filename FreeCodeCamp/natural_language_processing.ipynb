{
  "nbformat": 4,
  "nbformat_minor": 0,
  "metadata": {
    "colab": {
      "name": "natural_language_processing.ipynb",
      "provenance": [],
      "collapsed_sections": []
    },
    "kernelspec": {
      "name": "python3",
      "display_name": "Python 3"
    },
    "accelerator": "GPU"
  },
  "cells": [
    {
      "cell_type": "markdown",
      "metadata": {
        "id": "13mXiVTcntzt"
      },
      "source": [
        "# FreeCodeCamp: Natural Language Processing"
      ]
    },
    {
      "cell_type": "code",
      "metadata": {
        "id": "07mHRq_knxlP"
      },
      "source": [
        "from keras.datasets import imdb\n",
        "from keras.preprocessing import sequence\n",
        "import tensorflow as tf\n",
        "import os\n",
        "import numpy as np\n",
        "\n",
        "VOCAB_SIZE = 88584\n",
        "\n",
        "MAXLEN = 250\n",
        "BATCH_SIZE = 64"
      ],
      "execution_count": 2,
      "outputs": []
    },
    {
      "cell_type": "code",
      "metadata": {
        "colab": {
          "base_uri": "https://localhost:8080/"
        },
        "id": "AB-JtpdIsmJU",
        "outputId": "7cb786cb-e1c3-45d9-997d-6275ca49f3e8"
      },
      "source": [
        "(train_data, train_labels), (test_data, test_labels) = imdb.load_data(num_words=VOCAB_SIZE)"
      ],
      "execution_count": 3,
      "outputs": [
        {
          "output_type": "stream",
          "text": [
            "Downloading data from https://storage.googleapis.com/tensorflow/tf-keras-datasets/imdb.npz\n",
            "17465344/17464789 [==============================] - 0s 0us/step\n"
          ],
          "name": "stdout"
        },
        {
          "output_type": "stream",
          "text": [
            "<string>:6: VisibleDeprecationWarning: Creating an ndarray from ragged nested sequences (which is a list-or-tuple of lists-or-tuples-or ndarrays with different lengths or shapes) is deprecated. If you meant to do this, you must specify 'dtype=object' when creating the ndarray\n",
            "/usr/local/lib/python3.6/dist-packages/tensorflow/python/keras/datasets/imdb.py:159: VisibleDeprecationWarning: Creating an ndarray from ragged nested sequences (which is a list-or-tuple of lists-or-tuples-or ndarrays with different lengths or shapes) is deprecated. If you meant to do this, you must specify 'dtype=object' when creating the ndarray\n",
            "  x_train, y_train = np.array(xs[:idx]), np.array(labels[:idx])\n",
            "/usr/local/lib/python3.6/dist-packages/tensorflow/python/keras/datasets/imdb.py:160: VisibleDeprecationWarning: Creating an ndarray from ragged nested sequences (which is a list-or-tuple of lists-or-tuples-or ndarrays with different lengths or shapes) is deprecated. If you meant to do this, you must specify 'dtype=object' when creating the ndarray\n",
            "  x_test, y_test = np.array(xs[idx:]), np.array(labels[idx:])\n"
          ],
          "name": "stderr"
        }
      ]
    },
    {
      "cell_type": "code",
      "metadata": {
        "colab": {
          "base_uri": "https://localhost:8080/"
        },
        "id": "L2YiDypztSzy",
        "outputId": "5f446e29-d370-4be8-c084-fd8bd931b6d9"
      },
      "source": [
        "for i in range(5):\n",
        "    print(i, len(train_data[i]))"
      ],
      "execution_count": 4,
      "outputs": [
        {
          "output_type": "stream",
          "text": [
            "0 218\n",
            "1 189\n",
            "2 141\n",
            "3 550\n",
            "4 147\n"
          ],
          "name": "stdout"
        }
      ]
    },
    {
      "cell_type": "code",
      "metadata": {
        "id": "v3S_84WHtdEp"
      },
      "source": [
        "train_data = sequence.pad_sequences(train_data, MAXLEN)\n",
        "test_data = sequence.pad_sequences(test_data, MAXLEN)"
      ],
      "execution_count": 5,
      "outputs": []
    },
    {
      "cell_type": "code",
      "metadata": {
        "colab": {
          "base_uri": "https://localhost:8080/"
        },
        "id": "A_71UqpOtsth",
        "outputId": "f192f9c3-5e11-4f76-a57b-e7421555c12e"
      },
      "source": [
        "for i in range(10):\n",
        "    print(i, len(train_data[i]))"
      ],
      "execution_count": 6,
      "outputs": [
        {
          "output_type": "stream",
          "text": [
            "0 250\n",
            "1 250\n",
            "2 250\n",
            "3 250\n",
            "4 250\n",
            "5 250\n",
            "6 250\n",
            "7 250\n",
            "8 250\n",
            "9 250\n"
          ],
          "name": "stdout"
        }
      ]
    },
    {
      "cell_type": "code",
      "metadata": {
        "id": "5zbO8NZvtw9Q"
      },
      "source": [
        "model = tf.keras.Sequential([\n",
        "    tf.keras.layers.Embedding(VOCAB_SIZE, 32),\n",
        "    tf.keras.layers.LSTM(32),\n",
        "    tf.keras.layers.Dense(1, activation='sigmoid')\n",
        "])"
      ],
      "execution_count": 7,
      "outputs": []
    },
    {
      "cell_type": "code",
      "metadata": {
        "colab": {
          "base_uri": "https://localhost:8080/"
        },
        "id": "CLTS46LEuk5P",
        "outputId": "222e6421-b6e4-4b00-ccb2-26935f16124f"
      },
      "source": [
        "model.summary()"
      ],
      "execution_count": 8,
      "outputs": [
        {
          "output_type": "stream",
          "text": [
            "Model: \"sequential\"\n",
            "_________________________________________________________________\n",
            "Layer (type)                 Output Shape              Param #   \n",
            "=================================================================\n",
            "embedding (Embedding)        (None, None, 32)          2834688   \n",
            "_________________________________________________________________\n",
            "lstm (LSTM)                  (None, 32)                8320      \n",
            "_________________________________________________________________\n",
            "dense (Dense)                (None, 1)                 33        \n",
            "=================================================================\n",
            "Total params: 2,843,041\n",
            "Trainable params: 2,843,041\n",
            "Non-trainable params: 0\n",
            "_________________________________________________________________\n"
          ],
          "name": "stdout"
        }
      ]
    },
    {
      "cell_type": "code",
      "metadata": {
        "colab": {
          "base_uri": "https://localhost:8080/"
        },
        "id": "JLx7FwryumBe",
        "outputId": "7ed839b0-5947-4544-878f-90627f222a8e"
      },
      "source": [
        "model.compile(loss='binary_crossentropy', optimizer='rmsprop', metrics=['acc'])\n",
        "history = model.fit(train_data, train_labels, epochs=10, validation_split=0.15)"
      ],
      "execution_count": 10,
      "outputs": [
        {
          "output_type": "stream",
          "text": [
            "Epoch 1/10\n",
            "665/665 [==============================] - 22s 21ms/step - loss: 0.5148 - acc: 0.7332 - val_loss: 0.5982 - val_acc: 0.7560\n",
            "Epoch 2/10\n",
            "665/665 [==============================] - 13s 20ms/step - loss: 0.2301 - acc: 0.9104 - val_loss: 0.5555 - val_acc: 0.8224\n",
            "Epoch 3/10\n",
            "665/665 [==============================] - 13s 20ms/step - loss: 0.1788 - acc: 0.9365 - val_loss: 0.2761 - val_acc: 0.8923\n",
            "Epoch 4/10\n",
            "665/665 [==============================] - 13s 20ms/step - loss: 0.1418 - acc: 0.9500 - val_loss: 0.3552 - val_acc: 0.8829\n",
            "Epoch 5/10\n",
            "665/665 [==============================] - 13s 20ms/step - loss: 0.1301 - acc: 0.9561 - val_loss: 0.2996 - val_acc: 0.8853\n",
            "Epoch 6/10\n",
            "665/665 [==============================] - 14s 21ms/step - loss: 0.1101 - acc: 0.9622 - val_loss: 0.6259 - val_acc: 0.8464\n",
            "Epoch 7/10\n",
            "665/665 [==============================] - 13s 20ms/step - loss: 0.0954 - acc: 0.9683 - val_loss: 0.3629 - val_acc: 0.8843\n",
            "Epoch 8/10\n",
            "665/665 [==============================] - 13s 20ms/step - loss: 0.0792 - acc: 0.9739 - val_loss: 0.3450 - val_acc: 0.8843\n",
            "Epoch 9/10\n",
            "665/665 [==============================] - 13s 20ms/step - loss: 0.0784 - acc: 0.9740 - val_loss: 0.3611 - val_acc: 0.8891\n",
            "Epoch 10/10\n",
            "665/665 [==============================] - 13s 20ms/step - loss: 0.0683 - acc: 0.9802 - val_loss: 0.3924 - val_acc: 0.8861\n"
          ],
          "name": "stdout"
        }
      ]
    },
    {
      "cell_type": "code",
      "metadata": {
        "id": "CMxmpUxf8vm5"
      },
      "source": [
        ""
      ],
      "execution_count": null,
      "outputs": []
    }
  ]
}
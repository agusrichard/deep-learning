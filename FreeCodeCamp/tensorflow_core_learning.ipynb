{
  "nbformat": 4,
  "nbformat_minor": 0,
  "metadata": {
    "colab": {
      "name": "tensorflow_core_learning.ipynb",
      "provenance": [],
      "collapsed_sections": [],
      "toc_visible": true
    },
    "kernelspec": {
      "name": "python3",
      "display_name": "Python 3"
    }
  },
  "cells": [
    {
      "cell_type": "markdown",
      "metadata": {
        "id": "hoNXQUBEWcis"
      },
      "source": [
        "# FreeCodeCamp: Core Learning"
      ]
    },
    {
      "cell_type": "markdown",
      "metadata": {
        "id": "zbf0A8JSvw_q"
      },
      "source": [
        "---"
      ]
    },
    {
      "cell_type": "markdown",
      "metadata": {
        "id": "YVQ7sELmvsW_"
      },
      "source": [
        "## Introduction to Tensorflow"
      ]
    },
    {
      "cell_type": "code",
      "metadata": {
        "id": "-bZt2uBDcdWt"
      },
      "source": [
        "import numpy as np\n",
        "import pandas as pd\n",
        "import matplotlib.pyplot as plt\n",
        "import tensorflow as tf"
      ],
      "execution_count": null,
      "outputs": []
    },
    {
      "cell_type": "code",
      "metadata": {
        "colab": {
          "base_uri": "https://localhost:8080/"
        },
        "id": "l3IZ43DjuxAQ",
        "outputId": "58f7a6c1-96b8-412e-8fdb-e3197008c937"
      },
      "source": [
        "sekar = tf.Variable('Sekardayu Hana Pradiani', tf.string)\n",
        "print(sekar)"
      ],
      "execution_count": null,
      "outputs": [
        {
          "output_type": "stream",
          "text": [
            "<tf.Variable 'Variable:0' shape=() dtype=string, numpy=b'Sekardayu Hana Pradiani'>\n"
          ],
          "name": "stdout"
        }
      ]
    },
    {
      "cell_type": "code",
      "metadata": {
        "colab": {
          "base_uri": "https://localhost:8080/"
        },
        "id": "3Q4b3xtwvahQ",
        "outputId": "fbd8e459-65a1-49ad-c0eb-af6f8e7945b9"
      },
      "source": [
        "saskia = tf.Variable('Saskia Nurul Azhima', tf.string)\n",
        "print(saskia)"
      ],
      "execution_count": null,
      "outputs": [
        {
          "output_type": "stream",
          "text": [
            "<tf.Variable 'Variable:0' shape=() dtype=string, numpy=b'Saskia Nurul Azhima'>\n"
          ],
          "name": "stdout"
        }
      ]
    },
    {
      "cell_type": "code",
      "metadata": {
        "colab": {
          "base_uri": "https://localhost:8080/"
        },
        "id": "RwMaFwRRwV_n",
        "outputId": "267faa6d-da10-4aec-929b-1e82303810c8"
      },
      "source": [
        "arifa = tf.Variable('Arifa Rachma', tf.string)\n",
        "print(arifa)"
      ],
      "execution_count": null,
      "outputs": [
        {
          "output_type": "stream",
          "text": [
            "<tf.Variable 'Variable:0' shape=() dtype=string, numpy=b'Arifa Rachma'>\n"
          ],
          "name": "stdout"
        }
      ]
    },
    {
      "cell_type": "code",
      "metadata": {
        "colab": {
          "base_uri": "https://localhost:8080/"
        },
        "id": "wyTFKKgzvfuN",
        "outputId": "d6cda3b7-4f79-4a0c-fd1f-bf2d3cdba5a4"
      },
      "source": [
        "nums = tf.Variable([1, 2, 3], tf.int32)\n",
        "print(nums)"
      ],
      "execution_count": null,
      "outputs": [
        {
          "output_type": "stream",
          "text": [
            "<tf.Variable 'Variable:0' shape=(3,) dtype=int32, numpy=array([1, 2, 3], dtype=int32)>\n"
          ],
          "name": "stdout"
        }
      ]
    },
    {
      "cell_type": "code",
      "metadata": {
        "colab": {
          "base_uri": "https://localhost:8080/"
        },
        "id": "sZSxtSCSvlA6",
        "outputId": "45ae236e-2289-48e6-e371-fd943960e1ac"
      },
      "source": [
        "bunch_of_ones = tf.ones([3, 2, 1])\n",
        "print(bunch_of_ones)"
      ],
      "execution_count": null,
      "outputs": [
        {
          "output_type": "stream",
          "text": [
            "tf.Tensor(\n",
            "[[[1.]\n",
            "  [1.]]\n",
            "\n",
            " [[1.]\n",
            "  [1.]]\n",
            "\n",
            " [[1.]\n",
            "  [1.]]], shape=(3, 2, 1), dtype=float32)\n"
          ],
          "name": "stdout"
        }
      ]
    },
    {
      "cell_type": "code",
      "metadata": {
        "colab": {
          "base_uri": "https://localhost:8080/"
        },
        "id": "C6uKTTAzwOqP",
        "outputId": "76de198b-1e14-4656-e7d1-eb86b4131250"
      },
      "source": [
        "tf.rank(bunch_of_ones)"
      ],
      "execution_count": null,
      "outputs": [
        {
          "output_type": "execute_result",
          "data": {
            "text/plain": [
              "<tf.Tensor: shape=(), dtype=int32, numpy=3>"
            ]
          },
          "metadata": {
            "tags": []
          },
          "execution_count": 7
        }
      ]
    },
    {
      "cell_type": "code",
      "metadata": {
        "colab": {
          "base_uri": "https://localhost:8080/"
        },
        "id": "cpIelZmCwR0w",
        "outputId": "21cb5c30-4e93-4264-a3b5-ff1bd59f5f68"
      },
      "source": [
        "bunch_of_ones.shape"
      ],
      "execution_count": null,
      "outputs": [
        {
          "output_type": "execute_result",
          "data": {
            "text/plain": [
              "TensorShape([3, 2, 1])"
            ]
          },
          "metadata": {
            "tags": []
          },
          "execution_count": 8
        }
      ]
    },
    {
      "cell_type": "code",
      "metadata": {
        "colab": {
          "base_uri": "https://localhost:8080/"
        },
        "id": "Z9H5ioG4wT7Z",
        "outputId": "e1c2a470-6294-4eca-a34b-9f740d0ff60e"
      },
      "source": [
        "tf.reshape(bunch_of_ones, [-1])"
      ],
      "execution_count": null,
      "outputs": [
        {
          "output_type": "execute_result",
          "data": {
            "text/plain": [
              "<tf.Tensor: shape=(6,), dtype=float32, numpy=array([1., 1., 1., 1., 1., 1.], dtype=float32)>"
            ]
          },
          "metadata": {
            "tags": []
          },
          "execution_count": 11
        }
      ]
    },
    {
      "cell_type": "code",
      "metadata": {
        "colab": {
          "base_uri": "https://localhost:8080/"
        },
        "id": "0Q7Zx8zjwnXj",
        "outputId": "2215eb5d-8640-4529-beba-fdfa15414aad"
      },
      "source": [
        "flatten_ones = tf.reshape(bunch_of_ones, [-1])\n",
        "print('flatten_ones', flatten_ones)\n",
        "print('flatten_ones shape', flatten_ones.shape)"
      ],
      "execution_count": null,
      "outputs": [
        {
          "output_type": "stream",
          "text": [
            "flatten_ones tf.Tensor([1. 1. 1. 1. 1. 1.], shape=(6,), dtype=float32)\n",
            "flatten_ones shape (6,)\n"
          ],
          "name": "stdout"
        }
      ]
    }
  ]
}
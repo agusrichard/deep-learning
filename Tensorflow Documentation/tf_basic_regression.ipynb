{
  "nbformat": 4,
  "nbformat_minor": 0,
  "metadata": {
    "colab": {
      "name": "tf_basic_regression.ipynb",
      "provenance": [],
      "collapsed_sections": []
    },
    "kernelspec": {
      "name": "python3",
      "display_name": "Python 3"
    }
  },
  "cells": [
    {
      "cell_type": "markdown",
      "metadata": {
        "id": "GdOcPvFe3n5A"
      },
      "source": [
        "# Tensorflow Basic Regression: Predict Fuel Efficiency"
      ]
    },
    {
      "cell_type": "code",
      "metadata": {
        "id": "m-LKN-bz4Kc-"
      },
      "source": [
        "import numpy as np\n",
        "import pandas as pd\n",
        "import matplotlib.pyplot as plt\n",
        "import seaborn as sns\n",
        "\n",
        "import tensorflow as tf\n",
        "from tensorflow.keras import layers\n",
        "from tensorflow.keras.layers.experimental import preprocessing"
      ],
      "execution_count": 1,
      "outputs": []
    },
    {
      "cell_type": "code",
      "metadata": {
        "id": "P0FbBSUE4iqt"
      },
      "source": [
        "np.set_printoptions(precision=3, suppress=True)"
      ],
      "execution_count": 2,
      "outputs": []
    },
    {
      "cell_type": "code",
      "metadata": {
        "id": "X3s85oo25FKv"
      },
      "source": [
        "url = 'http://archive.ics.uci.edu/ml/machine-learning-databases/auto-mpg/auto-mpg.data'\n",
        "column_names = ['MPG', 'Cylinders', 'Displacement', 'Horsepower', 'Weight',\n",
        "                'Acceleration', 'Model Year', 'Origin']\n",
        "\n",
        "raw_dataset = pd.read_csv(url, names=column_names,\n",
        "                          na_values='?', comment='\\t',\n",
        "                          sep=' ', skipinitialspace=True)"
      ],
      "execution_count": 3,
      "outputs": []
    },
    {
      "cell_type": "code",
      "metadata": {
        "colab": {
          "base_uri": "https://localhost:8080/",
          "height": 241
        },
        "id": "8m-cpTdF5J7_",
        "outputId": "e3e96a90-9b10-4a06-d443-28b758020ae1"
      },
      "source": [
        "raw_dataset.head()"
      ],
      "execution_count": 4,
      "outputs": [
        {
          "output_type": "execute_result",
          "data": {
            "text/html": [
              "<div>\n",
              "<style scoped>\n",
              "    .dataframe tbody tr th:only-of-type {\n",
              "        vertical-align: middle;\n",
              "    }\n",
              "\n",
              "    .dataframe tbody tr th {\n",
              "        vertical-align: top;\n",
              "    }\n",
              "\n",
              "    .dataframe thead th {\n",
              "        text-align: right;\n",
              "    }\n",
              "</style>\n",
              "<table border=\"1\" class=\"dataframe\">\n",
              "  <thead>\n",
              "    <tr style=\"text-align: right;\">\n",
              "      <th></th>\n",
              "      <th>MPG</th>\n",
              "      <th>Cylinders</th>\n",
              "      <th>Displacement</th>\n",
              "      <th>Horsepower</th>\n",
              "      <th>Weight</th>\n",
              "      <th>Acceleration</th>\n",
              "      <th>Model Year</th>\n",
              "      <th>Origin</th>\n",
              "    </tr>\n",
              "  </thead>\n",
              "  <tbody>\n",
              "    <tr>\n",
              "      <th>0</th>\n",
              "      <td>18.0</td>\n",
              "      <td>8</td>\n",
              "      <td>307.0</td>\n",
              "      <td>130.0</td>\n",
              "      <td>3504.0</td>\n",
              "      <td>12.0</td>\n",
              "      <td>70</td>\n",
              "      <td>1</td>\n",
              "    </tr>\n",
              "    <tr>\n",
              "      <th>1</th>\n",
              "      <td>15.0</td>\n",
              "      <td>8</td>\n",
              "      <td>350.0</td>\n",
              "      <td>165.0</td>\n",
              "      <td>3693.0</td>\n",
              "      <td>11.5</td>\n",
              "      <td>70</td>\n",
              "      <td>1</td>\n",
              "    </tr>\n",
              "    <tr>\n",
              "      <th>2</th>\n",
              "      <td>18.0</td>\n",
              "      <td>8</td>\n",
              "      <td>318.0</td>\n",
              "      <td>150.0</td>\n",
              "      <td>3436.0</td>\n",
              "      <td>11.0</td>\n",
              "      <td>70</td>\n",
              "      <td>1</td>\n",
              "    </tr>\n",
              "    <tr>\n",
              "      <th>3</th>\n",
              "      <td>16.0</td>\n",
              "      <td>8</td>\n",
              "      <td>304.0</td>\n",
              "      <td>150.0</td>\n",
              "      <td>3433.0</td>\n",
              "      <td>12.0</td>\n",
              "      <td>70</td>\n",
              "      <td>1</td>\n",
              "    </tr>\n",
              "    <tr>\n",
              "      <th>4</th>\n",
              "      <td>17.0</td>\n",
              "      <td>8</td>\n",
              "      <td>302.0</td>\n",
              "      <td>140.0</td>\n",
              "      <td>3449.0</td>\n",
              "      <td>10.5</td>\n",
              "      <td>70</td>\n",
              "      <td>1</td>\n",
              "    </tr>\n",
              "  </tbody>\n",
              "</table>\n",
              "</div>"
            ],
            "text/plain": [
              "    MPG  Cylinders  Displacement  ...  Acceleration  Model Year  Origin\n",
              "0  18.0          8         307.0  ...          12.0          70       1\n",
              "1  15.0          8         350.0  ...          11.5          70       1\n",
              "2  18.0          8         318.0  ...          11.0          70       1\n",
              "3  16.0          8         304.0  ...          12.0          70       1\n",
              "4  17.0          8         302.0  ...          10.5          70       1\n",
              "\n",
              "[5 rows x 8 columns]"
            ]
          },
          "metadata": {
            "tags": []
          },
          "execution_count": 4
        }
      ]
    },
    {
      "cell_type": "code",
      "metadata": {
        "colab": {
          "base_uri": "https://localhost:8080/",
          "height": 241
        },
        "id": "j9dcT2u-5MSA",
        "outputId": "09994ce8-bfc0-4d5b-80c4-88b8a4154281"
      },
      "source": [
        "dataset = raw_dataset.copy()\n",
        "dataset.head()"
      ],
      "execution_count": 6,
      "outputs": [
        {
          "output_type": "execute_result",
          "data": {
            "text/html": [
              "<div>\n",
              "<style scoped>\n",
              "    .dataframe tbody tr th:only-of-type {\n",
              "        vertical-align: middle;\n",
              "    }\n",
              "\n",
              "    .dataframe tbody tr th {\n",
              "        vertical-align: top;\n",
              "    }\n",
              "\n",
              "    .dataframe thead th {\n",
              "        text-align: right;\n",
              "    }\n",
              "</style>\n",
              "<table border=\"1\" class=\"dataframe\">\n",
              "  <thead>\n",
              "    <tr style=\"text-align: right;\">\n",
              "      <th></th>\n",
              "      <th>MPG</th>\n",
              "      <th>Cylinders</th>\n",
              "      <th>Displacement</th>\n",
              "      <th>Horsepower</th>\n",
              "      <th>Weight</th>\n",
              "      <th>Acceleration</th>\n",
              "      <th>Model Year</th>\n",
              "      <th>Origin</th>\n",
              "    </tr>\n",
              "  </thead>\n",
              "  <tbody>\n",
              "    <tr>\n",
              "      <th>0</th>\n",
              "      <td>18.0</td>\n",
              "      <td>8</td>\n",
              "      <td>307.0</td>\n",
              "      <td>130.0</td>\n",
              "      <td>3504.0</td>\n",
              "      <td>12.0</td>\n",
              "      <td>70</td>\n",
              "      <td>1</td>\n",
              "    </tr>\n",
              "    <tr>\n",
              "      <th>1</th>\n",
              "      <td>15.0</td>\n",
              "      <td>8</td>\n",
              "      <td>350.0</td>\n",
              "      <td>165.0</td>\n",
              "      <td>3693.0</td>\n",
              "      <td>11.5</td>\n",
              "      <td>70</td>\n",
              "      <td>1</td>\n",
              "    </tr>\n",
              "    <tr>\n",
              "      <th>2</th>\n",
              "      <td>18.0</td>\n",
              "      <td>8</td>\n",
              "      <td>318.0</td>\n",
              "      <td>150.0</td>\n",
              "      <td>3436.0</td>\n",
              "      <td>11.0</td>\n",
              "      <td>70</td>\n",
              "      <td>1</td>\n",
              "    </tr>\n",
              "    <tr>\n",
              "      <th>3</th>\n",
              "      <td>16.0</td>\n",
              "      <td>8</td>\n",
              "      <td>304.0</td>\n",
              "      <td>150.0</td>\n",
              "      <td>3433.0</td>\n",
              "      <td>12.0</td>\n",
              "      <td>70</td>\n",
              "      <td>1</td>\n",
              "    </tr>\n",
              "    <tr>\n",
              "      <th>4</th>\n",
              "      <td>17.0</td>\n",
              "      <td>8</td>\n",
              "      <td>302.0</td>\n",
              "      <td>140.0</td>\n",
              "      <td>3449.0</td>\n",
              "      <td>10.5</td>\n",
              "      <td>70</td>\n",
              "      <td>1</td>\n",
              "    </tr>\n",
              "  </tbody>\n",
              "</table>\n",
              "</div>"
            ],
            "text/plain": [
              "    MPG  Cylinders  Displacement  ...  Acceleration  Model Year  Origin\n",
              "0  18.0          8         307.0  ...          12.0          70       1\n",
              "1  15.0          8         350.0  ...          11.5          70       1\n",
              "2  18.0          8         318.0  ...          11.0          70       1\n",
              "3  16.0          8         304.0  ...          12.0          70       1\n",
              "4  17.0          8         302.0  ...          10.5          70       1\n",
              "\n",
              "[5 rows x 8 columns]"
            ]
          },
          "metadata": {
            "tags": []
          },
          "execution_count": 6
        }
      ]
    },
    {
      "cell_type": "code",
      "metadata": {
        "colab": {
          "base_uri": "https://localhost:8080/"
        },
        "id": "rgBPkNXn5Pv1",
        "outputId": "c0613719-0a9c-4997-8714-71abd72f8091"
      },
      "source": [
        "dataset.isna().sum()"
      ],
      "execution_count": 8,
      "outputs": [
        {
          "output_type": "execute_result",
          "data": {
            "text/plain": [
              "MPG             0\n",
              "Cylinders       0\n",
              "Displacement    0\n",
              "Horsepower      6\n",
              "Weight          0\n",
              "Acceleration    0\n",
              "Model Year      0\n",
              "Origin          0\n",
              "dtype: int64"
            ]
          },
          "metadata": {
            "tags": []
          },
          "execution_count": 8
        }
      ]
    },
    {
      "cell_type": "code",
      "metadata": {
        "id": "zYc3nOHC5azX"
      },
      "source": [
        "dataset.dropna(inplace=True)"
      ],
      "execution_count": 9,
      "outputs": []
    },
    {
      "cell_type": "code",
      "metadata": {
        "colab": {
          "base_uri": "https://localhost:8080/"
        },
        "id": "yV_5YG435lUB",
        "outputId": "01ede058-ec91-4d0c-f098-592a160efb62"
      },
      "source": [
        "dataset.isna().sum()"
      ],
      "execution_count": 10,
      "outputs": [
        {
          "output_type": "execute_result",
          "data": {
            "text/plain": [
              "MPG             0\n",
              "Cylinders       0\n",
              "Displacement    0\n",
              "Horsepower      0\n",
              "Weight          0\n",
              "Acceleration    0\n",
              "Model Year      0\n",
              "Origin          0\n",
              "dtype: int64"
            ]
          },
          "metadata": {
            "tags": []
          },
          "execution_count": 10
        }
      ]
    },
    {
      "cell_type": "code",
      "metadata": {
        "colab": {
          "base_uri": "https://localhost:8080/"
        },
        "id": "GSWdV63t5nuB",
        "outputId": "211cf75a-645d-4dd4-9099-ab4cabbfa3e1"
      },
      "source": [
        "dataset.info()"
      ],
      "execution_count": 11,
      "outputs": [
        {
          "output_type": "stream",
          "text": [
            "<class 'pandas.core.frame.DataFrame'>\n",
            "Int64Index: 392 entries, 0 to 397\n",
            "Data columns (total 8 columns):\n",
            " #   Column        Non-Null Count  Dtype  \n",
            "---  ------        --------------  -----  \n",
            " 0   MPG           392 non-null    float64\n",
            " 1   Cylinders     392 non-null    int64  \n",
            " 2   Displacement  392 non-null    float64\n",
            " 3   Horsepower    392 non-null    float64\n",
            " 4   Weight        392 non-null    float64\n",
            " 5   Acceleration  392 non-null    float64\n",
            " 6   Model Year    392 non-null    int64  \n",
            " 7   Origin        392 non-null    int64  \n",
            "dtypes: float64(5), int64(3)\n",
            "memory usage: 27.6 KB\n"
          ],
          "name": "stdout"
        }
      ]
    },
    {
      "cell_type": "code",
      "metadata": {
        "colab": {
          "base_uri": "https://localhost:8080/"
        },
        "id": "uCxRkFXM5riu",
        "outputId": "9ca1b058-7263-430f-8fbf-b7d724aa1378"
      },
      "source": [
        "dataset[['Cylinders', 'Model Year', 'Origin']].value_counts()"
      ],
      "execution_count": 13,
      "outputs": [
        {
          "output_type": "execute_result",
          "data": {
            "text/plain": [
              "Cylinders  Model Year  Origin\n",
              "8          73          1         20\n",
              "           70          1         18\n",
              "4          82          1         16\n",
              "8          72          1         13\n",
              "6          75          1         12\n",
              "                                 ..\n",
              "           77          3          1\n",
              "           80          1          1\n",
              "                       3          1\n",
              "           81          2          1\n",
              "3          72          3          1\n",
              "Length: 76, dtype: int64"
            ]
          },
          "metadata": {
            "tags": []
          },
          "execution_count": 13
        }
      ]
    },
    {
      "cell_type": "code",
      "metadata": {
        "colab": {
          "base_uri": "https://localhost:8080/"
        },
        "id": "Q6voXMcd5x0n",
        "outputId": "7f2cc05b-7f58-452f-d72c-5c49a6af9a28"
      },
      "source": [
        "dataset['Origin'].unique()"
      ],
      "execution_count": 14,
      "outputs": [
        {
          "output_type": "execute_result",
          "data": {
            "text/plain": [
              "array([1, 3, 2])"
            ]
          },
          "metadata": {
            "tags": []
          },
          "execution_count": 14
        }
      ]
    },
    {
      "cell_type": "code",
      "metadata": {
        "colab": {
          "base_uri": "https://localhost:8080/",
          "height": 241
        },
        "id": "t1OzNHmT58K2",
        "outputId": "a33f744c-05fd-4332-fca3-718d82e07a4f"
      },
      "source": [
        "dataset = pd.get_dummies(dataset, columns=['Origin'], drop_first=True)\n",
        "dataset.head()"
      ],
      "execution_count": 15,
      "outputs": [
        {
          "output_type": "execute_result",
          "data": {
            "text/html": [
              "<div>\n",
              "<style scoped>\n",
              "    .dataframe tbody tr th:only-of-type {\n",
              "        vertical-align: middle;\n",
              "    }\n",
              "\n",
              "    .dataframe tbody tr th {\n",
              "        vertical-align: top;\n",
              "    }\n",
              "\n",
              "    .dataframe thead th {\n",
              "        text-align: right;\n",
              "    }\n",
              "</style>\n",
              "<table border=\"1\" class=\"dataframe\">\n",
              "  <thead>\n",
              "    <tr style=\"text-align: right;\">\n",
              "      <th></th>\n",
              "      <th>MPG</th>\n",
              "      <th>Cylinders</th>\n",
              "      <th>Displacement</th>\n",
              "      <th>Horsepower</th>\n",
              "      <th>Weight</th>\n",
              "      <th>Acceleration</th>\n",
              "      <th>Model Year</th>\n",
              "      <th>Origin_2</th>\n",
              "      <th>Origin_3</th>\n",
              "    </tr>\n",
              "  </thead>\n",
              "  <tbody>\n",
              "    <tr>\n",
              "      <th>0</th>\n",
              "      <td>18.0</td>\n",
              "      <td>8</td>\n",
              "      <td>307.0</td>\n",
              "      <td>130.0</td>\n",
              "      <td>3504.0</td>\n",
              "      <td>12.0</td>\n",
              "      <td>70</td>\n",
              "      <td>0</td>\n",
              "      <td>0</td>\n",
              "    </tr>\n",
              "    <tr>\n",
              "      <th>1</th>\n",
              "      <td>15.0</td>\n",
              "      <td>8</td>\n",
              "      <td>350.0</td>\n",
              "      <td>165.0</td>\n",
              "      <td>3693.0</td>\n",
              "      <td>11.5</td>\n",
              "      <td>70</td>\n",
              "      <td>0</td>\n",
              "      <td>0</td>\n",
              "    </tr>\n",
              "    <tr>\n",
              "      <th>2</th>\n",
              "      <td>18.0</td>\n",
              "      <td>8</td>\n",
              "      <td>318.0</td>\n",
              "      <td>150.0</td>\n",
              "      <td>3436.0</td>\n",
              "      <td>11.0</td>\n",
              "      <td>70</td>\n",
              "      <td>0</td>\n",
              "      <td>0</td>\n",
              "    </tr>\n",
              "    <tr>\n",
              "      <th>3</th>\n",
              "      <td>16.0</td>\n",
              "      <td>8</td>\n",
              "      <td>304.0</td>\n",
              "      <td>150.0</td>\n",
              "      <td>3433.0</td>\n",
              "      <td>12.0</td>\n",
              "      <td>70</td>\n",
              "      <td>0</td>\n",
              "      <td>0</td>\n",
              "    </tr>\n",
              "    <tr>\n",
              "      <th>4</th>\n",
              "      <td>17.0</td>\n",
              "      <td>8</td>\n",
              "      <td>302.0</td>\n",
              "      <td>140.0</td>\n",
              "      <td>3449.0</td>\n",
              "      <td>10.5</td>\n",
              "      <td>70</td>\n",
              "      <td>0</td>\n",
              "      <td>0</td>\n",
              "    </tr>\n",
              "  </tbody>\n",
              "</table>\n",
              "</div>"
            ],
            "text/plain": [
              "    MPG  Cylinders  Displacement  ...  Model Year  Origin_2  Origin_3\n",
              "0  18.0          8         307.0  ...          70         0         0\n",
              "1  15.0          8         350.0  ...          70         0         0\n",
              "2  18.0          8         318.0  ...          70         0         0\n",
              "3  16.0          8         304.0  ...          70         0         0\n",
              "4  17.0          8         302.0  ...          70         0         0\n",
              "\n",
              "[5 rows x 9 columns]"
            ]
          },
          "metadata": {
            "tags": []
          },
          "execution_count": 15
        }
      ]
    },
    {
      "cell_type": "code",
      "metadata": {
        "colab": {
          "base_uri": "https://localhost:8080/"
        },
        "id": "eLr6ReCM6Frg",
        "outputId": "29cd16eb-eafe-40b5-9b59-f87aa3cbdb62"
      },
      "source": [
        "dataset[['Origin_2', 'Origin_3']].value_counts()"
      ],
      "execution_count": 16,
      "outputs": [
        {
          "output_type": "execute_result",
          "data": {
            "text/plain": [
              "Origin_2  Origin_3\n",
              "0         0           245\n",
              "          1            79\n",
              "1         0            68\n",
              "dtype: int64"
            ]
          },
          "metadata": {
            "tags": []
          },
          "execution_count": 16
        }
      ]
    },
    {
      "cell_type": "code",
      "metadata": {
        "colab": {
          "base_uri": "https://localhost:8080/"
        },
        "id": "V_kNyEPq6Ou2",
        "outputId": "7533f93a-5acb-4bfe-f95a-ec56495ef915"
      },
      "source": [
        "dataset['Origin_2'].value_counts()"
      ],
      "execution_count": 17,
      "outputs": [
        {
          "output_type": "execute_result",
          "data": {
            "text/plain": [
              "0    324\n",
              "1     68\n",
              "Name: Origin_2, dtype: int64"
            ]
          },
          "metadata": {
            "tags": []
          },
          "execution_count": 17
        }
      ]
    },
    {
      "cell_type": "code",
      "metadata": {
        "colab": {
          "base_uri": "https://localhost:8080/"
        },
        "id": "c9StdjYY6Va2",
        "outputId": "8088a1b9-6ad0-43db-d291-82a91448779b"
      },
      "source": [
        "dataset['Origin_3'].value_counts()"
      ],
      "execution_count": 18,
      "outputs": [
        {
          "output_type": "execute_result",
          "data": {
            "text/plain": [
              "0    313\n",
              "1     79\n",
              "Name: Origin_3, dtype: int64"
            ]
          },
          "metadata": {
            "tags": []
          },
          "execution_count": 18
        }
      ]
    },
    {
      "cell_type": "code",
      "metadata": {
        "id": "AGjVh0hu6YVu"
      },
      "source": [
        "train_dataset = dataset.sample(frac=0.8, random_state=0)\n",
        "test_dataset = dataset.drop(train_dataset.index)"
      ],
      "execution_count": 19,
      "outputs": []
    },
    {
      "cell_type": "code",
      "metadata": {
        "colab": {
          "base_uri": "https://localhost:8080/"
        },
        "id": "32J7ndQs6w2I",
        "outputId": "776361d3-787c-40b9-e114-a916df3b776c"
      },
      "source": [
        "print(train_dataset.shape)\n",
        "print(test_dataset.shape)"
      ],
      "execution_count": 20,
      "outputs": [
        {
          "output_type": "stream",
          "text": [
            "(314, 9)\n",
            "(78, 9)\n"
          ],
          "name": "stdout"
        }
      ]
    },
    {
      "cell_type": "code",
      "metadata": {
        "colab": {
          "base_uri": "https://localhost:8080/",
          "height": 687
        },
        "id": "0HbBMAcD60bf",
        "outputId": "bd696d6d-1fb5-4752-b1ce-7888f1331682"
      },
      "source": [
        "sns.pairplot(train_dataset[['MPG', 'Cylinders', 'Displacement', 'Weight']], diag_kind='kde')"
      ],
      "execution_count": 21,
      "outputs": [
        {
          "output_type": "execute_result",
          "data": {
            "text/plain": [
              "<seaborn.axisgrid.PairGrid at 0x7f96fcaa6748>"
            ]
          },
          "metadata": {
            "tags": []
          },
          "execution_count": 21
        },
        {
          "output_type": "display_data",
          "data": {
            "image/png": "[encoded data removed]",
            "text/plain": [
              "<Figure size 720x720 with 20 Axes>"
            ]
          },
          "metadata": {
            "tags": [],
            "needs_background": "light"
          }
        }
      ]
    },
    {
      "cell_type": "code",
      "metadata": {
        "colab": {
          "base_uri": "https://localhost:8080/",
          "height": 328
        },
        "id": "c_0bKFt97LyF",
        "outputId": "e4454045-75f1-4fb6-c8ea-e36adc942c8f"
      },
      "source": [
        "train_dataset.describe().T"
      ],
      "execution_count": 22,
      "outputs": [
        {
          "output_type": "execute_result",
          "data": {
            "text/html": [
              "<div>\n",
              "<style scoped>\n",
              "    .dataframe tbody tr th:only-of-type {\n",
              "        vertical-align: middle;\n",
              "    }\n",
              "\n",
              "    .dataframe tbody tr th {\n",
              "        vertical-align: top;\n",
              "    }\n",
              "\n",
              "    .dataframe thead th {\n",
              "        text-align: right;\n",
              "    }\n",
              "</style>\n",
              "<table border=\"1\" class=\"dataframe\">\n",
              "  <thead>\n",
              "    <tr style=\"text-align: right;\">\n",
              "      <th></th>\n",
              "      <th>count</th>\n",
              "      <th>mean</th>\n",
              "      <th>std</th>\n",
              "      <th>min</th>\n",
              "      <th>25%</th>\n",
              "      <th>50%</th>\n",
              "      <th>75%</th>\n",
              "      <th>max</th>\n",
              "    </tr>\n",
              "  </thead>\n",
              "  <tbody>\n",
              "    <tr>\n",
              "      <th>MPG</th>\n",
              "      <td>314.0</td>\n",
              "      <td>23.310510</td>\n",
              "      <td>7.728652</td>\n",
              "      <td>10.0</td>\n",
              "      <td>17.00</td>\n",
              "      <td>22.0</td>\n",
              "      <td>28.95</td>\n",
              "      <td>46.6</td>\n",
              "    </tr>\n",
              "    <tr>\n",
              "      <th>Cylinders</th>\n",
              "      <td>314.0</td>\n",
              "      <td>5.477707</td>\n",
              "      <td>1.699788</td>\n",
              "      <td>3.0</td>\n",
              "      <td>4.00</td>\n",
              "      <td>4.0</td>\n",
              "      <td>8.00</td>\n",
              "      <td>8.0</td>\n",
              "    </tr>\n",
              "    <tr>\n",
              "      <th>Displacement</th>\n",
              "      <td>314.0</td>\n",
              "      <td>195.318471</td>\n",
              "      <td>104.331589</td>\n",
              "      <td>68.0</td>\n",
              "      <td>105.50</td>\n",
              "      <td>151.0</td>\n",
              "      <td>265.75</td>\n",
              "      <td>455.0</td>\n",
              "    </tr>\n",
              "    <tr>\n",
              "      <th>Horsepower</th>\n",
              "      <td>314.0</td>\n",
              "      <td>104.869427</td>\n",
              "      <td>38.096214</td>\n",
              "      <td>46.0</td>\n",
              "      <td>76.25</td>\n",
              "      <td>94.5</td>\n",
              "      <td>128.00</td>\n",
              "      <td>225.0</td>\n",
              "    </tr>\n",
              "    <tr>\n",
              "      <th>Weight</th>\n",
              "      <td>314.0</td>\n",
              "      <td>2990.251592</td>\n",
              "      <td>843.898596</td>\n",
              "      <td>1649.0</td>\n",
              "      <td>2256.50</td>\n",
              "      <td>2822.5</td>\n",
              "      <td>3608.00</td>\n",
              "      <td>5140.0</td>\n",
              "    </tr>\n",
              "    <tr>\n",
              "      <th>Acceleration</th>\n",
              "      <td>314.0</td>\n",
              "      <td>15.559236</td>\n",
              "      <td>2.789230</td>\n",
              "      <td>8.0</td>\n",
              "      <td>13.80</td>\n",
              "      <td>15.5</td>\n",
              "      <td>17.20</td>\n",
              "      <td>24.8</td>\n",
              "    </tr>\n",
              "    <tr>\n",
              "      <th>Model Year</th>\n",
              "      <td>314.0</td>\n",
              "      <td>75.898089</td>\n",
              "      <td>3.675642</td>\n",
              "      <td>70.0</td>\n",
              "      <td>73.00</td>\n",
              "      <td>76.0</td>\n",
              "      <td>79.00</td>\n",
              "      <td>82.0</td>\n",
              "    </tr>\n",
              "    <tr>\n",
              "      <th>Origin_2</th>\n",
              "      <td>314.0</td>\n",
              "      <td>0.178344</td>\n",
              "      <td>0.383413</td>\n",
              "      <td>0.0</td>\n",
              "      <td>0.00</td>\n",
              "      <td>0.0</td>\n",
              "      <td>0.00</td>\n",
              "      <td>1.0</td>\n",
              "    </tr>\n",
              "    <tr>\n",
              "      <th>Origin_3</th>\n",
              "      <td>314.0</td>\n",
              "      <td>0.197452</td>\n",
              "      <td>0.398712</td>\n",
              "      <td>0.0</td>\n",
              "      <td>0.00</td>\n",
              "      <td>0.0</td>\n",
              "      <td>0.00</td>\n",
              "      <td>1.0</td>\n",
              "    </tr>\n",
              "  </tbody>\n",
              "</table>\n",
              "</div>"
            ],
            "text/plain": [
              "              count         mean         std  ...     50%      75%     max\n",
              "MPG           314.0    23.310510    7.728652  ...    22.0    28.95    46.6\n",
              "Cylinders     314.0     5.477707    1.699788  ...     4.0     8.00     8.0\n",
              "Displacement  314.0   195.318471  104.331589  ...   151.0   265.75   455.0\n",
              "Horsepower    314.0   104.869427   38.096214  ...    94.5   128.00   225.0\n",
              "Weight        314.0  2990.251592  843.898596  ...  2822.5  3608.00  5140.0\n",
              "Acceleration  314.0    15.559236    2.789230  ...    15.5    17.20    24.8\n",
              "Model Year    314.0    75.898089    3.675642  ...    76.0    79.00    82.0\n",
              "Origin_2      314.0     0.178344    0.383413  ...     0.0     0.00     1.0\n",
              "Origin_3      314.0     0.197452    0.398712  ...     0.0     0.00     1.0\n",
              "\n",
              "[9 rows x 8 columns]"
            ]
          },
          "metadata": {
            "tags": []
          },
          "execution_count": 22
        }
      ]
    },
    {
      "cell_type": "code",
      "metadata": {
        "id": "mNj79Ia07ZQn"
      },
      "source": [
        "train_features = train_dataset.copy()\n",
        "test_features = test_dataset.copy()\n",
        "\n",
        "train_labels = train_features.pop('MPG')\n",
        "test_labels = test_features.pop('MPG')"
      ],
      "execution_count": 23,
      "outputs": []
    },
    {
      "cell_type": "code",
      "metadata": {
        "id": "fhIlanci7mj6"
      },
      "source": [
        "normalizer = preprocessing.Normalization()\n",
        "normalizer.adapt(train_features.values)"
      ],
      "execution_count": 24,
      "outputs": []
    },
    {
      "cell_type": "code",
      "metadata": {
        "colab": {
          "base_uri": "https://localhost:8080/"
        },
        "id": "lvhhzJx88Vuo",
        "outputId": "11cc7e7a-1197-4204-8141-5d43ff06acb6"
      },
      "source": [
        "normalizer.mean.numpy()"
      ],
      "execution_count": 25,
      "outputs": [
        {
          "output_type": "execute_result",
          "data": {
            "text/plain": [
              "array([   5.478,  195.318,  104.869, 2990.252,   15.559,   75.898,\n",
              "          0.178,    0.197], dtype=float32)"
            ]
          },
          "metadata": {
            "tags": []
          },
          "execution_count": 25
        }
      ]
    },
    {
      "cell_type": "markdown",
      "metadata": {
        "id": "2N55RAkN8dBm"
      },
      "source": [
        "## Linear Regression"
      ]
    },
    {
      "cell_type": "code",
      "metadata": {
        "id": "5opXNpaG8tX6"
      },
      "source": [
        "horsepower = train_features['Horsepower'].values\n",
        "\n",
        "horsepower_normalizer = preprocessing.Normalization(input_shape=[1,])\n",
        "horsepower_normalizer.adapt(horsepower)"
      ],
      "execution_count": 27,
      "outputs": []
    },
    {
      "cell_type": "code",
      "metadata": {
        "colab": {
          "base_uri": "https://localhost:8080/"
        },
        "id": "LxGPMXUb-Y9N",
        "outputId": "f9e435b9-816e-4d60-fd70-8d7740fe1106"
      },
      "source": [
        "horsepower_model = tf.keras.models.Sequential([\n",
        "    horsepower_normalizer,\n",
        "    layers.Dense(units=1)\n",
        "])\n",
        "horsepower_model.summary()"
      ],
      "execution_count": 30,
      "outputs": [
        {
          "output_type": "stream",
          "text": [
            "Model: \"sequential\"\n",
            "_________________________________________________________________\n",
            "Layer (type)                 Output Shape              Param #   \n",
            "=================================================================\n",
            "normalization_2 (Normalizati (None, 1)                 3         \n",
            "_________________________________________________________________\n",
            "dense (Dense)                (None, 1)                 2         \n",
            "=================================================================\n",
            "Total params: 5\n",
            "Trainable params: 2\n",
            "Non-trainable params: 3\n",
            "_________________________________________________________________\n"
          ],
          "name": "stdout"
        }
      ]
    },
    {
      "cell_type": "code",
      "metadata": {
        "id": "181eKqM3-qHD"
      },
      "source": [
        "horsepower_model.compile(loss='mean_absolute_error', optimizer=tf.keras.optimizers.Adam(learning_rate=0.1))"
      ],
      "execution_count": 31,
      "outputs": []
    },
    {
      "cell_type": "code",
      "metadata": {
        "colab": {
          "base_uri": "https://localhost:8080/"
        },
        "id": "31FYgNxB-9Bh",
        "outputId": "f2805184-b1b2-42f5-ec44-5e7916766984"
      },
      "source": [
        "%%time\n",
        "history = horsepower_model.fit(\n",
        "    train_features['Horsepower'], train_labels,\n",
        "    epochs=100,\n",
        "    verbose=1,\n",
        "    validation_split=0.1\n",
        ")"
      ],
      "execution_count": 33,
      "outputs": [
        {
          "output_type": "stream",
          "text": [
            "Epoch 1/100\n",
            "9/9 [==============================] - 1s 57ms/step - loss: 23.0033 - val_loss: 22.1558\n",
            "Epoch 2/100\n",
            "9/9 [==============================] - 0s 11ms/step - loss: 22.3297 - val_loss: 21.2955\n",
            "Epoch 3/100\n",
            "9/9 [==============================] - 0s 11ms/step - loss: 20.6917 - val_loss: 20.4065\n",
            "Epoch 4/100\n",
            "9/9 [==============================] - 0s 11ms/step - loss: 20.3304 - val_loss: 19.5359\n",
            "Epoch 5/100\n",
            "9/9 [==============================] - 0s 11ms/step - loss: 19.5707 - val_loss: 18.6799\n",
            "Epoch 6/100\n",
            "9/9 [==============================] - 0s 10ms/step - loss: 18.1428 - val_loss: 17.8018\n",
            "Epoch 7/100\n",
            "9/9 [==============================] - 0s 10ms/step - loss: 17.6162 - val_loss: 16.9360\n",
            "Epoch 8/100\n",
            "9/9 [==============================] - 0s 10ms/step - loss: 16.2750 - val_loss: 16.0426\n",
            "Epoch 9/100\n",
            "9/9 [==============================] - 0s 10ms/step - loss: 16.6499 - val_loss: 15.1892\n",
            "Epoch 10/100\n",
            "9/9 [==============================] - 0s 10ms/step - loss: 15.0685 - val_loss: 14.3127\n",
            "Epoch 11/100\n",
            "9/9 [==============================] - 0s 11ms/step - loss: 14.1690 - val_loss: 13.4422\n",
            "Epoch 12/100\n",
            "9/9 [==============================] - 0s 11ms/step - loss: 13.1100 - val_loss: 12.5529\n",
            "Epoch 13/100\n",
            "9/9 [==============================] - 0s 12ms/step - loss: 11.8901 - val_loss: 11.6707\n",
            "Epoch 14/100\n",
            "9/9 [==============================] - 0s 9ms/step - loss: 12.0378 - val_loss: 10.8057\n",
            "Epoch 15/100\n",
            "9/9 [==============================] - 0s 10ms/step - loss: 10.5978 - val_loss: 9.9594\n",
            "Epoch 16/100\n",
            "9/9 [==============================] - 0s 10ms/step - loss: 9.8437 - val_loss: 9.1489\n",
            "Epoch 17/100\n",
            "9/9 [==============================] - 0s 10ms/step - loss: 8.7392 - val_loss: 8.3580\n",
            "Epoch 18/100\n",
            "9/9 [==============================] - 0s 28ms/step - loss: 7.0815 - val_loss: 7.6188\n",
            "Epoch 19/100\n",
            "9/9 [==============================] - 0s 10ms/step - loss: 7.4737 - val_loss: 6.9818\n",
            "Epoch 20/100\n",
            "9/9 [==============================] - 0s 10ms/step - loss: 6.1315 - val_loss: 6.4424\n",
            "Epoch 21/100\n",
            "9/9 [==============================] - 0s 10ms/step - loss: 5.7723 - val_loss: 6.0693\n",
            "Epoch 22/100\n",
            "9/9 [==============================] - 0s 11ms/step - loss: 5.2356 - val_loss: 5.7368\n",
            "Epoch 23/100\n",
            "9/9 [==============================] - 0s 10ms/step - loss: 4.8649 - val_loss: 5.4487\n",
            "Epoch 24/100\n",
            "9/9 [==============================] - 0s 10ms/step - loss: 4.5721 - val_loss: 5.2052\n",
            "Epoch 25/100\n",
            "9/9 [==============================] - 0s 11ms/step - loss: 4.3441 - val_loss: 5.0001\n",
            "Epoch 26/100\n",
            "9/9 [==============================] - 0s 10ms/step - loss: 4.2014 - val_loss: 4.8964\n",
            "Epoch 27/100\n",
            "9/9 [==============================] - 0s 10ms/step - loss: 3.9018 - val_loss: 4.7993\n",
            "Epoch 28/100\n",
            "9/9 [==============================] - 0s 9ms/step - loss: 3.9749 - val_loss: 4.7315\n",
            "Epoch 29/100\n",
            "9/9 [==============================] - 0s 10ms/step - loss: 3.8130 - val_loss: 4.6297\n",
            "Epoch 30/100\n",
            "9/9 [==============================] - 0s 10ms/step - loss: 4.0405 - val_loss: 4.6068\n",
            "Epoch 31/100\n",
            "9/9 [==============================] - 0s 10ms/step - loss: 3.8775 - val_loss: 4.6003\n",
            "Epoch 32/100\n",
            "9/9 [==============================] - 0s 12ms/step - loss: 3.8045 - val_loss: 4.5610\n",
            "Epoch 33/100\n",
            "9/9 [==============================] - 0s 10ms/step - loss: 3.6747 - val_loss: 4.5141\n",
            "Epoch 34/100\n",
            "9/9 [==============================] - 0s 10ms/step - loss: 3.7646 - val_loss: 4.5285\n",
            "Epoch 35/100\n",
            "9/9 [==============================] - 0s 27ms/step - loss: 3.8429 - val_loss: 4.5126\n",
            "Epoch 36/100\n",
            "9/9 [==============================] - 0s 11ms/step - loss: 3.6475 - val_loss: 4.5103\n",
            "Epoch 37/100\n",
            "9/9 [==============================] - 0s 10ms/step - loss: 4.0529 - val_loss: 4.4839\n",
            "Epoch 38/100\n",
            "9/9 [==============================] - 0s 10ms/step - loss: 4.1000 - val_loss: 4.4769\n",
            "Epoch 39/100\n",
            "9/9 [==============================] - 0s 11ms/step - loss: 3.6773 - val_loss: 4.4835\n",
            "Epoch 40/100\n",
            "9/9 [==============================] - 0s 10ms/step - loss: 3.5765 - val_loss: 4.4976\n",
            "Epoch 41/100\n",
            "9/9 [==============================] - 0s 12ms/step - loss: 3.8204 - val_loss: 4.5035\n",
            "Epoch 42/100\n",
            "9/9 [==============================] - 0s 10ms/step - loss: 3.8311 - val_loss: 4.4852\n",
            "Epoch 43/100\n",
            "9/9 [==============================] - 0s 10ms/step - loss: 3.6806 - val_loss: 4.5161\n",
            "Epoch 44/100\n",
            "9/9 [==============================] - 0s 11ms/step - loss: 3.9309 - val_loss: 4.5025\n",
            "Epoch 45/100\n",
            "9/9 [==============================] - 0s 11ms/step - loss: 3.9204 - val_loss: 4.4901\n",
            "Epoch 46/100\n",
            "9/9 [==============================] - 0s 11ms/step - loss: 3.5531 - val_loss: 4.4826\n",
            "Epoch 47/100\n",
            "9/9 [==============================] - 0s 11ms/step - loss: 3.8411 - val_loss: 4.4862\n",
            "Epoch 48/100\n",
            "9/9 [==============================] - 0s 10ms/step - loss: 3.9940 - val_loss: 4.4728\n",
            "Epoch 49/100\n",
            "9/9 [==============================] - 0s 11ms/step - loss: 3.6637 - val_loss: 4.4836\n",
            "Epoch 50/100\n",
            "9/9 [==============================] - 0s 11ms/step - loss: 3.7184 - val_loss: 4.4895\n",
            "Epoch 51/100\n",
            "9/9 [==============================] - 0s 10ms/step - loss: 3.8057 - val_loss: 4.5058\n",
            "Epoch 52/100\n",
            "9/9 [==============================] - 0s 27ms/step - loss: 3.6960 - val_loss: 4.5080\n",
            "Epoch 53/100\n",
            "9/9 [==============================] - 0s 10ms/step - loss: 3.9678 - val_loss: 4.4761\n",
            "Epoch 54/100\n",
            "9/9 [==============================] - 0s 10ms/step - loss: 3.8605 - val_loss: 4.4598\n",
            "Epoch 55/100\n",
            "9/9 [==============================] - 0s 10ms/step - loss: 3.8477 - val_loss: 4.4819\n",
            "Epoch 56/100\n",
            "9/9 [==============================] - 0s 11ms/step - loss: 3.7498 - val_loss: 4.4813\n",
            "Epoch 57/100\n",
            "9/9 [==============================] - 0s 9ms/step - loss: 3.5596 - val_loss: 4.4647\n",
            "Epoch 58/100\n",
            "9/9 [==============================] - 0s 10ms/step - loss: 3.7148 - val_loss: 4.4713\n",
            "Epoch 59/100\n",
            "9/9 [==============================] - 0s 11ms/step - loss: 3.7845 - val_loss: 4.4712\n",
            "Epoch 60/100\n",
            "9/9 [==============================] - 0s 11ms/step - loss: 3.7314 - val_loss: 4.4902\n",
            "Epoch 61/100\n",
            "9/9 [==============================] - 0s 10ms/step - loss: 3.8261 - val_loss: 4.4877\n",
            "Epoch 62/100\n",
            "9/9 [==============================] - 0s 10ms/step - loss: 3.6038 - val_loss: 4.4788\n",
            "Epoch 63/100\n",
            "9/9 [==============================] - 0s 9ms/step - loss: 3.8076 - val_loss: 4.4804\n",
            "Epoch 64/100\n",
            "9/9 [==============================] - 0s 10ms/step - loss: 3.5647 - val_loss: 4.4761\n",
            "Epoch 65/100\n",
            "9/9 [==============================] - 0s 10ms/step - loss: 3.8720 - val_loss: 4.4768\n",
            "Epoch 66/100\n",
            "9/9 [==============================] - 0s 10ms/step - loss: 3.8740 - val_loss: 4.4891\n",
            "Epoch 67/100\n",
            "9/9 [==============================] - 0s 11ms/step - loss: 4.1474 - val_loss: 4.4692\n",
            "Epoch 68/100\n",
            "9/9 [==============================] - 0s 11ms/step - loss: 3.9658 - val_loss: 4.4556\n",
            "Epoch 69/100\n",
            "9/9 [==============================] - 0s 28ms/step - loss: 3.7699 - val_loss: 4.4706\n",
            "Epoch 70/100\n",
            "9/9 [==============================] - 0s 11ms/step - loss: 3.9315 - val_loss: 4.5076\n",
            "Epoch 71/100\n",
            "9/9 [==============================] - 0s 10ms/step - loss: 3.9611 - val_loss: 4.5064\n",
            "Epoch 72/100\n",
            "9/9 [==============================] - 0s 11ms/step - loss: 3.9440 - val_loss: 4.4838\n",
            "Epoch 73/100\n",
            "9/9 [==============================] - 0s 11ms/step - loss: 3.7551 - val_loss: 4.4819\n",
            "Epoch 74/100\n",
            "9/9 [==============================] - 0s 13ms/step - loss: 3.9971 - val_loss: 4.4996\n",
            "Epoch 75/100\n",
            "9/9 [==============================] - 0s 11ms/step - loss: 3.7261 - val_loss: 4.4890\n",
            "Epoch 76/100\n",
            "9/9 [==============================] - 0s 11ms/step - loss: 3.6992 - val_loss: 4.5043\n",
            "Epoch 77/100\n",
            "9/9 [==============================] - 0s 11ms/step - loss: 3.6581 - val_loss: 4.4957\n",
            "Epoch 78/100\n",
            "9/9 [==============================] - 0s 11ms/step - loss: 3.5384 - val_loss: 4.5041\n",
            "Epoch 79/100\n",
            "9/9 [==============================] - 0s 10ms/step - loss: 3.6760 - val_loss: 4.4940\n",
            "Epoch 80/100\n",
            "9/9 [==============================] - 0s 10ms/step - loss: 3.9227 - val_loss: 4.4940\n",
            "Epoch 81/100\n",
            "9/9 [==============================] - 0s 10ms/step - loss: 3.7257 - val_loss: 4.4499\n",
            "Epoch 82/100\n",
            "9/9 [==============================] - 0s 11ms/step - loss: 3.6223 - val_loss: 4.4736\n",
            "Epoch 83/100\n",
            "9/9 [==============================] - 0s 11ms/step - loss: 3.7157 - val_loss: 4.5149\n",
            "Epoch 84/100\n",
            "9/9 [==============================] - 0s 13ms/step - loss: 3.9923 - val_loss: 4.4869\n",
            "Epoch 85/100\n",
            "9/9 [==============================] - 0s 11ms/step - loss: 3.7503 - val_loss: 4.4737\n",
            "Epoch 86/100\n",
            "9/9 [==============================] - 0s 30ms/step - loss: 3.9345 - val_loss: 4.4873\n",
            "Epoch 87/100\n",
            "9/9 [==============================] - 0s 11ms/step - loss: 3.6816 - val_loss: 4.4863\n",
            "Epoch 88/100\n",
            "9/9 [==============================] - 0s 10ms/step - loss: 3.9599 - val_loss: 4.4691\n",
            "Epoch 89/100\n",
            "9/9 [==============================] - 0s 10ms/step - loss: 3.7132 - val_loss: 4.4983\n",
            "Epoch 90/100\n",
            "9/9 [==============================] - 0s 11ms/step - loss: 3.8565 - val_loss: 4.4735\n",
            "Epoch 91/100\n",
            "9/9 [==============================] - 0s 10ms/step - loss: 3.8118 - val_loss: 4.5118\n",
            "Epoch 92/100\n",
            "9/9 [==============================] - 0s 10ms/step - loss: 3.5790 - val_loss: 4.5032\n",
            "Epoch 93/100\n",
            "9/9 [==============================] - 0s 10ms/step - loss: 3.8128 - val_loss: 4.5012\n",
            "Epoch 94/100\n",
            "9/9 [==============================] - 0s 11ms/step - loss: 3.7012 - val_loss: 4.4947\n",
            "Epoch 95/100\n",
            "9/9 [==============================] - 0s 10ms/step - loss: 3.5853 - val_loss: 4.4685\n",
            "Epoch 96/100\n",
            "9/9 [==============================] - 0s 10ms/step - loss: 4.1368 - val_loss: 4.4991\n",
            "Epoch 97/100\n",
            "9/9 [==============================] - 0s 10ms/step - loss: 3.6492 - val_loss: 4.4988\n",
            "Epoch 98/100\n",
            "9/9 [==============================] - 0s 12ms/step - loss: 3.9636 - val_loss: 4.4828\n",
            "Epoch 99/100\n",
            "9/9 [==============================] - 0s 9ms/step - loss: 3.6811 - val_loss: 4.4797\n",
            "Epoch 100/100\n",
            "9/9 [==============================] - 0s 11ms/step - loss: 3.8493 - val_loss: 4.4870\n",
            "CPU times: user 10.1 s, sys: 288 ms, total: 10.4 s\n",
            "Wall time: 10.8 s\n"
          ],
          "name": "stdout"
        }
      ]
    },
    {
      "cell_type": "code",
      "metadata": {
        "colab": {
          "base_uri": "https://localhost:8080/",
          "height": 204
        },
        "id": "lrVlCAgR_L61",
        "outputId": "1e49fc7f-543b-49bc-ffc5-e86d83d7265b"
      },
      "source": [
        "hist = pd.DataFrame(history.history)\n",
        "hist['epoch'] = history.epoch\n",
        "hist.tail()"
      ],
      "execution_count": 36,
      "outputs": [
        {
          "output_type": "execute_result",
          "data": {
            "text/html": [
              "<div>\n",
              "<style scoped>\n",
              "    .dataframe tbody tr th:only-of-type {\n",
              "        vertical-align: middle;\n",
              "    }\n",
              "\n",
              "    .dataframe tbody tr th {\n",
              "        vertical-align: top;\n",
              "    }\n",
              "\n",
              "    .dataframe thead th {\n",
              "        text-align: right;\n",
              "    }\n",
              "</style>\n",
              "<table border=\"1\" class=\"dataframe\">\n",
              "  <thead>\n",
              "    <tr style=\"text-align: right;\">\n",
              "      <th></th>\n",
              "      <th>loss</th>\n",
              "      <th>val_loss</th>\n",
              "      <th>epoch</th>\n",
              "    </tr>\n",
              "  </thead>\n",
              "  <tbody>\n",
              "    <tr>\n",
              "      <th>95</th>\n",
              "      <td>3.809151</td>\n",
              "      <td>4.499080</td>\n",
              "      <td>95</td>\n",
              "    </tr>\n",
              "    <tr>\n",
              "      <th>96</th>\n",
              "      <td>3.808344</td>\n",
              "      <td>4.498829</td>\n",
              "      <td>96</td>\n",
              "    </tr>\n",
              "    <tr>\n",
              "      <th>97</th>\n",
              "      <td>3.806515</td>\n",
              "      <td>4.482840</td>\n",
              "      <td>97</td>\n",
              "    </tr>\n",
              "    <tr>\n",
              "      <th>98</th>\n",
              "      <td>3.807549</td>\n",
              "      <td>4.479740</td>\n",
              "      <td>98</td>\n",
              "    </tr>\n",
              "    <tr>\n",
              "      <th>99</th>\n",
              "      <td>3.807597</td>\n",
              "      <td>4.487041</td>\n",
              "      <td>99</td>\n",
              "    </tr>\n",
              "  </tbody>\n",
              "</table>\n",
              "</div>"
            ],
            "text/plain": [
              "        loss  val_loss  epoch\n",
              "95  3.809151  4.499080     95\n",
              "96  3.808344  4.498829     96\n",
              "97  3.806515  4.482840     97\n",
              "98  3.807549  4.479740     98\n",
              "99  3.807597  4.487041     99"
            ]
          },
          "metadata": {
            "tags": []
          },
          "execution_count": 36
        }
      ]
    },
    {
      "cell_type": "code",
      "metadata": {
        "id": "TfIXHDVU_UzI"
      },
      "source": [
        "def plot_loss(history):\n",
        "  plt.plot(history.history['loss'], label='loss')\n",
        "  plt.plot(history.history['val_loss'], label='val_loss')\n",
        "  plt.ylim([0, 10])\n",
        "  plt.xlabel('Epoch')\n",
        "  plt.ylabel('Error [MPG]')\n",
        "  plt.legend()\n",
        "  plt.grid(True)"
      ],
      "execution_count": 37,
      "outputs": []
    },
    {
      "cell_type": "code",
      "metadata": {
        "colab": {
          "base_uri": "https://localhost:8080/",
          "height": 283
        },
        "id": "brzXsaO__j5D",
        "outputId": "8b225917-cb0a-4877-98cb-bbdd4bf5459e"
      },
      "source": [
        "plot_loss(history)"
      ],
      "execution_count": 38,
      "outputs": [
        {
          "output_type": "display_data",
          "data": {
            "image/png": "[encoded data removed]",
            "text/plain": [
              "<Figure size 432x288 with 1 Axes>"
            ]
          },
          "metadata": {
            "tags": [],
            "needs_background": "light"
          }
        }
      ]
    },
    {
      "cell_type": "code",
      "metadata": {
        "colab": {
          "base_uri": "https://localhost:8080/"
        },
        "id": "7XHshLGD_ljk",
        "outputId": "509413fd-69fb-426f-f2bb-de385007b3ea"
      },
      "source": [
        "test_results = dict()\n",
        "test_results['horsepower_model'] = horsepower_model.evaluate(test_features['Horsepower'].values, test_labels, verbose=1)\n",
        "test_results['horsepower_model']"
      ],
      "execution_count": 42,
      "outputs": [
        {
          "output_type": "stream",
          "text": [
            "3/3 [==============================] - 0s 3ms/step - loss: 3.6436\n"
          ],
          "name": "stdout"
        },
        {
          "output_type": "execute_result",
          "data": {
            "text/plain": [
              "3.643554210662842"
            ]
          },
          "metadata": {
            "tags": []
          },
          "execution_count": 42
        }
      ]
    },
    {
      "cell_type": "code",
      "metadata": {
        "id": "YzXDXGucAGo0"
      },
      "source": [
        "x = tf.linspace(0.0, 250, 251)\n",
        "y = horsepower_model.predict(x)"
      ],
      "execution_count": 43,
      "outputs": []
    },
    {
      "cell_type": "code",
      "metadata": {
        "id": "-6zXljKIAh--"
      },
      "source": [
        "def plot_horsepower(x, y):\n",
        "  plt.scatter(train_features['Horsepower'], train_labels, label='Data')\n",
        "  plt.plot(x, y, color='k', label='Predictions')\n",
        "  plt.xlabel('Horsepower')\n",
        "  plt.ylabel('MPG')\n",
        "  plt.legend()"
      ],
      "execution_count": 44,
      "outputs": []
    },
    {
      "cell_type": "code",
      "metadata": {
        "colab": {
          "base_uri": "https://localhost:8080/",
          "height": 279
        },
        "id": "Y-ZGSLOTAi50",
        "outputId": "a46fbf5b-d38b-439a-c59a-52055d11b213"
      },
      "source": [
        "plot_horsepower(x, y)"
      ],
      "execution_count": 45,
      "outputs": [
        {
          "output_type": "display_data",
          "data": {
            "image/png": "[encoded data removed]",
            "text/plain": [
              "<Figure size 432x288 with 1 Axes>"
            ]
          },
          "metadata": {
            "tags": [],
            "needs_background": "light"
          }
        }
      ]
    },
    {
      "cell_type": "code",
      "metadata": {
        "id": "aJZM3fqRAlKo"
      },
      "source": [
        "linear_model = tf.keras.Sequential([\n",
        "    normalizer,\n",
        "    layers.Dense(units=1)\n",
        "])"
      ],
      "execution_count": 46,
      "outputs": []
    },
    {
      "cell_type": "code",
      "metadata": {
        "id": "6hyPD8fPAuu8"
      },
      "source": [
        "linear_model.compile(\n",
        "    optimizer=tf.optimizers.Adam(learning_rate=0.1),\n",
        "    loss='mean_absolute_error')"
      ],
      "execution_count": 47,
      "outputs": []
    },
    {
      "cell_type": "code",
      "metadata": {
        "colab": {
          "base_uri": "https://localhost:8080/"
        },
        "id": "WubQhzHTAy-m",
        "outputId": "de7edb88-d616-45f2-b96b-446c66017952"
      },
      "source": [
        "%%time\n",
        "history = linear_model.fit(\n",
        "    train_features, train_labels, \n",
        "    epochs=100,\n",
        "    # suppress logging\n",
        "    verbose=0,\n",
        "    # Calculate validation results on 20% of the training data\n",
        "    validation_split = 0.2)"
      ],
      "execution_count": 48,
      "outputs": [
        {
          "output_type": "stream",
          "text": [
            "CPU times: user 8.63 s, sys: 202 ms, total: 8.83 s\n",
            "Wall time: 8.53 s\n"
          ],
          "name": "stdout"
        }
      ]
    },
    {
      "cell_type": "code",
      "metadata": {
        "colab": {
          "base_uri": "https://localhost:8080/",
          "height": 283
        },
        "id": "1f3xG7q_A0PD",
        "outputId": "4a19b0e2-8f18-444e-d354-b3b88c3eb6b6"
      },
      "source": [
        "plot_loss(history)"
      ],
      "execution_count": 49,
      "outputs": [
        {
          "output_type": "display_data",
          "data": {
            "image/png": "[encoded data removed]",
            "text/plain": [
              "<Figure size 432x288 with 1 Axes>"
            ]
          },
          "metadata": {
            "tags": [],
            "needs_background": "light"
          }
        }
      ]
    },
    {
      "cell_type": "code",
      "metadata": {
        "id": "SgFlcFgGA6DM"
      },
      "source": [
        "test_results['linear_model'] = linear_model.evaluate(\n",
        "    test_features, test_labels, verbose=0)"
      ],
      "execution_count": 50,
      "outputs": []
    },
    {
      "cell_type": "markdown",
      "metadata": {
        "id": "yvJK68zsA9Q_"
      },
      "source": [
        "## Deep Neural Network"
      ]
    },
    {
      "cell_type": "code",
      "metadata": {
        "id": "S3IgHrL7BG6N"
      },
      "source": [
        "def build_and_compile_model(norm):\n",
        "  model = tf.keras.Sequential([\n",
        "      norm,\n",
        "      layers.Dense(64, activation='relu'),\n",
        "      layers.Dense(64, activation='relu'),\n",
        "      layers.Dense(1)\n",
        "  ])\n",
        "\n",
        "  model.compile(loss='mean_absolute_error',\n",
        "                optimizer=tf.keras.optimizers.Adam(0.001))\n",
        "  return model"
      ],
      "execution_count": 53,
      "outputs": []
    },
    {
      "cell_type": "code",
      "metadata": {
        "id": "5k4nKwENBHfT"
      },
      "source": [
        "dnn_horsepower_model = build_and_compile_model(horsepower_normalizer)"
      ],
      "execution_count": 54,
      "outputs": []
    },
    {
      "cell_type": "code",
      "metadata": {
        "colab": {
          "base_uri": "https://localhost:8080/"
        },
        "id": "UE9GKT5RBJ7o",
        "outputId": "a3088f79-b9c9-4084-eb9f-3cc040086a30"
      },
      "source": [
        "dnn_horsepower_model.summary()"
      ],
      "execution_count": 55,
      "outputs": [
        {
          "output_type": "stream",
          "text": [
            "Model: \"sequential_2\"\n",
            "_________________________________________________________________\n",
            "Layer (type)                 Output Shape              Param #   \n",
            "=================================================================\n",
            "normalization_2 (Normalizati (None, 1)                 3         \n",
            "_________________________________________________________________\n",
            "dense_2 (Dense)              (None, 64)                128       \n",
            "_________________________________________________________________\n",
            "dense_3 (Dense)              (None, 64)                4160      \n",
            "_________________________________________________________________\n",
            "dense_4 (Dense)              (None, 1)                 65        \n",
            "=================================================================\n",
            "Total params: 4,356\n",
            "Trainable params: 4,353\n",
            "Non-trainable params: 3\n",
            "_________________________________________________________________\n"
          ],
          "name": "stdout"
        }
      ]
    },
    {
      "cell_type": "code",
      "metadata": {
        "colab": {
          "base_uri": "https://localhost:8080/"
        },
        "id": "n5hh4RgrBTE7",
        "outputId": "12e2342d-c8bd-40db-a476-ed5dc62b8951"
      },
      "source": [
        "%%time\n",
        "history = dnn_horsepower_model.fit(\n",
        "    train_features['Horsepower'], train_labels,\n",
        "    validation_split=0.2,\n",
        "    verbose=0, epochs=100)"
      ],
      "execution_count": 56,
      "outputs": [
        {
          "output_type": "stream",
          "text": [
            "CPU times: user 8.78 s, sys: 204 ms, total: 8.99 s\n",
            "Wall time: 8.57 s\n"
          ],
          "name": "stdout"
        }
      ]
    },
    {
      "cell_type": "code",
      "metadata": {
        "colab": {
          "base_uri": "https://localhost:8080/",
          "height": 283
        },
        "id": "24FQujp2BVWs",
        "outputId": "d2137c16-d640-4605-ac82-94fdcb135258"
      },
      "source": [
        "plot_loss(history)"
      ],
      "execution_count": 57,
      "outputs": [
        {
          "output_type": "display_data",
          "data": {
            "image/png": "[encoded data removed]",
            "text/plain": [
              "<Figure size 432x288 with 1 Axes>"
            ]
          },
          "metadata": {
            "tags": [],
            "needs_background": "light"
          }
        }
      ]
    },
    {
      "cell_type": "code",
      "metadata": {
        "id": "Pr4p96A2BkiA"
      },
      "source": [
        "x = tf.linspace(0.0, 250, 251)\n",
        "y = dnn_horsepower_model.predict(x)"
      ],
      "execution_count": 58,
      "outputs": []
    },
    {
      "cell_type": "code",
      "metadata": {
        "colab": {
          "base_uri": "https://localhost:8080/",
          "height": 279
        },
        "id": "Wjj4FZzXBskC",
        "outputId": "4f2d1103-d398-4644-b617-bb56823d48c2"
      },
      "source": [
        "plot_horsepower(x, y)"
      ],
      "execution_count": 59,
      "outputs": [
        {
          "output_type": "display_data",
          "data": {
            "image/png": "[encoded data removed]",
            "text/plain": [
              "<Figure size 432x288 with 1 Axes>"
            ]
          },
          "metadata": {
            "tags": [],
            "needs_background": "light"
          }
        }
      ]
    },
    {
      "cell_type": "code",
      "metadata": {
        "id": "IS1MF4cBBt3l"
      },
      "source": [
        "test_results['dnn_horsepower_model'] = dnn_horsepower_model.evaluate(\n",
        "    test_features['Horsepower'], test_labels,\n",
        "    verbose=0)"
      ],
      "execution_count": 60,
      "outputs": []
    },
    {
      "cell_type": "markdown",
      "metadata": {
        "id": "v55orc9kBvtC"
      },
      "source": [
        "## Full Model"
      ]
    },
    {
      "cell_type": "code",
      "metadata": {
        "colab": {
          "base_uri": "https://localhost:8080/"
        },
        "id": "hrWQ1wXeBw4t",
        "outputId": "d3353da1-9027-4ec0-8f54-44ca062bf6f6"
      },
      "source": [
        "dnn_model = build_and_compile_model(normalizer)\n",
        "dnn_model.summary()"
      ],
      "execution_count": 61,
      "outputs": [
        {
          "output_type": "stream",
          "text": [
            "Model: \"sequential_3\"\n",
            "_________________________________________________________________\n",
            "Layer (type)                 Output Shape              Param #   \n",
            "=================================================================\n",
            "normalization (Normalization (None, 8)                 17        \n",
            "_________________________________________________________________\n",
            "dense_5 (Dense)              (None, 64)                576       \n",
            "_________________________________________________________________\n",
            "dense_6 (Dense)              (None, 64)                4160      \n",
            "_________________________________________________________________\n",
            "dense_7 (Dense)              (None, 1)                 65        \n",
            "=================================================================\n",
            "Total params: 4,818\n",
            "Trainable params: 4,801\n",
            "Non-trainable params: 17\n",
            "_________________________________________________________________\n"
          ],
          "name": "stdout"
        }
      ]
    },
    {
      "cell_type": "code",
      "metadata": {
        "colab": {
          "base_uri": "https://localhost:8080/"
        },
        "id": "JrvUZfOkBzN9",
        "outputId": "055c20f9-cc9e-4874-eb92-83614c76c450"
      },
      "source": [
        "%%time\n",
        "history = dnn_model.fit(\n",
        "    train_features, train_labels,\n",
        "    validation_split=0.2,\n",
        "    verbose=0, epochs=100)"
      ],
      "execution_count": 62,
      "outputs": [
        {
          "output_type": "stream",
          "text": [
            "CPU times: user 9 s, sys: 227 ms, total: 9.23 s\n",
            "Wall time: 8.79 s\n"
          ],
          "name": "stdout"
        }
      ]
    },
    {
      "cell_type": "code",
      "metadata": {
        "colab": {
          "base_uri": "https://localhost:8080/",
          "height": 283
        },
        "id": "5JVGd1PEB19O",
        "outputId": "961f4a96-a6d7-40e4-fe69-c3280df06365"
      },
      "source": [
        "plot_loss(history)"
      ],
      "execution_count": 63,
      "outputs": [
        {
          "output_type": "display_data",
          "data": {
            "image/png": "[encoded data removed]",
            "text/plain": [
              "<Figure size 432x288 with 1 Axes>"
            ]
          },
          "metadata": {
            "tags": [],
            "needs_background": "light"
          }
        }
      ]
    },
    {
      "cell_type": "code",
      "metadata": {
        "id": "dMxT2vQtB4C4"
      },
      "source": [
        "test_results['dnn_model'] = dnn_model.evaluate(test_features, test_labels, verbose=0)"
      ],
      "execution_count": 64,
      "outputs": []
    },
    {
      "cell_type": "code",
      "metadata": {
        "colab": {
          "base_uri": "https://localhost:8080/",
          "height": 173
        },
        "id": "UeX3-d40B6ex",
        "outputId": "4580db5f-7830-4330-a236-72a32443bd11"
      },
      "source": [
        "pd.DataFrame(test_results, index=['Mean absolute error [MPG]']).T"
      ],
      "execution_count": 65,
      "outputs": [
        {
          "output_type": "execute_result",
          "data": {
            "text/html": [
              "<div>\n",
              "<style scoped>\n",
              "    .dataframe tbody tr th:only-of-type {\n",
              "        vertical-align: middle;\n",
              "    }\n",
              "\n",
              "    .dataframe tbody tr th {\n",
              "        vertical-align: top;\n",
              "    }\n",
              "\n",
              "    .dataframe thead th {\n",
              "        text-align: right;\n",
              "    }\n",
              "</style>\n",
              "<table border=\"1\" class=\"dataframe\">\n",
              "  <thead>\n",
              "    <tr style=\"text-align: right;\">\n",
              "      <th></th>\n",
              "      <th>Mean absolute error [MPG]</th>\n",
              "    </tr>\n",
              "  </thead>\n",
              "  <tbody>\n",
              "    <tr>\n",
              "      <th>horsepower_model</th>\n",
              "      <td>3.643554</td>\n",
              "    </tr>\n",
              "    <tr>\n",
              "      <th>linear_model</th>\n",
              "      <td>2.453471</td>\n",
              "    </tr>\n",
              "    <tr>\n",
              "      <th>dnn_horsepower_model</th>\n",
              "      <td>2.902786</td>\n",
              "    </tr>\n",
              "    <tr>\n",
              "      <th>dnn_model</th>\n",
              "      <td>1.732927</td>\n",
              "    </tr>\n",
              "  </tbody>\n",
              "</table>\n",
              "</div>"
            ],
            "text/plain": [
              "                      Mean absolute error [MPG]\n",
              "horsepower_model                       3.643554\n",
              "linear_model                           2.453471\n",
              "dnn_horsepower_model                   2.902786\n",
              "dnn_model                              1.732927"
            ]
          },
          "metadata": {
            "tags": []
          },
          "execution_count": 65
        }
      ]
    },
    {
      "cell_type": "code",
      "metadata": {
        "colab": {
          "base_uri": "https://localhost:8080/",
          "height": 283
        },
        "id": "Ymq8V5szB7rx",
        "outputId": "cc587440-ae21-416c-c19f-91d69e059abb"
      },
      "source": [
        "test_predictions = dnn_model.predict(test_features).flatten()\n",
        "\n",
        "a = plt.axes(aspect='equal')\n",
        "plt.scatter(test_labels, test_predictions)\n",
        "plt.xlabel('True Values [MPG]')\n",
        "plt.ylabel('Predictions [MPG]')\n",
        "lims = [0, 50]\n",
        "plt.xlim(lims)\n",
        "plt.ylim(lims)\n",
        "_ = plt.plot(lims, lims)"
      ],
      "execution_count": 66,
      "outputs": [
        {
          "output_type": "display_data",
          "data": {
            "image/png": "[encoded data removed]",
            "text/plain": [
              "<Figure size 432x288 with 1 Axes>"
            ]
          },
          "metadata": {
            "tags": [],
            "needs_background": "light"
          }
        }
      ]
    },
    {
      "cell_type": "code",
      "metadata": {
        "colab": {
          "base_uri": "https://localhost:8080/",
          "height": 279
        },
        "id": "zwAThb3ACAh2",
        "outputId": "19b31c1d-4026-474c-a7f2-6f61559cbf48"
      },
      "source": [
        "error = test_predictions - test_labels\n",
        "plt.hist(error, bins=25)\n",
        "plt.xlabel('Prediction Error [MPG]')\n",
        "_ = plt.ylabel('Count')"
      ],
      "execution_count": 67,
      "outputs": [
        {
          "output_type": "display_data",
          "data": {
            "image/png": "[encoded data removed]",
            "text/plain": [
              "<Figure size 432x288 with 1 Axes>"
            ]
          },
          "metadata": {
            "tags": [],
            "needs_background": "light"
          }
        }
      ]
    },
    {
      "cell_type": "code",
      "metadata": {
        "colab": {
          "base_uri": "https://localhost:8080/"
        },
        "id": "Ds3ixiWECDqS",
        "outputId": "a8aba642-c0cc-4040-ed7a-c8597e09e25d"
      },
      "source": [
        "dnn_model.save('dnn_model')"
      ],
      "execution_count": 68,
      "outputs": [
        {
          "output_type": "stream",
          "text": [
            "INFO:tensorflow:Assets written to: dnn_model/assets\n"
          ],
          "name": "stdout"
        }
      ]
    },
    {
      "cell_type": "code",
      "metadata": {
        "id": "JjG46jZtCFX2"
      },
      "source": [
        "reloaded = tf.keras.models.load_model('dnn_model')\n",
        "\n",
        "test_results['reloaded'] = reloaded.evaluate(\n",
        "    test_features, test_labels, verbose=0)"
      ],
      "execution_count": 69,
      "outputs": []
    },
    {
      "cell_type": "code",
      "metadata": {
        "colab": {
          "base_uri": "https://localhost:8080/",
          "height": 204
        },
        "id": "_26pyy2hCIIc",
        "outputId": "7c93e6e4-0914-47f6-931e-9c5f1643293e"
      },
      "source": [
        "pd.DataFrame(test_results, index=['Mean absolute error [MPG]']).T"
      ],
      "execution_count": 70,
      "outputs": [
        {
          "output_type": "execute_result",
          "data": {
            "text/html": [
              "<div>\n",
              "<style scoped>\n",
              "    .dataframe tbody tr th:only-of-type {\n",
              "        vertical-align: middle;\n",
              "    }\n",
              "\n",
              "    .dataframe tbody tr th {\n",
              "        vertical-align: top;\n",
              "    }\n",
              "\n",
              "    .dataframe thead th {\n",
              "        text-align: right;\n",
              "    }\n",
              "</style>\n",
              "<table border=\"1\" class=\"dataframe\">\n",
              "  <thead>\n",
              "    <tr style=\"text-align: right;\">\n",
              "      <th></th>\n",
              "      <th>Mean absolute error [MPG]</th>\n",
              "    </tr>\n",
              "  </thead>\n",
              "  <tbody>\n",
              "    <tr>\n",
              "      <th>horsepower_model</th>\n",
              "      <td>3.643554</td>\n",
              "    </tr>\n",
              "    <tr>\n",
              "      <th>linear_model</th>\n",
              "      <td>2.453471</td>\n",
              "    </tr>\n",
              "    <tr>\n",
              "      <th>dnn_horsepower_model</th>\n",
              "      <td>2.902786</td>\n",
              "    </tr>\n",
              "    <tr>\n",
              "      <th>dnn_model</th>\n",
              "      <td>1.732927</td>\n",
              "    </tr>\n",
              "    <tr>\n",
              "      <th>reloaded</th>\n",
              "      <td>1.732927</td>\n",
              "    </tr>\n",
              "  </tbody>\n",
              "</table>\n",
              "</div>"
            ],
            "text/plain": [
              "                      Mean absolute error [MPG]\n",
              "horsepower_model                       3.643554\n",
              "linear_model                           2.453471\n",
              "dnn_horsepower_model                   2.902786\n",
              "dnn_model                              1.732927\n",
              "reloaded                               1.732927"
            ]
          },
          "metadata": {
            "tags": []
          },
          "execution_count": 70
        }
      ]
    }
  ]
}
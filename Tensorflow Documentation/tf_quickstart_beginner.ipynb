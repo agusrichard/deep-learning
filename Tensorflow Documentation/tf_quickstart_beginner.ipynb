{
  "nbformat": 4,
  "nbformat_minor": 0,
  "metadata": {
    "colab": {
      "name": "tf_quickstart_beginner.ipynb",
      "provenance": [],
      "collapsed_sections": []
    },
    "kernelspec": {
      "name": "python3",
      "display_name": "Python 3"
    }
  },
  "cells": [
    {
      "cell_type": "markdown",
      "metadata": {
        "id": "Bkh2gRUE0Ny9"
      },
      "source": [
        "# Tensorflow Quick Start Beginner"
      ]
    },
    {
      "cell_type": "code",
      "metadata": {
        "id": "d33gGVVNk6Hq"
      },
      "source": [
        "import tensorflow as tf\n",
        "import numpy as np\n",
        "import pandas as pd"
      ],
      "execution_count": 1,
      "outputs": []
    },
    {
      "cell_type": "code",
      "metadata": {
        "colab": {
          "base_uri": "https://localhost:8080/"
        },
        "id": "nTO7m1UM_zrP",
        "outputId": "d787457e-a03c-4e86-e855-5e9e837c36aa"
      },
      "source": [
        "mnist = tf.keras.datasets.mnist\n",
        "print(mnist)"
      ],
      "execution_count": 2,
      "outputs": [
        {
          "output_type": "stream",
          "text": [
            "<module 'tensorflow.keras.datasets.mnist' from '/usr/local/lib/python3.6/dist-packages/tensorflow/keras/datasets/mnist/__init__.py'>\n"
          ],
          "name": "stdout"
        }
      ]
    },
    {
      "cell_type": "code",
      "metadata": {
        "colab": {
          "base_uri": "https://localhost:8080/"
        },
        "id": "_mNCw_gDAZWM",
        "outputId": "86bb456e-ff4b-4d1a-9b3d-3e25e3722620"
      },
      "source": [
        "(X_train, y_train), (X_test, y_test) = mnist.load_data()\n",
        "X_train, X_test = X_train / 255, X_test / 255"
      ],
      "execution_count": 4,
      "outputs": [
        {
          "output_type": "stream",
          "text": [
            "Downloading data from https://storage.googleapis.com/tensorflow/tf-keras-datasets/mnist.npz\n",
            "11493376/11490434 [==============================] - 0s 0us/step\n"
          ],
          "name": "stdout"
        }
      ]
    },
    {
      "cell_type": "code",
      "metadata": {
        "id": "7ahad-RB_7Kn"
      },
      "source": [
        "model = tf.keras.models.Sequential([\n",
        "    tf.keras.layers.Flatten(input_shape=[28, 28]),\n",
        "    tf.keras.layers.Dense(128, activation='relu'),\n",
        "    tf.keras.layers.Dropout(0.2),\n",
        "    tf.keras.layers.Dense(10)\n",
        "])"
      ],
      "execution_count": 3,
      "outputs": []
    },
    {
      "cell_type": "code",
      "metadata": {
        "colab": {
          "base_uri": "https://localhost:8080/"
        },
        "id": "7q_WBq7xAUnW",
        "outputId": "1b8842ad-0e83-4886-f984-73988a727978"
      },
      "source": [
        "predictions = model(X_train[:1]).numpy()\n",
        "predictions"
      ],
      "execution_count": 6,
      "outputs": [
        {
          "output_type": "execute_result",
          "data": {
            "text/plain": [
              "array([[ 0.16309488, -0.02382639,  0.38048908,  0.10963561, -0.26838654,\n",
              "        -0.07074537, -0.33657047, -0.2743826 ,  0.05817072,  0.00916373]],\n",
              "      dtype=float32)"
            ]
          },
          "metadata": {
            "tags": []
          },
          "execution_count": 6
        }
      ]
    },
    {
      "cell_type": "code",
      "metadata": {
        "colab": {
          "base_uri": "https://localhost:8080/"
        },
        "id": "vCc_BH-zAvns",
        "outputId": "2754c390-9e13-4a07-ebf3-afb4d17cd35e"
      },
      "source": [
        "tf.nn.softmax(predictions).numpy()"
      ],
      "execution_count": 7,
      "outputs": [
        {
          "output_type": "execute_result",
          "data": {
            "text/plain": [
              "array([[0.11804365, 0.09791827, 0.14670865, 0.11189884, 0.0766748 ,\n",
              "        0.09343016, 0.07162106, 0.07621642, 0.10628565, 0.10120248]],\n",
              "      dtype=float32)"
            ]
          },
          "metadata": {
            "tags": []
          },
          "execution_count": 7
        }
      ]
    },
    {
      "cell_type": "code",
      "metadata": {
        "colab": {
          "base_uri": "https://localhost:8080/"
        },
        "id": "_GTsU71uB6Af",
        "outputId": "f9759029-c63c-4e5f-8b1d-b3539b02361e"
      },
      "source": [
        "loss_fn = tf.keras.losses.SparseCategoricalCrossentropy(from_logits=True)\n",
        "loss_fn"
      ],
      "execution_count": 8,
      "outputs": [
        {
          "output_type": "execute_result",
          "data": {
            "text/plain": [
              "<tensorflow.python.keras.losses.SparseCategoricalCrossentropy at 0x7f3e2d68c7b8>"
            ]
          },
          "metadata": {
            "tags": []
          },
          "execution_count": 8
        }
      ]
    },
    {
      "cell_type": "code",
      "metadata": {
        "colab": {
          "base_uri": "https://localhost:8080/"
        },
        "id": "hym1xioeC7GA",
        "outputId": "3012071a-78a0-4722-c154-47f311d4bb7b"
      },
      "source": [
        "loss_fn(y_train[:1], predictions).numpy()"
      ],
      "execution_count": 9,
      "outputs": [
        {
          "output_type": "execute_result",
          "data": {
            "text/plain": [
              "2.370541"
            ]
          },
          "metadata": {
            "tags": []
          },
          "execution_count": 9
        }
      ]
    },
    {
      "cell_type": "code",
      "metadata": {
        "colab": {
          "base_uri": "https://localhost:8080/"
        },
        "id": "yDPvR_BdETh1",
        "outputId": "9592078d-b237-417c-aa50-ceb5b0dcda06"
      },
      "source": [
        "y_train[:1]"
      ],
      "execution_count": 10,
      "outputs": [
        {
          "output_type": "execute_result",
          "data": {
            "text/plain": [
              "array([5], dtype=uint8)"
            ]
          },
          "metadata": {
            "tags": []
          },
          "execution_count": 10
        }
      ]
    },
    {
      "cell_type": "code",
      "metadata": {
        "colab": {
          "base_uri": "https://localhost:8080/"
        },
        "id": "PccFxE7sEWUO",
        "outputId": "53f5f61b-23a8-4b16-fdc5-407bf5207873"
      },
      "source": [
        "predictions"
      ],
      "execution_count": 11,
      "outputs": [
        {
          "output_type": "execute_result",
          "data": {
            "text/plain": [
              "array([[ 0.16309488, -0.02382639,  0.38048908,  0.10963561, -0.26838654,\n",
              "        -0.07074537, -0.33657047, -0.2743826 ,  0.05817072,  0.00916373]],\n",
              "      dtype=float32)"
            ]
          },
          "metadata": {
            "tags": []
          },
          "execution_count": 11
        }
      ]
    },
    {
      "cell_type": "code",
      "metadata": {
        "id": "YAE75YIlEZGG"
      },
      "source": [
        "model.compile(optimizer='adam', loss=loss_fn, metrics=['accuracy'])"
      ],
      "execution_count": 12,
      "outputs": []
    },
    {
      "cell_type": "code",
      "metadata": {
        "colab": {
          "base_uri": "https://localhost:8080/"
        },
        "id": "2Nn3mRLXElAw",
        "outputId": "37f9d00b-c4f4-4bc9-9e29-eb1f03137829"
      },
      "source": [
        "model.fit(X_train, y_train, epochs=5)"
      ],
      "execution_count": 13,
      "outputs": [
        {
          "output_type": "stream",
          "text": [
            "Epoch 1/5\n",
            "1875/1875 [==============================] - 4s 2ms/step - loss: 0.4859 - accuracy: 0.8580\n",
            "Epoch 2/5\n",
            "1875/1875 [==============================] - 3s 2ms/step - loss: 0.1508 - accuracy: 0.9561\n",
            "Epoch 3/5\n",
            "1875/1875 [==============================] - 3s 2ms/step - loss: 0.1089 - accuracy: 0.9672\n",
            "Epoch 4/5\n",
            "1875/1875 [==============================] - 3s 2ms/step - loss: 0.0855 - accuracy: 0.9745\n",
            "Epoch 5/5\n",
            "1875/1875 [==============================] - 3s 2ms/step - loss: 0.0737 - accuracy: 0.9766\n"
          ],
          "name": "stdout"
        },
        {
          "output_type": "execute_result",
          "data": {
            "text/plain": [
              "<tensorflow.python.keras.callbacks.History at 0x7f3e28fbe240>"
            ]
          },
          "metadata": {
            "tags": []
          },
          "execution_count": 13
        }
      ]
    },
    {
      "cell_type": "code",
      "metadata": {
        "colab": {
          "base_uri": "https://localhost:8080/"
        },
        "id": "2PjvQy6bEwyL",
        "outputId": "b975553f-046f-4beb-d7e4-f8bcbe0eb1e0"
      },
      "source": [
        "model.evaluate(X_test, y_test, verbose=2)"
      ],
      "execution_count": 14,
      "outputs": [
        {
          "output_type": "stream",
          "text": [
            "313/313 - 0s - loss: 0.0728 - accuracy: 0.9774\n"
          ],
          "name": "stdout"
        },
        {
          "output_type": "execute_result",
          "data": {
            "text/plain": [
              "[0.07277663797140121, 0.977400004863739]"
            ]
          },
          "metadata": {
            "tags": []
          },
          "execution_count": 14
        }
      ]
    },
    {
      "cell_type": "code",
      "metadata": {
        "id": "peeQLNQkFHEL"
      },
      "source": [
        "probability_model = tf.keras.models.Sequential([\n",
        "    model,\n",
        "    tf.keras.layers.Softmax()\n",
        "])"
      ],
      "execution_count": 16,
      "outputs": []
    },
    {
      "cell_type": "code",
      "metadata": {
        "colab": {
          "base_uri": "https://localhost:8080/"
        },
        "id": "OMbOjNCNFVwW",
        "outputId": "05af52ec-4d4d-40b4-b6fd-0cb74dcf61d7"
      },
      "source": [
        "probability_model.compile(optimizer='adam', loss=loss_fn, metrics=['accuracy'])\n",
        "probability_model.fit(X_train, y_train)"
      ],
      "execution_count": 17,
      "outputs": [
        {
          "output_type": "stream",
          "text": [
            "1875/1875 [==============================] - 4s 2ms/step - loss: 1.4903 - accuracy: 0.9775\n"
          ],
          "name": "stdout"
        },
        {
          "output_type": "execute_result",
          "data": {
            "text/plain": [
              "<tensorflow.python.keras.callbacks.History at 0x7f3e269596d8>"
            ]
          },
          "metadata": {
            "tags": []
          },
          "execution_count": 17
        }
      ]
    },
    {
      "cell_type": "code",
      "metadata": {
        "colab": {
          "base_uri": "https://localhost:8080/"
        },
        "id": "5CQ9Au75FotN",
        "outputId": "929e8f88-4773-4cf6-a680-048866b0a28d"
      },
      "source": [
        "probability_model(X_test[:5]).numpy()"
      ],
      "execution_count": 19,
      "outputs": [
        {
          "output_type": "execute_result",
          "data": {
            "text/plain": [
              "array([[2.20596053e-09, 7.04486518e-14, 1.85368432e-08, 7.24242568e-07,\n",
              "        1.10010426e-15, 2.36467823e-09, 6.70315363e-18, 9.99999285e-01,\n",
              "        1.48387036e-09, 5.81891957e-09],\n",
              "       [2.22223472e-11, 1.81587808e-07, 9.99999762e-01, 3.93610300e-08,\n",
              "        5.78100940e-21, 1.35186946e-08, 5.14320357e-11, 6.13131654e-19,\n",
              "        4.90651186e-10, 5.88021191e-19],\n",
              "       [3.42239548e-09, 9.99964237e-01, 7.52695905e-06, 4.39968034e-07,\n",
              "        2.17086836e-07, 2.54888107e-07, 2.08033200e-07, 2.31200374e-05,\n",
              "        3.89850493e-06, 6.93745283e-10],\n",
              "       [1.00000000e+00, 1.47796479e-17, 3.25629768e-09, 2.69667448e-12,\n",
              "        4.71989781e-10, 6.72352538e-12, 3.92437229e-08, 1.05287743e-08,\n",
              "        1.55659209e-12, 2.91109248e-09],\n",
              "       [2.30007990e-09, 4.57394446e-15, 2.44250797e-09, 4.65813048e-11,\n",
              "        9.99418139e-01, 1.22777075e-11, 2.32708586e-09, 1.75791243e-07,\n",
              "        1.14954157e-09, 5.81723871e-04]], dtype=float32)"
            ]
          },
          "metadata": {
            "tags": []
          },
          "execution_count": 19
        }
      ]
    },
    {
      "cell_type": "code",
      "metadata": {
        "colab": {
          "base_uri": "https://localhost:8080/"
        },
        "id": "kWeuuZecFuwE",
        "outputId": "37467489-4381-4e7d-9bcb-cbc7327acee5"
      },
      "source": [
        "np.argmax(probability_model(X_test[:5]).numpy(), axis=1)"
      ],
      "execution_count": 23,
      "outputs": [
        {
          "output_type": "execute_result",
          "data": {
            "text/plain": [
              "array([7, 2, 1, 0, 4])"
            ]
          },
          "metadata": {
            "tags": []
          },
          "execution_count": 23
        }
      ]
    }
  ]
}
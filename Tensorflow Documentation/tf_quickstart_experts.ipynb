{
  "nbformat": 4,
  "nbformat_minor": 0,
  "metadata": {
    "colab": {
      "name": "tf_quickstart_experts.ipynb",
      "provenance": [],
      "collapsed_sections": []
    },
    "kernelspec": {
      "name": "python3",
      "display_name": "Python 3"
    }
  },
  "cells": [
    {
      "cell_type": "markdown",
      "metadata": {
        "id": "dv2qn6YLGQkH"
      },
      "source": [
        "# Tensorflow 2 quickstart for Experts"
      ]
    },
    {
      "cell_type": "code",
      "metadata": {
        "colab": {
          "base_uri": "https://localhost:8080/"
        },
        "id": "VuWNIuHJGdDj",
        "outputId": "162d0266-152a-4e82-d838-b66c18be42dc"
      },
      "source": [
        "import numpy as np\n",
        "import pandas as pd\n",
        "import tensorflow as tf\n",
        "print(tf.__version__)"
      ],
      "execution_count": 1,
      "outputs": [
        {
          "output_type": "stream",
          "text": [
            "2.4.0\n"
          ],
          "name": "stdout"
        }
      ]
    },
    {
      "cell_type": "code",
      "metadata": {
        "id": "lbLTQ2V_Gljl"
      },
      "source": [
        "(X_train, y_train), (X_test, y_test) = tf.keras.datasets.mnist.load_data()\n",
        "X_train, X_test = X_train / 255.0, X_test / 255.0"
      ],
      "execution_count": 31,
      "outputs": []
    },
    {
      "cell_type": "code",
      "metadata": {
        "colab": {
          "base_uri": "https://localhost:8080/"
        },
        "id": "zhv2q-3pGv_v",
        "outputId": "fa895f50-1c63-48c1-c50a-e1a6d554c0e7"
      },
      "source": [
        "print(X_train.shape)\n",
        "print(y_train.shape)\n",
        "print(X_test.shape)\n",
        "print(y_test.shape)"
      ],
      "execution_count": 32,
      "outputs": [
        {
          "output_type": "stream",
          "text": [
            "(60000, 28, 28)\n",
            "(60000,)\n",
            "(10000, 28, 28)\n",
            "(10000,)\n"
          ],
          "name": "stdout"
        }
      ]
    },
    {
      "cell_type": "code",
      "metadata": {
        "id": "fWxZxUbpVtv2"
      },
      "source": [
        "X_train = X_train[..., tf.newaxis].astype(\"float32\")\n",
        "X_test = X_test[..., tf.newaxis].astype(\"float32\")"
      ],
      "execution_count": 33,
      "outputs": []
    },
    {
      "cell_type": "code",
      "metadata": {
        "colab": {
          "base_uri": "https://localhost:8080/"
        },
        "id": "OKnpZGSqWBCP",
        "outputId": "76ab9f14-8153-455e-f254-a4c51aba0c34"
      },
      "source": [
        "print(X_train.shape)\n",
        "print(y_train.shape)\n",
        "print(X_test.shape)\n",
        "print(y_test.shape)"
      ],
      "execution_count": 34,
      "outputs": [
        {
          "output_type": "stream",
          "text": [
            "(60000, 28, 28, 1)\n",
            "(60000,)\n",
            "(10000, 28, 28, 1)\n",
            "(10000,)\n"
          ],
          "name": "stdout"
        }
      ]
    },
    {
      "cell_type": "code",
      "metadata": {
        "colab": {
          "base_uri": "https://localhost:8080/"
        },
        "id": "I95yeYDsG2LN",
        "outputId": "ac033ddc-320d-4556-9b98-f813f9b3be71"
      },
      "source": [
        "dataset = tf.data.Dataset.from_tensor_slices(np.arange(0, 9).reshape(3, 3))\n",
        "for element in dataset:\n",
        "    print(type(element))\n",
        "    print(element)"
      ],
      "execution_count": 40,
      "outputs": [
        {
          "output_type": "stream",
          "text": [
            "<class 'tensorflow.python.framework.ops.EagerTensor'>\n",
            "tf.Tensor([0 1 2], shape=(3,), dtype=int64)\n",
            "<class 'tensorflow.python.framework.ops.EagerTensor'>\n",
            "tf.Tensor([3 4 5], shape=(3,), dtype=int64)\n",
            "<class 'tensorflow.python.framework.ops.EagerTensor'>\n",
            "tf.Tensor([6 7 8], shape=(3,), dtype=int64)\n"
          ],
          "name": "stdout"
        }
      ]
    },
    {
      "cell_type": "code",
      "metadata": {
        "id": "iraI4IxwInee"
      },
      "source": [
        "train_ds = tf.data.Dataset.from_tensor_slices(\n",
        "    (X_train, y_train)).shuffle(10000).batch(32)"
      ],
      "execution_count": 41,
      "outputs": []
    },
    {
      "cell_type": "code",
      "metadata": {
        "id": "IoFesVg_KRva"
      },
      "source": [
        "test_ds = tf.data.Dataset.from_tensor_slices(\n",
        "    (X_train, y_train)).batch(32)"
      ],
      "execution_count": 42,
      "outputs": []
    },
    {
      "cell_type": "markdown",
      "metadata": {
        "id": "Dc3jc2JeKnoj"
      },
      "source": [
        "## Model Definition"
      ]
    },
    {
      "cell_type": "code",
      "metadata": {
        "id": "FlGVu55xKrf6"
      },
      "source": [
        "from tensorflow.keras.models import Model\n",
        "from tensorflow.keras.layers import Conv2D, Flatten, Dense\n",
        "\n",
        "class MyModel(Model):\n",
        "    def __init__(self):\n",
        "        super(MyModel, self).__init__()\n",
        "        self.conv1 = Conv2D(32, 3, activation='relu')\n",
        "        self.flatten = Flatten()\n",
        "        self.d1 = Dense(128, activation='relu')\n",
        "        self.d2 = Dense(10)\n",
        "\n",
        "    def call(self, x):\n",
        "        x = self.conv1(x)\n",
        "        x = self.flatten(x)\n",
        "        x = self.d1(x)\n",
        "        return self.d2(x)\n"
      ],
      "execution_count": 43,
      "outputs": []
    },
    {
      "cell_type": "code",
      "metadata": {
        "id": "Elq0ICq1L2Md"
      },
      "source": [
        "model = MyModel()"
      ],
      "execution_count": 44,
      "outputs": []
    },
    {
      "cell_type": "code",
      "metadata": {
        "id": "CkQ9DPqjL3gm"
      },
      "source": [
        "loss_object = tf.keras.losses.SparseCategoricalCrossentropy(from_logits=True)"
      ],
      "execution_count": 45,
      "outputs": []
    },
    {
      "cell_type": "code",
      "metadata": {
        "id": "WWLWC_TPNEqG"
      },
      "source": [
        "optimizer = tf.keras.optimizers.Adam()"
      ],
      "execution_count": 46,
      "outputs": []
    },
    {
      "cell_type": "code",
      "metadata": {
        "id": "kBAMq38bNTu0"
      },
      "source": [
        "train_loss = tf.keras.metrics.Mean(name='train_loss')\n",
        "train_accuracy = tf.keras.metrics.SparseCategoricalAccuracy(name='train_accuracy')\n",
        "\n",
        "test_loss = tf.keras.metrics.Mean(name='test_loss')\n",
        "test_accuracy = tf.keras.metrics.SparseCategoricalAccuracy(name='test_accuracy')"
      ],
      "execution_count": 47,
      "outputs": []
    },
    {
      "cell_type": "markdown",
      "metadata": {
        "id": "CdiLZl1tUfZy"
      },
      "source": [
        "## Train the model"
      ]
    },
    {
      "cell_type": "code",
      "metadata": {
        "id": "deaPnVWzNxIQ"
      },
      "source": [
        "@tf.function\n",
        "def train_step(images, labels):\n",
        "    with tf.GradientTape() as tape:\n",
        "        predictions = model(images, training=True)\n",
        "        loss = loss_object(labels, predictions)\n",
        "    gradients = tape.gradient(loss, model.trainable_variables)\n",
        "    optimizer.apply_gradients(zip(gradients, model.trainable_variables))\n",
        "\n",
        "    train_loss(loss)\n",
        "    train_accuracy(labels, predictions)"
      ],
      "execution_count": 48,
      "outputs": []
    },
    {
      "cell_type": "markdown",
      "metadata": {
        "id": "T_4vVD1ETsoh"
      },
      "source": [
        "## Test the model"
      ]
    },
    {
      "cell_type": "code",
      "metadata": {
        "id": "_7iacTAXUibz"
      },
      "source": [
        "@tf.function\n",
        "def test_step(images, labels):\n",
        "    predictions = model(images, training=False)\n",
        "    loss = loss_object(labels, predictions)\n",
        "\n",
        "    test_loss(loss)\n",
        "    test_accuracy(labels, predictions)"
      ],
      "execution_count": 49,
      "outputs": []
    },
    {
      "cell_type": "code",
      "metadata": {
        "colab": {
          "base_uri": "https://localhost:8080/"
        },
        "id": "eT-AENgQU7d2",
        "outputId": "27e2ad90-b31e-4cdb-a903-6da5d6430033"
      },
      "source": [
        "EPOCHS = 10\n",
        "\n",
        "for epoch in range(EPOCHS):\n",
        "    train_loss.reset_states()\n",
        "    test_loss.reset_states()\n",
        "    train_accuracy.reset_states()\n",
        "    test_accuracy.reset_states()\n",
        "\n",
        "    for images, labels in train_ds:\n",
        "        train_step(images, labels)\n",
        "    \n",
        "    for test_images, test_labels in test_ds:\n",
        "        test_step(test_images, test_labels)\n",
        "\n",
        "    print(\n",
        "        f'Epoch {epoch + 1}, '\n",
        "        f'Loss: {train_loss.result()}, '\n",
        "        f'Accuracy: {train_accuracy.result() * 100}, '\n",
        "        f'Test Loss: {test_loss.result()}, '\n",
        "        f'Test Accuracy: {test_accuracy.result() * 100}'\n",
        "    )"
      ],
      "execution_count": 50,
      "outputs": [
        {
          "output_type": "stream",
          "text": [
            "Epoch 1, Loss: 0.1330946832895279, Accuracy: 95.96666717529297, Test Loss: 0.04031111299991608, Test Accuracy: 98.83833312988281\n",
            "Epoch 2, Loss: 0.041578397154808044, Accuracy: 98.68999481201172, Test Loss: 0.0215348731726408, Test Accuracy: 99.34832763671875\n",
            "Epoch 3, Loss: 0.022517668083310127, Accuracy: 99.2683334350586, Test Loss: 0.012359843589365482, Test Accuracy: 99.61166381835938\n",
            "Epoch 4, Loss: 0.013063706457614899, Accuracy: 99.57833099365234, Test Loss: 0.008732064627110958, Test Accuracy: 99.72166442871094\n",
            "Epoch 5, Loss: 0.008551204577088356, Accuracy: 99.71666717529297, Test Loss: 0.004480674862861633, Test Accuracy: 99.86499786376953\n",
            "Epoch 6, Loss: 0.0076472884975373745, Accuracy: 99.7266616821289, Test Loss: 0.007898394949734211, Test Accuracy: 99.74832916259766\n",
            "Epoch 7, Loss: 0.0046086544170975685, Accuracy: 99.85832977294922, Test Loss: 0.0013280868297442794, Test Accuracy: 99.96333312988281\n",
            "Epoch 8, Loss: 0.004008762072771788, Accuracy: 99.85166931152344, Test Loss: 0.0008449018350802362, Test Accuracy: 99.96833038330078\n",
            "Epoch 9, Loss: 0.004119060467928648, Accuracy: 99.86333465576172, Test Loss: 0.0027199897449463606, Test Accuracy: 99.91500091552734\n",
            "Epoch 10, Loss: 0.0030921483412384987, Accuracy: 99.89666748046875, Test Loss: 0.02312343381345272, Test Accuracy: 99.37000274658203\n"
          ],
          "name": "stdout"
        }
      ]
    }
  ]
}